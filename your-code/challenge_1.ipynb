{
  "cells": [
    {
      "cell_type": "markdown",
      "metadata": {
        "id": "h3ayzDvrybnM"
      },
      "source": [
        "## Challenge 1: Tuples\n",
        "\n",
        "#### Do you know you can create tuples with only one element?\n",
        "\n",
        "**In the cell below, define a variable `tup` with a single element `\"I\"`.**\n",
        "\n",
        "*Hint: you need to add a comma (`,`) after the single element.*"
      ]
    },
    {
      "cell_type": "code",
      "execution_count": null,
      "metadata": {
        "id": "ce4eC8seybnP"
      },
      "outputs": [],
      "source": [
        "tup = (\"I\", )\n"
      ]
    },
    {
      "cell_type": "markdown",
      "metadata": {
        "id": "73B7pNDLybnQ"
      },
      "source": [
        "#### Print the type of `tup`.\n",
        "\n",
        "Make sure its type is correct (i.e. *tuple* instead of *str*)."
      ]
    },
    {
      "cell_type": "code",
      "execution_count": null,
      "metadata": {
        "colab": {
          "base_uri": "https://localhost:8080/"
        },
        "id": "HJuEABiCybnQ",
        "outputId": "487a326b-2792-4242-f752-a489c36b3906"
      },
      "outputs": [
        {
          "output_type": "execute_result",
          "data": {
            "text/plain": [
              "tuple"
            ]
          },
          "metadata": {},
          "execution_count": 18
        }
      ],
      "source": [
        "type(tup)"
      ]
    },
    {
      "cell_type": "markdown",
      "metadata": {
        "id": "0DnEpG3lybnQ"
      },
      "source": [
        "#### Now try to append the following elements to `tup`.\n",
        "\n",
        "Are you able to do it? Explain.\n",
        "\n",
        "```\n",
        "\"r\", \"o\", \"n\", \"h\", \"a\", \"c\", \"k',\n",
        "```"
      ]
    },
    {
      "cell_type": "code",
      "execution_count": null,
      "metadata": {
        "colab": {
          "base_uri": "https://localhost:8080/"
        },
        "id": "m63pUYj8ybnQ",
        "outputId": "8be80406-690a-4fa0-a4bb-df0d9edf9128"
      },
      "outputs": [
        {
          "output_type": "stream",
          "name": "stdout",
          "text": [
            "('I', 'r', 'o', 'n', 'h', 'a', 'c', 'k')\n"
          ]
        }
      ],
      "source": [
        "tup = tup + (\"r\", \"o\", \"n\", \"h\", \"a\", \"c\", \"k\")\n",
        "print(tup)\n",
        "\n",
        "# Tuples are immutable and it have no attribute \"append\", however they can be concatenated\n"
      ]
    },
    {
      "cell_type": "markdown",
      "metadata": {
        "id": "YrwQuIo3ybnR"
      },
      "source": [
        "#### How about re-assign a new value to an existing tuple?\n",
        "\n",
        "Re-assign the following elements to `tup`. Are you able to do it? Explain.\n",
        "\n",
        "```\n",
        "\"I\", \"r\", \"o\", \"n\", \"h\", \"a\", \"c\", \"k\"\n",
        "```"
      ]
    },
    {
      "cell_type": "code",
      "execution_count": null,
      "metadata": {
        "colab": {
          "base_uri": "https://localhost:8080/"
        },
        "id": "jzsZ7S5eybnR",
        "outputId": "c239328d-5bc4-4da3-e4de-bbee5d0a0e57"
      },
      "outputs": [
        {
          "output_type": "stream",
          "name": "stdout",
          "text": [
            "('I', 'r', 'o', 'n', 'h', 'a', 'c', 'k')\n"
          ]
        },
        {
          "output_type": "execute_result",
          "data": {
            "text/plain": [
              "tuple"
            ]
          },
          "metadata": {},
          "execution_count": 56
        }
      ],
      "source": [
        "lst = list(tup)\n",
        "lst = [\"I\", \"r\", \"o\", \"n\", \"h\", \"a\", \"c\", \"k\"]\n",
        "tup = tuple(lst)\n",
        "print(tup)\n",
        "type(tup)\n",
        "\n",
        "# Tuples are immutable, but can be converted into a list, re-assigned, and then converted back into a tuple.\n"
      ]
    },
    {
      "cell_type": "markdown",
      "metadata": {
        "id": "73njWOcCybnR"
      },
      "source": [
        "#### Split `tup` into `tup1` and `tup2` with 4 elements in each.\n",
        "\n",
        "`tup1` should be `(\"I\", \"r\", \"o\", \"n\")` and `tup2` should be `(\"h\", \"a\", \"c\", \"k\")`.\n",
        "\n",
        "*Hint: use positive index numbers for `tup1` assignment and use negative index numbers for `tup2` assignment. Positive index numbers count from the beginning whereas negative index numbers count from the end of the sequence.*\n",
        "\n",
        "Also print `tup1` and `tup2`."
      ]
    },
    {
      "cell_type": "code",
      "execution_count": null,
      "metadata": {
        "colab": {
          "base_uri": "https://localhost:8080/"
        },
        "id": "bZ1O4SQAybnR",
        "outputId": "25c895a5-350f-4aac-b5dd-dcec69763d98"
      },
      "outputs": [
        {
          "output_type": "stream",
          "name": "stdout",
          "text": [
            "('I', 'r', 'o', 'n') ('h', 'a', 'c', 'k')\n",
            "('h', 'a', 'c')\n"
          ]
        }
      ],
      "source": [
        "tup1 = tup[0:4]\n",
        "tup2 = tup[4:9]\n",
        "print(tup1, tup2)\n",
        "tup2a = tup[-4:-1] # why not working?...\n",
        "print(tup2a)\n"
      ]
    },
    {
      "cell_type": "markdown",
      "metadata": {
        "id": "wj5aVHm8ybnS"
      },
      "source": [
        "#### Add `tup1` and `tup2` into `tup3` using the `+` operator.\n",
        "\n",
        "Then print `tup3` and check if `tup3` equals to `tup`."
      ]
    },
    {
      "cell_type": "code",
      "execution_count": null,
      "metadata": {
        "colab": {
          "base_uri": "https://localhost:8080/"
        },
        "id": "XLEesn1uybnS",
        "outputId": "c41c62f5-e9e9-4daa-8e4e-b12dfd5408eb"
      },
      "outputs": [
        {
          "output_type": "stream",
          "name": "stdout",
          "text": [
            "('I', 'r', 'o', 'n', 'h', 'a', 'c', 'k')\n"
          ]
        },
        {
          "output_type": "execute_result",
          "data": {
            "text/plain": [
              "True"
            ]
          },
          "metadata": {},
          "execution_count": 29
        }
      ],
      "source": [
        "tup3 = tup1 + tup2\n",
        "print(tup3)\n",
        "tup == tup3\n"
      ]
    },
    {
      "cell_type": "markdown",
      "metadata": {
        "id": "FCfznd6gybnS"
      },
      "source": [
        "#### Count the number of elements in `tup1` and `tup2`. Then add the two counts together and check if the sum is the same as the number of elements in `tup3`"
      ]
    },
    {
      "cell_type": "code",
      "execution_count": null,
      "metadata": {
        "colab": {
          "base_uri": "https://localhost:8080/"
        },
        "id": "AVvoFXbCybnS",
        "outputId": "1110eaf4-8b39-4b1e-9879-d576cb5e8ad0"
      },
      "outputs": [
        {
          "output_type": "execute_result",
          "data": {
            "text/plain": [
              "True"
            ]
          },
          "metadata": {},
          "execution_count": 33
        }
      ],
      "source": [
        "tup_sum = len(tup1) + len(tup2)\n",
        "tup_sum == len(tup3)"
      ]
    },
    {
      "cell_type": "markdown",
      "metadata": {
        "id": "emjUFDr-ybnS"
      },
      "source": [
        "#### What is the index number of `\"h\"` in `tup3`?"
      ]
    },
    {
      "cell_type": "code",
      "execution_count": null,
      "metadata": {
        "colab": {
          "base_uri": "https://localhost:8080/"
        },
        "id": "epLz_AExybnS",
        "outputId": "fb52e6b1-73db-4949-943a-8a2f45bf5ab4"
      },
      "outputs": [
        {
          "output_type": "execute_result",
          "data": {
            "text/plain": [
              "4"
            ]
          },
          "metadata": {},
          "execution_count": 44
        }
      ],
      "source": [
        "tup3.index(\"h\")\n"
      ]
    },
    {
      "cell_type": "markdown",
      "metadata": {
        "id": "h08zHZQhybnS"
      },
      "source": [
        "#### Now, use a FOR loop to check whether each letter in the following list is present in `tup3`:\n",
        "\n",
        "```\n",
        "letters = [\"a\", \"b\", \"c\", \"d\", \"e\"]\n",
        "```\n",
        "\n",
        "For each letter you check, print `True` if it is present in `tup3` otherwise print `False`.\n",
        "\n",
        "*Hint: you only need to loop `letters`. You don't need to loop `tup3` because there is a Python operator `in` you can use. See [reference](https://urldefense.com/v3/__https://stackoverflow.com/questions/17920147/how-to-check-if-a-tuple-contains-an-element-in-python).*__;Kg!!AcCyiFYNC0XOnw!ndistL_Z5h6On7wm_p6yIoL0UkSpAyBJEALNLpBI08BGEHW6EF0bA6LLTRjyA222klQtlyj8scbf0pQJDKWbog$"
      ]
    },
    {
      "cell_type": "code",
      "execution_count": null,
      "metadata": {
        "colab": {
          "base_uri": "https://localhost:8080/"
        },
        "id": "bwLPtyxHybnT",
        "outputId": "8630b162-cf24-4b27-c220-5b1add3f4157"
      },
      "outputs": [
        {
          "output_type": "stream",
          "name": "stdout",
          "text": [
            "True\n",
            "False\n",
            "True\n",
            "False\n",
            "False\n"
          ]
        }
      ],
      "source": [
        "letters = [\"a\", \"b\", \"c\", \"d\", \"e\"]\n",
        "for item in letters:\n",
        "  if item in tup3:\n",
        "    print(\"True\")\n",
        "  else:\n",
        "    print(\"False\")\n"
      ]
    },
    {
      "cell_type": "markdown",
      "metadata": {
        "id": "aSt43lCyybnT"
      },
      "source": [
        "#### How many times does each letter in `letters` appear in `tup3`?\n",
        "\n",
        "Print out the number of occurrence of each letter."
      ]
    },
    {
      "cell_type": "code",
      "execution_count": null,
      "metadata": {
        "colab": {
          "base_uri": "https://localhost:8080/"
        },
        "id": "WWY0SkVYybnT",
        "outputId": "e4c7b4a2-c592-4636-e4a5-b0c706c1316a"
      },
      "outputs": [
        {
          "output_type": "stream",
          "name": "stdout",
          "text": [
            "a : 1\n",
            "c : 1\n"
          ]
        }
      ],
      "source": [
        "for item in letters:\n",
        "  if item in tup3:\n",
        "    check = tup3.count(item)\n",
        "    print(item, \":\", check)\n"
      ]
    },
    {
      "cell_type": "code",
      "source": [],
      "metadata": {
        "id": "v1f0sOxfBYEl"
      },
      "execution_count": null,
      "outputs": []
    }
  ],
  "metadata": {
    "kernelspec": {
      "display_name": "Python 3",
      "language": "python",
      "name": "python3"
    },
    "language_info": {
      "codemirror_mode": {
        "name": "ipython",
        "version": 3
      },
      "file_extension": ".py",
      "mimetype": "text/x-python",
      "name": "python",
      "nbconvert_exporter": "python",
      "pygments_lexer": "ipython3",
      "version": "3.7.2"
    },
    "colab": {
      "provenance": []
    }
  },
  "nbformat": 4,
  "nbformat_minor": 0
}