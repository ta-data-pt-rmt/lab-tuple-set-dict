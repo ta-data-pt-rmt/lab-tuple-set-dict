{
 "cells": [
  {
   "cell_type": "markdown",
   "metadata": {},
   "source": [
    "## Challenge 2: Sets\n",
    "\n",
    "There are a lot to learn about Python Sets and the information presented in the lesson is limited due to its length. To learn Python Sets in depth you are strongly encouraged to review the W3Schools tutorial on [Python Sets Examples and Methods](https://www.w3schools.com/python/python_sets.asp) before you work on this lab. Some difficult questions in this lab have their solutions in the W3Schools tutorial.\n",
    "\n",
    "#### First, import the Python `random` libary"
   ]
  },
  {
   "cell_type": "code",
   "execution_count": 99,
   "metadata": {},
   "outputs": [],
   "source": [
    "import random as r"
   ]
  },
  {
   "cell_type": "markdown",
   "metadata": {},
   "source": [
    "#### 1 - In the cell below, create a list named `sample_list_1` with 80 random values. \n",
    "\n",
    "Requirements:\n",
    "\n",
    "* Each value is an integer falling between 0 and 100.\n",
    "* Each value in the list is unique.\n",
    "\n",
    "Print `sample_list_1` to review its values\n",
    "\n",
    "*Hint: use `random.sample` ([reference](https://docs.python.org/3/library/random.html#random.sample)).*"
   ]
  },
  {
   "cell_type": "code",
   "execution_count": 100,
   "metadata": {},
   "outputs": [
    {
     "data": {
      "text/plain": [
       "[39,\n",
       " 90,\n",
       " 60,\n",
       " 89,\n",
       " 47,\n",
       " 37,\n",
       " 74,\n",
       " 2,\n",
       " 83,\n",
       " 37,\n",
       " 4,\n",
       " 12,\n",
       " 19,\n",
       " 10,\n",
       " 70,\n",
       " 28,\n",
       " 6,\n",
       " 74,\n",
       " 16,\n",
       " 17,\n",
       " 11,\n",
       " 80,\n",
       " 99,\n",
       " 98,\n",
       " 39,\n",
       " 79,\n",
       " 84,\n",
       " 70,\n",
       " 85,\n",
       " 30,\n",
       " 64,\n",
       " 40,\n",
       " 33,\n",
       " 11,\n",
       " 45,\n",
       " 39,\n",
       " 57,\n",
       " 97,\n",
       " 50,\n",
       " 54,\n",
       " 26,\n",
       " 73,\n",
       " 61,\n",
       " 32,\n",
       " 29,\n",
       " 30,\n",
       " 18,\n",
       " 10,\n",
       " 60,\n",
       " 60,\n",
       " 29,\n",
       " 36,\n",
       " 25,\n",
       " 41,\n",
       " 48,\n",
       " 42,\n",
       " 26,\n",
       " 84,\n",
       " 93,\n",
       " 13,\n",
       " 20,\n",
       " 90,\n",
       " 90,\n",
       " 67,\n",
       " 71,\n",
       " 76,\n",
       " 53,\n",
       " 16,\n",
       " 19,\n",
       " 35,\n",
       " 30,\n",
       " 40,\n",
       " 8,\n",
       " 27,\n",
       " 89,\n",
       " 88,\n",
       " 58,\n",
       " 6,\n",
       " 23,\n",
       " 21]"
      ]
     },
     "execution_count": 100,
     "metadata": {},
     "output_type": "execute_result"
    }
   ],
   "source": [
    "# Your code here\n",
    "sample_list_1 = []\n",
    "\n",
    "sample_list_1 = [r.randint(0,100) for _ in range(80)]\n",
    "sample_list_1"
   ]
  },
  {
   "cell_type": "markdown",
   "metadata": {},
   "source": [
    "#### 2 - Convert `sample_list_1` to a set called `set1`. Print the length of the set. Is its length still 80?"
   ]
  },
  {
   "cell_type": "code",
   "execution_count": 101,
   "metadata": {},
   "outputs": [
    {
     "name": "stdout",
     "output_type": "stream",
     "text": [
      "{2, 4, 6, 8, 10, 11, 12, 13, 16, 17, 18, 19, 20, 21, 23, 25, 26, 27, 28, 29, 30, 32, 33, 35, 36, 37, 39, 40, 41, 42, 45, 47, 48, 50, 53, 54, 57, 58, 60, 61, 64, 67, 70, 71, 73, 74, 76, 79, 80, 83, 84, 85, 88, 89, 90, 93, 97, 98, 99}\n"
     ]
    }
   ],
   "source": [
    "# Your code here\n",
    "\n",
    "set1 = {value for value in sample_list_1}\n",
    "print(set1)\n",
    "\n"
   ]
  },
  {
   "cell_type": "markdown",
   "metadata": {},
   "source": [
    "#### 3 - Create another list named `sample_list_2` with 80 random values.\n",
    "\n",
    "Requirements:\n",
    "\n",
    "* Each value is an integer falling between 0 and 100.\n",
    "* The values in the list don't have to be unique.\n",
    "\n",
    "*Hint: Use a FOR loop.*"
   ]
  },
  {
   "cell_type": "code",
   "execution_count": 102,
   "metadata": {},
   "outputs": [
    {
     "data": {
      "text/plain": [
       "[54,\n",
       " 74,\n",
       " 71,\n",
       " 46,\n",
       " 54,\n",
       " 62,\n",
       " 59,\n",
       " 21,\n",
       " 25,\n",
       " 5,\n",
       " 34,\n",
       " 6,\n",
       " 17,\n",
       " 10,\n",
       " 51,\n",
       " 47,\n",
       " 96,\n",
       " 38,\n",
       " 79,\n",
       " 46,\n",
       " 14,\n",
       " 8,\n",
       " 5,\n",
       " 22,\n",
       " 37,\n",
       " 17,\n",
       " 92,\n",
       " 30,\n",
       " 73,\n",
       " 44,\n",
       " 23,\n",
       " 69,\n",
       " 56,\n",
       " 17,\n",
       " 29,\n",
       " 44,\n",
       " 18,\n",
       " 76,\n",
       " 33,\n",
       " 57,\n",
       " 17,\n",
       " 15,\n",
       " 66,\n",
       " 94,\n",
       " 31,\n",
       " 49,\n",
       " 28,\n",
       " 9,\n",
       " 19,\n",
       " 46,\n",
       " 85,\n",
       " 60,\n",
       " 1,\n",
       " 72,\n",
       " 18,\n",
       " 94,\n",
       " 85,\n",
       " 80,\n",
       " 40,\n",
       " 100,\n",
       " 19,\n",
       " 30,\n",
       " 31,\n",
       " 53,\n",
       " 90,\n",
       " 58,\n",
       " 8,\n",
       " 55,\n",
       " 33,\n",
       " 13,\n",
       " 67,\n",
       " 27,\n",
       " 68,\n",
       " 59,\n",
       " 52,\n",
       " 46,\n",
       " 1,\n",
       " 37,\n",
       " 67,\n",
       " 26]"
      ]
     },
     "execution_count": 102,
     "metadata": {},
     "output_type": "execute_result"
    }
   ],
   "source": [
    "# Your code here\n",
    "sample_list_2 = []\n",
    "\n",
    "sample_list_2 = [r.randint(0,100) for _ in range(80)]\n",
    "\n",
    "sample_list_2"
   ]
  },
  {
   "cell_type": "markdown",
   "metadata": {},
   "source": [
    "#### 4 - Convert `sample_list_2` to a set called `set2`. Print the length of the set. Is its length still 80?"
   ]
  },
  {
   "cell_type": "code",
   "execution_count": 103,
   "metadata": {},
   "outputs": [
    {
     "name": "stdout",
     "output_type": "stream",
     "text": [
      "{1, 5, 6, 8, 9, 10, 13, 14, 15, 17, 18, 19, 21, 22, 23, 25, 26, 27, 28, 29, 30, 31, 33, 34, 37, 38, 40, 44, 46, 47, 49, 51, 52, 53, 54, 55, 56, 57, 58, 59, 60, 62, 66, 67, 68, 69, 71, 72, 73, 74, 76, 79, 80, 85, 90, 92, 94, 96, 100}\n"
     ]
    }
   ],
   "source": [
    "# Your code here\n",
    "set2 = {value for value in sample_list_2}\n",
    "print(set2)\n"
   ]
  },
  {
   "cell_type": "markdown",
   "metadata": {},
   "source": [
    "#### 5 - Identify the elements present in `set1` but not in `set2`. Assign the elements to a new set named `set3`."
   ]
  },
  {
   "cell_type": "code",
   "execution_count": 104,
   "metadata": {},
   "outputs": [
    {
     "data": {
      "text/plain": [
       "{2,\n",
       " 4,\n",
       " 11,\n",
       " 12,\n",
       " 16,\n",
       " 20,\n",
       " 32,\n",
       " 35,\n",
       " 36,\n",
       " 39,\n",
       " 41,\n",
       " 42,\n",
       " 45,\n",
       " 48,\n",
       " 50,\n",
       " 61,\n",
       " 64,\n",
       " 70,\n",
       " 83,\n",
       " 84,\n",
       " 88,\n",
       " 89,\n",
       " 93,\n",
       " 97,\n",
       " 98,\n",
       " 99}"
      ]
     },
     "execution_count": 104,
     "metadata": {},
     "output_type": "execute_result"
    }
   ],
   "source": [
    "# Your code here\n",
    "set3 = set1.difference(set2)\n",
    "set3"
   ]
  },
  {
   "cell_type": "markdown",
   "metadata": {},
   "source": [
    "#### 6 - Identify the elements present in `set2` but not in `set1`. Assign the elements to a new set named `set4`."
   ]
  },
  {
   "cell_type": "code",
   "execution_count": 105,
   "metadata": {},
   "outputs": [
    {
     "data": {
      "text/plain": [
       "{1,\n",
       " 5,\n",
       " 9,\n",
       " 14,\n",
       " 15,\n",
       " 22,\n",
       " 31,\n",
       " 34,\n",
       " 38,\n",
       " 44,\n",
       " 46,\n",
       " 49,\n",
       " 51,\n",
       " 52,\n",
       " 55,\n",
       " 56,\n",
       " 59,\n",
       " 62,\n",
       " 66,\n",
       " 68,\n",
       " 69,\n",
       " 72,\n",
       " 92,\n",
       " 94,\n",
       " 96,\n",
       " 100}"
      ]
     },
     "execution_count": 105,
     "metadata": {},
     "output_type": "execute_result"
    }
   ],
   "source": [
    "# Your code here\n",
    "set4 = set2.difference(set1)\n",
    "set4"
   ]
  },
  {
   "cell_type": "markdown",
   "metadata": {},
   "source": [
    "#### 7 - Now Identify the elements shared between `set1` and `set2`. Assign the elements to a new set named `set5`."
   ]
  },
  {
   "cell_type": "code",
   "execution_count": 106,
   "metadata": {},
   "outputs": [
    {
     "data": {
      "text/plain": [
       "{6,\n",
       " 8,\n",
       " 10,\n",
       " 13,\n",
       " 17,\n",
       " 18,\n",
       " 19,\n",
       " 21,\n",
       " 23,\n",
       " 25,\n",
       " 26,\n",
       " 27,\n",
       " 28,\n",
       " 29,\n",
       " 30,\n",
       " 33,\n",
       " 37,\n",
       " 40,\n",
       " 47,\n",
       " 53,\n",
       " 54,\n",
       " 57,\n",
       " 58,\n",
       " 60,\n",
       " 67,\n",
       " 71,\n",
       " 73,\n",
       " 74,\n",
       " 76,\n",
       " 79,\n",
       " 80,\n",
       " 85,\n",
       " 90}"
      ]
     },
     "execution_count": 106,
     "metadata": {},
     "output_type": "execute_result"
    }
   ],
   "source": [
    "# Your code here\n",
    "set5 = set1.intersection(set2)\n",
    "set5"
   ]
  },
  {
   "cell_type": "markdown",
   "metadata": {},
   "source": [
    "#### 8 - Create an empty set called `set6`."
   ]
  },
  {
   "cell_type": "code",
   "execution_count": 107,
   "metadata": {},
   "outputs": [],
   "source": [
    "# Your code here\n",
    "set6 = set()"
   ]
  },
  {
   "cell_type": "markdown",
   "metadata": {},
   "source": [
    "#### 9 - Add `set3` and `set5` to `set6` using the Python Set `update` method."
   ]
  },
  {
   "cell_type": "code",
   "execution_count": 108,
   "metadata": {},
   "outputs": [],
   "source": [
    "# Your code here\n",
    "set6.update(set3, set5)\n"
   ]
  },
  {
   "cell_type": "markdown",
   "metadata": {},
   "source": [
    "#### 10 - Check if `set1` and `set6` are equal."
   ]
  },
  {
   "cell_type": "code",
   "execution_count": 109,
   "metadata": {},
   "outputs": [
    {
     "name": "stdout",
     "output_type": "stream",
     "text": [
      "as the len is the same for the intersection and the sets set1 and set6 are equal, 59 59 59\n"
     ]
    }
   ],
   "source": [
    "# Your code here\n",
    "set7=set1.intersection(set6)\n",
    "print(\"as the len is the same for the intersection and the sets set1 and set6 are equal,\",len(set1), len(set6), len(set7))\n"
   ]
  },
  {
   "cell_type": "markdown",
   "metadata": {},
   "source": [
    "#### 11 - Check if `set1` contains `set2` using the Python Set `issubset` method. Then check if `set1` contains `set3`.*"
   ]
  },
  {
   "cell_type": "code",
   "execution_count": 110,
   "metadata": {},
   "outputs": [
    {
     "name": "stdout",
     "output_type": "stream",
     "text": [
      "It is False that set1 contains set2 and it is True that set1 contains set3\n"
     ]
    }
   ],
   "source": [
    "# Your code here\n",
    "set2.issubset(set1), set3.issubset(set1)\n",
    "print(\"It is\", set2.issubset(set1), \"that set1 contains set2 and it is\",set3.issubset(set1), \"that set1 contains set3\")\n",
    "\n",
    "#x = {\"a\", \"b\", \"c\"}\n",
    "#y = {\"f\", \"e\", \"d\", \"c\", \"b\", \"a\"}\n",
    "#z = x.issubset(y) #y contiene los valores de x\n",
    "\n"
   ]
  },
  {
   "cell_type": "markdown",
   "metadata": {},
   "source": [
    "#### 12 -Using the Python Set `union` method, aggregate `set3`, `set4`, and `set5`. Then aggregate `set1` and `set2`. \n",
    "\n",
    "#### Check if the aggregated values are equal."
   ]
  },
  {
   "cell_type": "code",
   "execution_count": 111,
   "metadata": {},
   "outputs": [],
   "source": [
    "# Your code here\n",
    "set345 = set()\n",
    "set345.update(set3,set4,set5)\n",
    "set12 = set()\n",
    "set12.update(set1, set2)"
   ]
  },
  {
   "cell_type": "markdown",
   "metadata": {},
   "source": [
    "#### 13 -Using the `pop` method, remove the first element from `set1`."
   ]
  },
  {
   "cell_type": "code",
   "execution_count": 112,
   "metadata": {},
   "outputs": [
    {
     "name": "stdout",
     "output_type": "stream",
     "text": [
      "{2, 4, 6, 8, 10, 11, 12, 13, 16, 17, 18, 19, 20, 21, 23, 25, 26, 27, 28, 29, 30, 32, 33, 35, 36, 37, 39, 40, 41, 42, 45, 47, 48, 50, 53, 54, 57, 58, 60, 61, 64, 67, 70, 71, 73, 74, 76, 79, 80, 83, 84, 85, 88, 89, 90, 93, 97, 98, 99}\n",
      "{4, 6, 8, 10, 11, 12, 13, 16, 17, 18, 19, 20, 21, 23, 25, 26, 27, 28, 29, 30, 32, 33, 35, 36, 37, 39, 40, 41, 42, 45, 47, 48, 50, 53, 54, 57, 58, 60, 61, 64, 67, 70, 71, 73, 74, 76, 79, 80, 83, 84, 85, 88, 89, 90, 93, 97, 98, 99}\n"
     ]
    }
   ],
   "source": [
    "# Your code here\n",
    "print(set1)\n",
    "set1.pop()\n",
    "print(set1)"
   ]
  },
  {
   "cell_type": "markdown",
   "metadata": {},
   "source": [
    "#### 14 -Remove every element in the following list from `set1` if they are present in the set. Print the remaining elements.\n",
    "\n",
    "```\n",
    "list_to_remove = [1, 9, 11, 19, 21, 29, 31, 39, 41, 49, 51, 59, 61, 69, 71, 79, 81, 89, 91, 99]\n",
    "```"
   ]
  },
  {
   "cell_type": "code",
   "execution_count": 120,
   "metadata": {},
   "outputs": [
    {
     "name": "stdout",
     "output_type": "stream",
     "text": [
      "{4, 6, 8, 10, 12, 13, 16, 17, 18, 20, 23, 25, 26, 27, 28, 30, 32, 33, 35, 36, 37, 40, 42, 45, 47, 48, 50, 53, 54, 57, 58, 60, 64, 67, 70, 73, 74, 76, 80, 83, 84, 85, 88, 90, 93, 97, 98}\n"
     ]
    }
   ],
   "source": [
    "# Your code here\n",
    "\n",
    "list_to_remove = [1, 9, 11, 19, 21, 29, 31, 39, 41, 49, 51, 59, 61, 69, 71, 79, 81, 89, 91, 99]\n",
    "set_remove = {value for value in list_to_remove}\n",
    "set1 = set1.difference(set_remove)\n",
    "print(set1)"
   ]
  },
  {
   "cell_type": "markdown",
   "metadata": {},
   "source": [
    "#### 15 -The objective of this lab is to provide you a overview of manipulating sets in Python and how they can be integrated within a real usecase\n",
    "#### For the exercises below it's strongly advised to quickly check this link: https://docs.python.org/2/library/sets.html#sets.Set\n",
    "#### Imagine you need to create the grocery list for your family! Below you will see a list of items each family member wants. There will be repetitions because this family has the habbit of each time they notice something is missing to write it down. The problem is that they don't really talk to each other and therefore some items in the list are repeated. With the collection of questions below you will see how they solve repetion and create a grocery list with unique elements.\n",
    "\n"
   ]
  },
  {
   "cell_type": "code",
   "execution_count": 121,
   "metadata": {},
   "outputs": [],
   "source": [
    "father_list = ['garlic', 'watermelon', 'toilet paper', 'yogurt', 'onions', 'gums', 'flour', 'cucumber', 'watermelon', 'yogurt', 'garlic']\n",
    "\n",
    "mother_list = []\n",
    "\n",
    "Jo_list = ['blueberries', 'sugar', 'watermelon', 'gums', 'tomatoes', 'yogurt', 'juice', 'milk', 'onions', 'garlic', 'cucumber', 'sugar', 'blueberries', 'gums', 'yogurt']\n",
    "\n",
    "Carlos_list = ['tomatoes', 'water', 'onions', 'blueberries', 'garlic', 'flour', 'cherries', 'tomatoes', 'onions', 'water', 'tomatoes', 'toilet paper']\n",
    "\n",
    "Mattia_list = []\n",
    "\n",
    "\n"
   ]
  },
  {
   "cell_type": "markdown",
   "metadata": {},
   "source": [
    "#### 15.1- As you can see there are items repeated in each list. Creat a sequence of iterable elements with dintinct items that each family member wants. You can do it in two different ways. Assign each one (set) to a variable with the name of the family member (ex: father_set)."
   ]
  },
  {
   "cell_type": "code",
   "execution_count": 124,
   "metadata": {},
   "outputs": [],
   "source": [
    "# Your code here\n",
    "father_set = {value for value in father_list}\n",
    "mother_set = {value for value in mother_list}\n",
    "Jo_set = {value for value in Jo_list}\n",
    "Carlos_set = {value for value in Carlos_list}\n",
    "Mattia_set = {value for value in Mattia_list}"
   ]
  },
  {
   "cell_type": "markdown",
   "metadata": {},
   "source": [
    "#### 15.2- Q: Mattia wants the same items that his brother Carlos and his sister Jo but doesn't want anything they both want.\n",
    "\n",
    "##### Hint: check out the documentation for `x.symmetric_difference(y)`."
   ]
  },
  {
   "cell_type": "code",
   "execution_count": 135,
   "metadata": {},
   "outputs": [
    {
     "data": {
      "text/plain": [
       "{'cherries', 'flour', 'toilet paper', 'water'}"
      ]
     },
     "execution_count": 135,
     "metadata": {},
     "output_type": "execute_result"
    }
   ],
   "source": [
    "# Your code here\n",
    "Carlos_Jo = Carlos_set.intersection(Jo_set)\n",
    "Mattia_set = Carlos_set.difference(Carlos_Jo)\n",
    "Mattia_Jo\n",
    "Carlos_Jo\n",
    "Mattia_set"
   ]
  },
  {
   "cell_type": "markdown",
   "metadata": {},
   "source": [
    "#### 15.3- The line of code below  will  generate a list of random elements from a collection of items, with replacement. Run it and from it create a sequence of unique elements and assign it to the variable mother.\n"
   ]
  },
  {
   "cell_type": "code",
   "execution_count": 127,
   "metadata": {},
   "outputs": [
    {
     "name": "stdout",
     "output_type": "stream",
     "text": [
      "['water', 'blueberries', 'toilet paper', 'mushrooms', 'toilet paper', 'oranges', 'milk', 'vinegar', 'milk', 'yogurt']\n"
     ]
    }
   ],
   "source": [
    "import random\n",
    "items = ['milk', 'water', 'chocolate', 'blueberries', 'shampoo', 'flour', 'bread', 'sugar', 'watermelon', 'vinegar', 'tomatoes', 'yogurt', 'juice', 'gums', 'onions', 'garlic', 'cucumber', 'mushrooms', 'toilet paper', 'oranges', 'deodorant', 'cherries']\n",
    "\n",
    "mother_list = random.choices(items,k = 10) # https://docs.python.org/3/library/random.html\n",
    "\n",
    "print(mother_list)"
   ]
  },
  {
   "cell_type": "code",
   "execution_count": 129,
   "metadata": {},
   "outputs": [
    {
     "data": {
      "text/plain": [
       "{'blueberries',\n",
       " 'milk',\n",
       " 'mushrooms',\n",
       " 'oranges',\n",
       " 'toilet paper',\n",
       " 'vinegar',\n",
       " 'water',\n",
       " 'yogurt'}"
      ]
     },
     "execution_count": 129,
     "metadata": {},
     "output_type": "execute_result"
    }
   ],
   "source": [
    "# Your code here\n",
    "mother_set = {value for value in mother_list}\n",
    "mother_set"
   ]
  },
  {
   "cell_type": "markdown",
   "metadata": {},
   "source": [
    "#### 15.4- Before leaving the house to the grocery store the father found a lot of toilet paper, so the mother decided to remove it from the items needed to be bought. Use the `.discard()` method to remove from each set created before the 'toilet paper'. \n",
    "\n",
    "#### Hint: Try to first create a list contaning the variables of each set created before, then loop through them and remove the unecessary item. \n",
    "\n",
    "##### Note: The`.discard()` method will remove and update the set without the need of reassignment.\n",
    "\n"
   ]
  },
  {
   "cell_type": "code",
   "execution_count": 137,
   "metadata": {},
   "outputs": [],
   "source": [
    "# Your code here\n",
    "mother_set.discard('toilet paper')\n",
    "father_set.discard('toilet paper')\n",
    "Mattia_set.discard('toilet paper')\n",
    "Carlos_set.discard('toilet paper')\n",
    "Jo_set.discard('toilet paper')\n",
    "Carlos_Jo.discard('toilet paper')"
   ]
  },
  {
   "cell_type": "markdown",
   "metadata": {},
   "source": [
    "#### 15.5- Create a set with all the groceries needed to be bought for the house (no repetitions)."
   ]
  },
  {
   "cell_type": "code",
   "execution_count": 144,
   "metadata": {},
   "outputs": [
    {
     "data": {
      "text/plain": [
       "{'blueberries',\n",
       " 'cherries',\n",
       " 'cucumber',\n",
       " 'flour',\n",
       " 'garlic',\n",
       " 'gums',\n",
       " 'juice',\n",
       " 'milk',\n",
       " 'mushrooms',\n",
       " 'onions',\n",
       " 'oranges',\n",
       " 'sugar',\n",
       " 'tomatoes',\n",
       " 'vinegar',\n",
       " 'water',\n",
       " 'watermelon',\n",
       " 'yogurt'}"
      ]
     },
     "execution_count": 144,
     "metadata": {},
     "output_type": "execute_result"
    }
   ],
   "source": [
    "# Your code here\n",
    "groceries_set = set()\n",
    "groceries_set.update(mother_set, father_set, Mattia_set, Jo_set, Carlos_set)\n",
    "groceries_set\n",
    "#mother_set, father_set, Mattia_set, Jo_set, Carlos_set"
   ]
  },
  {
   "cell_type": "markdown",
   "metadata": {},
   "source": [
    "#### 15.6- The Father said that he could only buy five items this time. So he decided to arbitraly pick wich ones to buy this time.\n",
    "\n",
    "##### Hint: use the `.pop()` method."
   ]
  },
  {
   "cell_type": "code",
   "execution_count": 152,
   "metadata": {},
   "outputs": [
    {
     "name": "stdout",
     "output_type": "stream",
     "text": [
      "0\n",
      "1\n",
      "2\n",
      "3\n",
      "4\n",
      "5\n",
      "6\n",
      "7\n",
      "8\n",
      "9\n",
      "10\n",
      "11\n",
      "{'garlic', 'juice', 'yogurt', 'watermelon', 'oranges'}\n"
     ]
    }
   ],
   "source": [
    "# Your code here\n",
    "remove_elements = len(groceries_set) - 5\n",
    "remove_elements\n",
    "father_pick = set()\n",
    "father_pick.update(groceries_set)\n",
    "for i in range(remove_elements):\n",
    "    father_pick.pop()\n",
    "    print(i)\n",
    "    i=+1\n",
    "print(father_pick)"
   ]
  }
 ],
 "metadata": {
  "kernelspec": {
   "display_name": "Python 3",
   "language": "python",
   "name": "python3"
  },
  "language_info": {
   "codemirror_mode": {
    "name": "ipython",
    "version": 3
   },
   "file_extension": ".py",
   "mimetype": "text/x-python",
   "name": "python",
   "nbconvert_exporter": "python",
   "pygments_lexer": "ipython3",
   "version": "3.7.6"
  }
 },
 "nbformat": 4,
 "nbformat_minor": 2
}
