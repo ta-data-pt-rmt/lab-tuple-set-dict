{
 "cells": [
  {
   "cell_type": "markdown",
   "metadata": {
    "id": "nDIR27V9QVyK"
   },
   "source": [
    "## Challenge 2: Sets\n",
    "\n",
    "There are a lot to learn about Python Sets and the information presented in the lesson is limited due to its length. To learn Python Sets in depth you are strongly encouraged to review the W3Schools tutorial on [Python Sets Examples and Methods](https://www.w3schools.com/python/python_sets.asp) before you work on this lab. Some difficult questions in this lab have their solutions in the W3Schools tutorial.\n",
    "\n",
    "#### First, import the Python `random` libary"
   ]
  },
  {
   "cell_type": "code",
   "execution_count": 2,
   "metadata": {
    "executionInfo": {
     "elapsed": 3,
     "status": "ok",
     "timestamp": 1645815655207,
     "user": {
      "displayName": "Alejandro Aboy",
      "photoUrl": "https://lh3.googleusercontent.com/a-/AOh14GjRm4WtKp8keTOhttPGqVMeiAlZcOJbBHsNYKoQcw=s64",
      "userId": "12458548919771304240"
     },
     "user_tz": -60
    },
    "id": "puka3jDwQVyN"
   },
   "outputs": [],
   "source": [
    "import random"
   ]
  },
  {
   "cell_type": "markdown",
   "metadata": {
    "id": "Fz0HMFP9QVyN"
   },
   "source": [
    "#### 1 - In the cell below, create a list named `sample_list_1` with 80 random values. \n",
    "\n",
    "Requirements:\n",
    "\n",
    "* Each value is an integer falling between 0 and 100.\n",
    "* Each value in the list is unique.\n",
    "\n",
    "Print `sample_list_1` to review its values\n",
    "\n",
    "*Hint: use `random.sample` ([reference](https://docs.python.org/3/library/random.html#random.sample)).*"
   ]
  },
  {
   "cell_type": "code",
   "execution_count": 3,
   "metadata": {
    "colab": {
     "base_uri": "https://localhost:8080/"
    },
    "executionInfo": {
     "elapsed": 350,
     "status": "ok",
     "timestamp": 1645816029359,
     "user": {
      "displayName": "Alejandro Aboy",
      "photoUrl": "https://lh3.googleusercontent.com/a-/AOh14GjRm4WtKp8keTOhttPGqVMeiAlZcOJbBHsNYKoQcw=s64",
      "userId": "12458548919771304240"
     },
     "user_tz": -60
    },
    "id": "b1KD7OpTQVyO",
    "outputId": "5dac1f23-8df6-4043-fa81-ad42776892b8"
   },
   "outputs": [
    {
     "data": {
      "text/plain": [
       "[6,\n",
       " 11,\n",
       " 10,\n",
       " 61,\n",
       " 20,\n",
       " 77,\n",
       " 56,\n",
       " 30,\n",
       " 62,\n",
       " 100,\n",
       " 53,\n",
       " 35,\n",
       " 48,\n",
       " 19,\n",
       " 42,\n",
       " 79,\n",
       " 3,\n",
       " 70,\n",
       " 63,\n",
       " 64,\n",
       " 97,\n",
       " 86,\n",
       " 88,\n",
       " 83,\n",
       " 12,\n",
       " 21,\n",
       " 23,\n",
       " 50,\n",
       " 4,\n",
       " 93,\n",
       " 31,\n",
       " 44,\n",
       " 92,\n",
       " 46,\n",
       " 39,\n",
       " 94,\n",
       " 67,\n",
       " 66,\n",
       " 58,\n",
       " 16,\n",
       " 54,\n",
       " 2,\n",
       " 51,\n",
       " 43,\n",
       " 72,\n",
       " 32,\n",
       " 96,\n",
       " 22,\n",
       " 90,\n",
       " 65,\n",
       " 95,\n",
       " 80,\n",
       " 75,\n",
       " 25,\n",
       " 81,\n",
       " 40,\n",
       " 13,\n",
       " 27,\n",
       " 59,\n",
       " 69,\n",
       " 34,\n",
       " 24,\n",
       " 91,\n",
       " 76,\n",
       " 5,\n",
       " 87,\n",
       " 82,\n",
       " 1,\n",
       " 52,\n",
       " 28,\n",
       " 29,\n",
       " 38,\n",
       " 7,\n",
       " 89,\n",
       " 57,\n",
       " 18,\n",
       " 78,\n",
       " 37,\n",
       " 41,\n",
       " 85]"
      ]
     },
     "execution_count": 3,
     "metadata": {},
     "output_type": "execute_result"
    }
   ],
   "source": [
    "# Your code here\n",
    "sample_list_1 = random.sample(range(101),k=80)\n",
    "sample_list_1"
   ]
  },
  {
   "cell_type": "markdown",
   "metadata": {
    "id": "irCVq0T0QVyO"
   },
   "source": [
    "#### 2 - Convert `sample_list_1` to a set called `set1`. Print the length of the set. Is its length still 80?"
   ]
  },
  {
   "cell_type": "code",
   "execution_count": 4,
   "metadata": {
    "colab": {
     "base_uri": "https://localhost:8080/"
    },
    "executionInfo": {
     "elapsed": 409,
     "status": "ok",
     "timestamp": 1645817100998,
     "user": {
      "displayName": "Alejandro Aboy",
      "photoUrl": "https://lh3.googleusercontent.com/a-/AOh14GjRm4WtKp8keTOhttPGqVMeiAlZcOJbBHsNYKoQcw=s64",
      "userId": "12458548919771304240"
     },
     "user_tz": -60
    },
    "id": "WAKrf6QaQVyO",
    "outputId": "f2cc3bb5-483a-4c9a-d5b3-66114db733a6"
   },
   "outputs": [
    {
     "name": "stdout",
     "output_type": "stream",
     "text": [
      "80\n"
     ]
    }
   ],
   "source": [
    "# Your code here\n",
    "set1 = set(sample_list_1)\n",
    "print(len(set1))"
   ]
  },
  {
   "cell_type": "markdown",
   "metadata": {
    "id": "GurKAzASQVyO"
   },
   "source": [
    "#### 3 - Create another list named `sample_list_2` with 80 random values.\n",
    "\n",
    "Requirements:\n",
    "\n",
    "* Each value is an integer falling between 0 and 100.\n",
    "* The values in the list don't have to be unique.\n",
    "\n",
    "*Hint: Use a FOR loop.*"
   ]
  },
  {
   "cell_type": "code",
   "execution_count": 5,
   "metadata": {
    "colab": {
     "base_uri": "https://localhost:8080/"
    },
    "executionInfo": {
     "elapsed": 322,
     "status": "ok",
     "timestamp": 1645816216175,
     "user": {
      "displayName": "Alejandro Aboy",
      "photoUrl": "https://lh3.googleusercontent.com/a-/AOh14GjRm4WtKp8keTOhttPGqVMeiAlZcOJbBHsNYKoQcw=s64",
      "userId": "12458548919771304240"
     },
     "user_tz": -60
    },
    "id": "T0F0stLpQVyP",
    "outputId": "cebb93ff-2776-4e32-e4a5-03ae76365ad2"
   },
   "outputs": [
    {
     "data": {
      "text/plain": [
       "[37,\n",
       " 76,\n",
       " 35,\n",
       " 47,\n",
       " 79,\n",
       " 83,\n",
       " 74,\n",
       " 91,\n",
       " 45,\n",
       " 9,\n",
       " 17,\n",
       " 90,\n",
       " 76,\n",
       " 9,\n",
       " 88,\n",
       " 14,\n",
       " 43,\n",
       " 84,\n",
       " 10,\n",
       " 25,\n",
       " 97,\n",
       " 22,\n",
       " 79,\n",
       " 12,\n",
       " 66,\n",
       " 26,\n",
       " 73,\n",
       " 69,\n",
       " 6,\n",
       " 90,\n",
       " 34,\n",
       " 25,\n",
       " 66,\n",
       " 80,\n",
       " 60,\n",
       " 73,\n",
       " 46,\n",
       " 71,\n",
       " 0,\n",
       " 76,\n",
       " 36,\n",
       " 84,\n",
       " 71,\n",
       " 93,\n",
       " 71,\n",
       " 85,\n",
       " 75,\n",
       " 39,\n",
       " 58,\n",
       " 75,\n",
       " 95,\n",
       " 92,\n",
       " 66,\n",
       " 8,\n",
       " 82,\n",
       " 3,\n",
       " 77,\n",
       " 91,\n",
       " 59,\n",
       " 4,\n",
       " 47,\n",
       " 36,\n",
       " 60,\n",
       " 98,\n",
       " 29,\n",
       " 68,\n",
       " 59,\n",
       " 59,\n",
       " 11,\n",
       " 76,\n",
       " 30,\n",
       " 46,\n",
       " 75,\n",
       " 33,\n",
       " 85,\n",
       " 60,\n",
       " 0,\n",
       " 5,\n",
       " 14,\n",
       " 31]"
      ]
     },
     "execution_count": 5,
     "metadata": {},
     "output_type": "execute_result"
    }
   ],
   "source": [
    "# Your code here\n",
    "sample_list_2 = []\n",
    "\n",
    "for i in sample_list_1:\n",
    "  ran_num = random.randrange(0,101)\n",
    "  sample_list_2.append(ran_num)\n",
    "\n",
    "sample_list_2"
   ]
  },
  {
   "cell_type": "markdown",
   "metadata": {
    "id": "jOZIa5uHQVyP"
   },
   "source": [
    "#### 4 - Convert `sample_list_2` to a set called `set2`. Print the length of the set. Is its length still 80?"
   ]
  },
  {
   "cell_type": "code",
   "execution_count": 6,
   "metadata": {
    "colab": {
     "base_uri": "https://localhost:8080/"
    },
    "executionInfo": {
     "elapsed": 5,
     "status": "ok",
     "timestamp": 1645816242512,
     "user": {
      "displayName": "Alejandro Aboy",
      "photoUrl": "https://lh3.googleusercontent.com/a-/AOh14GjRm4WtKp8keTOhttPGqVMeiAlZcOJbBHsNYKoQcw=s64",
      "userId": "12458548919771304240"
     },
     "user_tz": -60
    },
    "id": "6mgZZN2rQVyQ",
    "outputId": "4fdb05b9-b230-440c-ad7d-77dc1b9b3b48"
   },
   "outputs": [
    {
     "data": {
      "text/plain": [
       "54"
      ]
     },
     "execution_count": 6,
     "metadata": {},
     "output_type": "execute_result"
    }
   ],
   "source": [
    "# Your code here\n",
    "set2 = set(sample_list_2)\n",
    "len(set2)"
   ]
  },
  {
   "cell_type": "markdown",
   "metadata": {
    "id": "W5T0LzXHQVyQ"
   },
   "source": [
    "#### 5 - Identify the elements present in `set1` but not in `set2`. Assign the elements to a new set named `set3`."
   ]
  },
  {
   "cell_type": "code",
   "execution_count": 7,
   "metadata": {
    "colab": {
     "base_uri": "https://localhost:8080/"
    },
    "executionInfo": {
     "elapsed": 305,
     "status": "ok",
     "timestamp": 1645816434585,
     "user": {
      "displayName": "Alejandro Aboy",
      "photoUrl": "https://lh3.googleusercontent.com/a-/AOh14GjRm4WtKp8keTOhttPGqVMeiAlZcOJbBHsNYKoQcw=s64",
      "userId": "12458548919771304240"
     },
     "user_tz": -60
    },
    "id": "0PmsY2z1QVyQ",
    "outputId": "61053090-a78c-4a29-fe54-e5f93aa05852"
   },
   "outputs": [
    {
     "data": {
      "text/plain": [
       "{1,\n",
       " 2,\n",
       " 7,\n",
       " 13,\n",
       " 16,\n",
       " 18,\n",
       " 19,\n",
       " 20,\n",
       " 21,\n",
       " 23,\n",
       " 24,\n",
       " 27,\n",
       " 28,\n",
       " 32,\n",
       " 38,\n",
       " 40,\n",
       " 41,\n",
       " 42,\n",
       " 44,\n",
       " 48,\n",
       " 50,\n",
       " 51,\n",
       " 52,\n",
       " 53,\n",
       " 54,\n",
       " 56,\n",
       " 57,\n",
       " 61,\n",
       " 62,\n",
       " 63,\n",
       " 64,\n",
       " 65,\n",
       " 67,\n",
       " 70,\n",
       " 72,\n",
       " 78,\n",
       " 81,\n",
       " 86,\n",
       " 87,\n",
       " 89,\n",
       " 94,\n",
       " 96,\n",
       " 100}"
      ]
     },
     "execution_count": 7,
     "metadata": {},
     "output_type": "execute_result"
    }
   ],
   "source": [
    "# Your code here\n",
    "set3 = set1.difference(set2)\n",
    "set3"
   ]
  },
  {
   "cell_type": "markdown",
   "metadata": {
    "id": "XrPTydaHQVyQ"
   },
   "source": [
    "#### 6 - Identify the elements present in `set2` but not in `set1`. Assign the elements to a new set named `set4`."
   ]
  },
  {
   "cell_type": "code",
   "execution_count": 8,
   "metadata": {
    "colab": {
     "base_uri": "https://localhost:8080/"
    },
    "executionInfo": {
     "elapsed": 357,
     "status": "ok",
     "timestamp": 1645816307921,
     "user": {
      "displayName": "Alejandro Aboy",
      "photoUrl": "https://lh3.googleusercontent.com/a-/AOh14GjRm4WtKp8keTOhttPGqVMeiAlZcOJbBHsNYKoQcw=s64",
      "userId": "12458548919771304240"
     },
     "user_tz": -60
    },
    "id": "_b6AnV-oQVyQ",
    "outputId": "c33108ba-5dbf-45a2-de2e-8e1364d87a33"
   },
   "outputs": [
    {
     "data": {
      "text/plain": [
       "{0, 8, 9, 14, 17, 26, 33, 36, 45, 47, 60, 68, 71, 73, 74, 84, 98}"
      ]
     },
     "execution_count": 8,
     "metadata": {},
     "output_type": "execute_result"
    }
   ],
   "source": [
    "# Your code here\n",
    "set4 = set2.difference(set1)\n",
    "set4"
   ]
  },
  {
   "cell_type": "markdown",
   "metadata": {
    "id": "aVKjyPxIQVyR"
   },
   "source": [
    "#### 7 - Now Identify the elements shared between `set1` and `set2`. Assign the elements to a new set named `set5`."
   ]
  },
  {
   "cell_type": "code",
   "execution_count": 9,
   "metadata": {
    "colab": {
     "base_uri": "https://localhost:8080/"
    },
    "executionInfo": {
     "elapsed": 298,
     "status": "ok",
     "timestamp": 1645816432189,
     "user": {
      "displayName": "Alejandro Aboy",
      "photoUrl": "https://lh3.googleusercontent.com/a-/AOh14GjRm4WtKp8keTOhttPGqVMeiAlZcOJbBHsNYKoQcw=s64",
      "userId": "12458548919771304240"
     },
     "user_tz": -60
    },
    "id": "mCdYmbtmQVyR",
    "outputId": "57144235-4f34-4c36-f819-b19399c0aa27"
   },
   "outputs": [
    {
     "data": {
      "text/plain": [
       "{3,\n",
       " 4,\n",
       " 5,\n",
       " 6,\n",
       " 10,\n",
       " 11,\n",
       " 12,\n",
       " 22,\n",
       " 25,\n",
       " 29,\n",
       " 30,\n",
       " 31,\n",
       " 34,\n",
       " 35,\n",
       " 37,\n",
       " 39,\n",
       " 43,\n",
       " 46,\n",
       " 58,\n",
       " 59,\n",
       " 66,\n",
       " 69,\n",
       " 75,\n",
       " 76,\n",
       " 77,\n",
       " 79,\n",
       " 80,\n",
       " 82,\n",
       " 83,\n",
       " 85,\n",
       " 88,\n",
       " 90,\n",
       " 91,\n",
       " 92,\n",
       " 93,\n",
       " 95,\n",
       " 97}"
      ]
     },
     "execution_count": 9,
     "metadata": {},
     "output_type": "execute_result"
    }
   ],
   "source": [
    "# Your code here\n",
    "set5 = set1.intersection(set2)\n",
    "set5"
   ]
  },
  {
   "cell_type": "markdown",
   "metadata": {
    "id": "F8j8Eic4QVyR"
   },
   "source": [
    "#### 8 - Create an empty set called `set6`."
   ]
  },
  {
   "cell_type": "code",
   "execution_count": 10,
   "metadata": {
    "executionInfo": {
     "elapsed": 331,
     "status": "ok",
     "timestamp": 1645816496959,
     "user": {
      "displayName": "Alejandro Aboy",
      "photoUrl": "https://lh3.googleusercontent.com/a-/AOh14GjRm4WtKp8keTOhttPGqVMeiAlZcOJbBHsNYKoQcw=s64",
      "userId": "12458548919771304240"
     },
     "user_tz": -60
    },
    "id": "YHm7FFlgQVyR"
   },
   "outputs": [],
   "source": [
    "# Your code here\n",
    "set6 = set()"
   ]
  },
  {
   "cell_type": "markdown",
   "metadata": {
    "id": "IEXqRbcwQVyR"
   },
   "source": [
    "#### 9 - Add `set3` and `set5` to `set6` using the Python Set `update` method."
   ]
  },
  {
   "cell_type": "code",
   "execution_count": 11,
   "metadata": {
    "colab": {
     "base_uri": "https://localhost:8080/"
    },
    "executionInfo": {
     "elapsed": 313,
     "status": "ok",
     "timestamp": 1645816507721,
     "user": {
      "displayName": "Alejandro Aboy",
      "photoUrl": "https://lh3.googleusercontent.com/a-/AOh14GjRm4WtKp8keTOhttPGqVMeiAlZcOJbBHsNYKoQcw=s64",
      "userId": "12458548919771304240"
     },
     "user_tz": -60
    },
    "id": "BUPwoZhCQVyR",
    "outputId": "ed25132a-0a4a-47be-90fc-1a73e5747f06"
   },
   "outputs": [
    {
     "data": {
      "text/plain": [
       "{1,\n",
       " 2,\n",
       " 3,\n",
       " 4,\n",
       " 5,\n",
       " 6,\n",
       " 7,\n",
       " 10,\n",
       " 11,\n",
       " 12,\n",
       " 13,\n",
       " 16,\n",
       " 18,\n",
       " 19,\n",
       " 20,\n",
       " 21,\n",
       " 22,\n",
       " 23,\n",
       " 24,\n",
       " 25,\n",
       " 27,\n",
       " 28,\n",
       " 29,\n",
       " 30,\n",
       " 31,\n",
       " 32,\n",
       " 34,\n",
       " 35,\n",
       " 37,\n",
       " 38,\n",
       " 39,\n",
       " 40,\n",
       " 41,\n",
       " 42,\n",
       " 43,\n",
       " 44,\n",
       " 46,\n",
       " 48,\n",
       " 50,\n",
       " 51,\n",
       " 52,\n",
       " 53,\n",
       " 54,\n",
       " 56,\n",
       " 57,\n",
       " 58,\n",
       " 59,\n",
       " 61,\n",
       " 62,\n",
       " 63,\n",
       " 64,\n",
       " 65,\n",
       " 66,\n",
       " 67,\n",
       " 69,\n",
       " 70,\n",
       " 72,\n",
       " 75,\n",
       " 76,\n",
       " 77,\n",
       " 78,\n",
       " 79,\n",
       " 80,\n",
       " 81,\n",
       " 82,\n",
       " 83,\n",
       " 85,\n",
       " 86,\n",
       " 87,\n",
       " 88,\n",
       " 89,\n",
       " 90,\n",
       " 91,\n",
       " 92,\n",
       " 93,\n",
       " 94,\n",
       " 95,\n",
       " 96,\n",
       " 97,\n",
       " 100}"
      ]
     },
     "execution_count": 11,
     "metadata": {},
     "output_type": "execute_result"
    }
   ],
   "source": [
    "# Your code here\n",
    "set6.update(set3)\n",
    "set6.update(set5)\n",
    "set6"
   ]
  },
  {
   "cell_type": "markdown",
   "metadata": {
    "id": "iz6-ucCZQVyR"
   },
   "source": [
    "#### 10 - Check if `set1` and `set6` are equal."
   ]
  },
  {
   "cell_type": "code",
   "execution_count": 12,
   "metadata": {
    "colab": {
     "base_uri": "https://localhost:8080/"
    },
    "executionInfo": {
     "elapsed": 329,
     "status": "ok",
     "timestamp": 1645816562202,
     "user": {
      "displayName": "Alejandro Aboy",
      "photoUrl": "https://lh3.googleusercontent.com/a-/AOh14GjRm4WtKp8keTOhttPGqVMeiAlZcOJbBHsNYKoQcw=s64",
      "userId": "12458548919771304240"
     },
     "user_tz": -60
    },
    "id": "rau_E8c0QVyS",
    "outputId": "0753e5bc-5bb0-4120-c4f2-90587c0ea45a"
   },
   "outputs": [
    {
     "name": "stdout",
     "output_type": "stream",
     "text": [
      "True\n"
     ]
    }
   ],
   "source": [
    "# Your code here\n",
    "print(set1 == set6)"
   ]
  },
  {
   "cell_type": "markdown",
   "metadata": {
    "id": "jJkcxfhCQVyS"
   },
   "source": [
    "#### 11 - Check if `set1` contains `set2` using the Python Set `issubset` method. Then check if `set1` contains `set3`.*"
   ]
  },
  {
   "cell_type": "code",
   "execution_count": 13,
   "metadata": {
    "colab": {
     "base_uri": "https://localhost:8080/"
    },
    "executionInfo": {
     "elapsed": 2,
     "status": "ok",
     "timestamp": 1645816620348,
     "user": {
      "displayName": "Alejandro Aboy",
      "photoUrl": "https://lh3.googleusercontent.com/a-/AOh14GjRm4WtKp8keTOhttPGqVMeiAlZcOJbBHsNYKoQcw=s64",
      "userId": "12458548919771304240"
     },
     "user_tz": -60
    },
    "id": "7UuB8MAcQVyS",
    "outputId": "b0731207-2c25-4b07-c996-733aebc9e844"
   },
   "outputs": [
    {
     "data": {
      "text/plain": [
       "False"
      ]
     },
     "execution_count": 13,
     "metadata": {},
     "output_type": "execute_result"
    }
   ],
   "source": [
    "# Your code here\n",
    "set2.issubset(set1)"
   ]
  },
  {
   "cell_type": "code",
   "execution_count": 14,
   "metadata": {
    "colab": {
     "base_uri": "https://localhost:8080/"
    },
    "executionInfo": {
     "elapsed": 4,
     "status": "ok",
     "timestamp": 1645816621731,
     "user": {
      "displayName": "Alejandro Aboy",
      "photoUrl": "https://lh3.googleusercontent.com/a-/AOh14GjRm4WtKp8keTOhttPGqVMeiAlZcOJbBHsNYKoQcw=s64",
      "userId": "12458548919771304240"
     },
     "user_tz": -60
    },
    "id": "0ik2CNv_UCT7",
    "outputId": "18b0c62d-0e87-43cb-dfbf-bf2969eb0acb"
   },
   "outputs": [
    {
     "data": {
      "text/plain": [
       "True"
      ]
     },
     "execution_count": 14,
     "metadata": {},
     "output_type": "execute_result"
    }
   ],
   "source": [
    "set3.issubset(set1)"
   ]
  },
  {
   "cell_type": "markdown",
   "metadata": {
    "id": "P-r2GRZ6QVyS"
   },
   "source": [
    "#### 12 -Using the Python Set `union` method, aggregate `set3`, `set4`, and `set5`. Then aggregate `set1` and `set2`. \n",
    "\n",
    "#### Check if the aggregated values are equal."
   ]
  },
  {
   "cell_type": "code",
   "execution_count": 15,
   "metadata": {
    "colab": {
     "base_uri": "https://localhost:8080/"
    },
    "executionInfo": {
     "elapsed": 423,
     "status": "ok",
     "timestamp": 1645816955811,
     "user": {
      "displayName": "Alejandro Aboy",
      "photoUrl": "https://lh3.googleusercontent.com/a-/AOh14GjRm4WtKp8keTOhttPGqVMeiAlZcOJbBHsNYKoQcw=s64",
      "userId": "12458548919771304240"
     },
     "user_tz": -60
    },
    "id": "HFzMLaJJQVyS",
    "outputId": "bcb21e60-0a32-417c-8fe2-fb4b27cf50ce"
   },
   "outputs": [
    {
     "data": {
      "text/plain": [
       "97"
      ]
     },
     "execution_count": 15,
     "metadata": {},
     "output_type": "execute_result"
    }
   ],
   "source": [
    "# Your code here\n",
    "union1 = set3.union(set4, set5)\n",
    "union2 = union1.union(set1,set2)\n",
    "len(union2)"
   ]
  },
  {
   "cell_type": "markdown",
   "metadata": {
    "id": "K9lxBOHjQVyS"
   },
   "source": [
    "#### 13 -Using the `pop` method, remove the first element from `set1`."
   ]
  },
  {
   "cell_type": "code",
   "execution_count": 16,
   "metadata": {
    "colab": {
     "base_uri": "https://localhost:8080/"
    },
    "executionInfo": {
     "elapsed": 306,
     "status": "ok",
     "timestamp": 1645817109800,
     "user": {
      "displayName": "Alejandro Aboy",
      "photoUrl": "https://lh3.googleusercontent.com/a-/AOh14GjRm4WtKp8keTOhttPGqVMeiAlZcOJbBHsNYKoQcw=s64",
      "userId": "12458548919771304240"
     },
     "user_tz": -60
    },
    "id": "2SbJGGpRQVyS",
    "outputId": "aae18b56-c89f-4ae6-b105-7981a3f5b24e"
   },
   "outputs": [
    {
     "data": {
      "text/plain": [
       "1"
      ]
     },
     "execution_count": 16,
     "metadata": {},
     "output_type": "execute_result"
    }
   ],
   "source": [
    "# Your code here\n",
    "set1.pop()"
   ]
  },
  {
   "cell_type": "markdown",
   "metadata": {
    "id": "ltk8XNvhQVyS"
   },
   "source": [
    "#### 14 -Remove every element in the following list from `set1` if they are present in the set. Print the remaining elements.\n",
    "\n",
    "```\n",
    "list_to_remove = [1, 9, 11, 19, 21, 29, 31, 39, 41, 49, 51, 59, 61, 69, 71, 79, 81, 89, 91, 99]\n",
    "```"
   ]
  },
  {
   "cell_type": "code",
   "execution_count": 17,
   "metadata": {
    "colab": {
     "base_uri": "https://localhost:8080/"
    },
    "executionInfo": {
     "elapsed": 5,
     "status": "ok",
     "timestamp": 1645817164435,
     "user": {
      "displayName": "Alejandro Aboy",
      "photoUrl": "https://lh3.googleusercontent.com/a-/AOh14GjRm4WtKp8keTOhttPGqVMeiAlZcOJbBHsNYKoQcw=s64",
      "userId": "12458548919771304240"
     },
     "user_tz": -60
    },
    "id": "lKMnL6W4QVyS",
    "outputId": "3180b52d-2527-4b16-a063-ea4d75f486b9"
   },
   "outputs": [
    {
     "data": {
      "text/plain": [
       "{2,\n",
       " 3,\n",
       " 4,\n",
       " 5,\n",
       " 6,\n",
       " 7,\n",
       " 10,\n",
       " 12,\n",
       " 13,\n",
       " 16,\n",
       " 18,\n",
       " 20,\n",
       " 22,\n",
       " 23,\n",
       " 24,\n",
       " 25,\n",
       " 27,\n",
       " 28,\n",
       " 30,\n",
       " 32,\n",
       " 34,\n",
       " 35,\n",
       " 37,\n",
       " 38,\n",
       " 40,\n",
       " 42,\n",
       " 43,\n",
       " 44,\n",
       " 46,\n",
       " 48,\n",
       " 50,\n",
       " 52,\n",
       " 53,\n",
       " 54,\n",
       " 56,\n",
       " 57,\n",
       " 58,\n",
       " 62,\n",
       " 63,\n",
       " 64,\n",
       " 65,\n",
       " 66,\n",
       " 67,\n",
       " 70,\n",
       " 72,\n",
       " 75,\n",
       " 76,\n",
       " 77,\n",
       " 78,\n",
       " 80,\n",
       " 82,\n",
       " 83,\n",
       " 85,\n",
       " 86,\n",
       " 87,\n",
       " 88,\n",
       " 90,\n",
       " 92,\n",
       " 93,\n",
       " 94,\n",
       " 95,\n",
       " 96,\n",
       " 97,\n",
       " 100}"
      ]
     },
     "execution_count": 17,
     "metadata": {},
     "output_type": "execute_result"
    }
   ],
   "source": [
    "# Your code here\n",
    "list_to_remove = [1, 9, 11, 19, 21, 29, 31, 39, 41, 49, 51, 59, 61, 69, 71, 79, 81, 89, 91, 99]\n",
    "\n",
    "for i in list_to_remove:\n",
    "  if i in set1:\n",
    "    set1.remove(i)\n",
    "\n",
    "set1"
   ]
  },
  {
   "cell_type": "markdown",
   "metadata": {
    "id": "ptkeafhJQVyS"
   },
   "source": [
    "#### 15 -The objective of this lab is to provide you a overview of manipulating sets in Python and how they can be integrated within a real usecase\n",
    "#### For the exercises below it's strongly advised to quickly check this link: https://docs.python.org/2/library/sets.html#sets.Set\n",
    "#### Imagine you need to create the grocery list for your family! Below you will see a list of items each family member wants. There will be repetitions because this family has the habbit of each time they notice something is missing to write it down. The problem is that they don't really talk to each other and therefore some items in the list are repeated. With the collection of questions below you will see how they solve repetion and create a grocery list with unique elements.\n",
    "\n"
   ]
  },
  {
   "cell_type": "code",
   "execution_count": 18,
   "metadata": {
    "executionInfo": {
     "elapsed": 342,
     "status": "ok",
     "timestamp": 1645817726286,
     "user": {
      "displayName": "Alejandro Aboy",
      "photoUrl": "https://lh3.googleusercontent.com/a-/AOh14GjRm4WtKp8keTOhttPGqVMeiAlZcOJbBHsNYKoQcw=s64",
      "userId": "12458548919771304240"
     },
     "user_tz": -60
    },
    "id": "dcF3XsxcQVyS"
   },
   "outputs": [],
   "source": [
    "father_list = ['garlic', 'watermelon', 'toilet paper', 'yogurt', 'onions', 'gums', 'flour', 'cucumber', 'watermelon', 'yogurt', 'garlic']\n",
    "\n",
    "mother_list = []\n",
    "\n",
    "Jo_list = ['blueberries', 'sugar', 'watermelon', 'gums', 'tomatoes', 'yogurt', 'juice', 'milk', 'onions', 'garlic', 'cucumber', 'sugar', 'blueberries', 'gums', 'yogurt']\n",
    "\n",
    "Carlos_list = ['tomatoes', 'water', 'onions', 'blueberries', 'garlic', 'flour', 'cherries', 'tomatoes', 'onions', 'water', 'tomatoes', 'toilet paper']\n",
    "\n",
    "Mattia_list = []\n",
    "\n",
    "\n"
   ]
  },
  {
   "cell_type": "markdown",
   "metadata": {
    "id": "bjfv_ocYQVyT"
   },
   "source": [
    "#### 15.1- As you can see there are items repeated in each list. Creat a sequence of iterable elements with dintinct items that each family member wants. You can do it in two different ways. Assign each one (set) to a variable with the name of the family member (ex: father_set)."
   ]
  },
  {
   "cell_type": "code",
   "execution_count": 19,
   "metadata": {
    "colab": {
     "base_uri": "https://localhost:8080/"
    },
    "executionInfo": {
     "elapsed": 408,
     "status": "ok",
     "timestamp": 1645818024544,
     "user": {
      "displayName": "Alejandro Aboy",
      "photoUrl": "https://lh3.googleusercontent.com/a-/AOh14GjRm4WtKp8keTOhttPGqVMeiAlZcOJbBHsNYKoQcw=s64",
      "userId": "12458548919771304240"
     },
     "user_tz": -60
    },
    "id": "3pSnWjM8QVyT",
    "outputId": "6b1882ff-591c-4f5b-a021-2a06ca2268b2"
   },
   "outputs": [
    {
     "name": "stdout",
     "output_type": "stream",
     "text": [
      "{'garlic', 'toilet paper', 'flour', 'yogurt', 'watermelon', 'onions', 'gums', 'cucumber'}\n",
      "{'garlic', 'yogurt', 'watermelon', 'tomatoes', 'blueberries', 'onions', 'milk', 'gums', 'juice', 'sugar', 'cucumber'}\n",
      "{'garlic', 'toilet paper', 'flour', 'tomatoes', 'blueberries', 'onions', 'water', 'cherries'}\n"
     ]
    }
   ],
   "source": [
    "# Your code here\n",
    "father_set = set(father_list)\n",
    "print(father_set)\n",
    "\n",
    "jo_list_set = set(Jo_list)\n",
    "print(jo_list_set)\n",
    "\n",
    "carlos_list_set = set(Carlos_list)\n",
    "print(carlos_list_set)"
   ]
  },
  {
   "cell_type": "markdown",
   "metadata": {
    "id": "0RekugI2QVyT"
   },
   "source": [
    "#### 15.2- Q: Mattia wants the same items that his brother Carlos and his sister Jo but doesn't want anything they both want.\n",
    "\n",
    "##### Hint: check out the documentation for `x.symmetric_difference(y)`."
   ]
  },
  {
   "cell_type": "code",
   "execution_count": 20,
   "metadata": {
    "colab": {
     "base_uri": "https://localhost:8080/"
    },
    "executionInfo": {
     "elapsed": 313,
     "status": "ok",
     "timestamp": 1645817871661,
     "user": {
      "displayName": "Alejandro Aboy",
      "photoUrl": "https://lh3.googleusercontent.com/a-/AOh14GjRm4WtKp8keTOhttPGqVMeiAlZcOJbBHsNYKoQcw=s64",
      "userId": "12458548919771304240"
     },
     "user_tz": -60
    },
    "id": "UHsTMiOxQVyT",
    "outputId": "7ebc6cbc-9263-41d1-e239-415f3fe15542"
   },
   "outputs": [
    {
     "data": {
      "text/plain": [
       "{'cherries',\n",
       " 'cucumber',\n",
       " 'flour',\n",
       " 'gums',\n",
       " 'juice',\n",
       " 'milk',\n",
       " 'sugar',\n",
       " 'toilet paper',\n",
       " 'water',\n",
       " 'watermelon',\n",
       " 'yogurt'}"
      ]
     },
     "execution_count": 20,
     "metadata": {},
     "output_type": "execute_result"
    }
   ],
   "source": [
    "# Your code here\n",
    "mattia_set = carlos_list_set.symmetric_difference(jo_list_set)\n",
    "mattia_set"
   ]
  },
  {
   "cell_type": "markdown",
   "metadata": {
    "id": "-2cfpMnHQVyT"
   },
   "source": [
    "#### 15.3- The line of code below  will  generate a list of random elements from a collection of items, with replacement. Run it and from it create a sequence of unique elements and assign it to the variable mother.\n"
   ]
  },
  {
   "cell_type": "code",
   "execution_count": 21,
   "metadata": {
    "colab": {
     "base_uri": "https://localhost:8080/"
    },
    "executionInfo": {
     "elapsed": 322,
     "status": "ok",
     "timestamp": 1645817892620,
     "user": {
      "displayName": "Alejandro Aboy",
      "photoUrl": "https://lh3.googleusercontent.com/a-/AOh14GjRm4WtKp8keTOhttPGqVMeiAlZcOJbBHsNYKoQcw=s64",
      "userId": "12458548919771304240"
     },
     "user_tz": -60
    },
    "id": "u45Lin2qQVyT",
    "outputId": "ef2216ca-bc39-4eaf-f55a-902beec2fcae"
   },
   "outputs": [
    {
     "name": "stdout",
     "output_type": "stream",
     "text": [
      "['chocolate', 'milk', 'water', 'chocolate', 'garlic', 'blueberries', 'deodorant', 'tomatoes', 'watermelon', 'milk']\n"
     ]
    }
   ],
   "source": [
    "import random\n",
    "items = ['milk', 'water', 'chocolate', 'blueberries', 'shampoo', 'flour', 'bread', 'sugar', 'watermelon', 'vinegar', 'tomatoes', 'yogurt', 'juice', 'gums', 'onions', 'garlic', 'cucumber', 'mushrooms', 'toilet paper', 'oranges', 'deodorant', 'cherries']\n",
    "\n",
    "mother_list = random.choices(items,k = 10) # https://docs.python.org/3/library/random.html\n",
    "\n",
    "print(mother_list)"
   ]
  },
  {
   "cell_type": "code",
   "execution_count": 22,
   "metadata": {
    "colab": {
     "base_uri": "https://localhost:8080/"
    },
    "executionInfo": {
     "elapsed": 321,
     "status": "ok",
     "timestamp": 1645817932433,
     "user": {
      "displayName": "Alejandro Aboy",
      "photoUrl": "https://lh3.googleusercontent.com/a-/AOh14GjRm4WtKp8keTOhttPGqVMeiAlZcOJbBHsNYKoQcw=s64",
      "userId": "12458548919771304240"
     },
     "user_tz": -60
    },
    "id": "I52MtJneQVyT",
    "outputId": "e31fa41a-fd81-4696-cb08-ca6a3a87f0c6"
   },
   "outputs": [
    {
     "data": {
      "text/plain": [
       "{'blueberries',\n",
       " 'chocolate',\n",
       " 'deodorant',\n",
       " 'garlic',\n",
       " 'milk',\n",
       " 'tomatoes',\n",
       " 'water',\n",
       " 'watermelon'}"
      ]
     },
     "execution_count": 22,
     "metadata": {},
     "output_type": "execute_result"
    }
   ],
   "source": [
    "# Your code here\n",
    "mother_set = set(mother_list)\n",
    "mother_set"
   ]
  },
  {
   "cell_type": "markdown",
   "metadata": {
    "id": "clrWVC9qQVyT"
   },
   "source": [
    "#### 15.4- Before leaving the house to the grocery store the father found a lot of toilet paper, so the mother decided to remove it from the items needed to be bought. Use the `.discard()` method to remove from each set created before the 'toilet paper'. \n",
    "\n",
    "#### Hint: Try to first create a list contaning the variables of each set created before, then loop through them and remove the unecessary item. \n",
    "\n",
    "##### Note: The`.discard()` method will remove and update the set without the need of reassignment.\n",
    "\n"
   ]
  },
  {
   "cell_type": "code",
   "execution_count": 30,
   "metadata": {
    "colab": {
     "base_uri": "https://localhost:8080/"
    },
    "executionInfo": {
     "elapsed": 302,
     "status": "ok",
     "timestamp": 1645818060365,
     "user": {
      "displayName": "Alejandro Aboy",
      "photoUrl": "https://lh3.googleusercontent.com/a-/AOh14GjRm4WtKp8keTOhttPGqVMeiAlZcOJbBHsNYKoQcw=s64",
      "userId": "12458548919771304240"
     },
     "user_tz": -60
    },
    "id": "864yaDCNQVyT",
    "outputId": "27f9b740-ccb1-4e8e-deac-31a30c7c2bc5"
   },
   "outputs": [
    {
     "data": {
      "text/plain": [
       "[{'cucumber', 'flour', 'gums', 'onions', 'watermelon', 'yogurt'},\n",
       " {'blueberries',\n",
       "  'chocolate',\n",
       "  'deodorant',\n",
       "  'garlic',\n",
       "  'milk',\n",
       "  'tomatoes',\n",
       "  'water',\n",
       "  'watermelon'},\n",
       " {'cherries',\n",
       "  'cucumber',\n",
       "  'flour',\n",
       "  'gums',\n",
       "  'juice',\n",
       "  'milk',\n",
       "  'sugar',\n",
       "  'water',\n",
       "  'watermelon',\n",
       "  'yogurt'},\n",
       " {'blueberries',\n",
       "  'cucumber',\n",
       "  'garlic',\n",
       "  'gums',\n",
       "  'juice',\n",
       "  'milk',\n",
       "  'onions',\n",
       "  'sugar',\n",
       "  'tomatoes',\n",
       "  'watermelon',\n",
       "  'yogurt'},\n",
       " {'blueberries', 'cherries', 'flour', 'garlic', 'onions', 'tomatoes', 'water'}]"
      ]
     },
     "execution_count": 30,
     "metadata": {},
     "output_type": "execute_result"
    }
   ],
   "source": [
    "# Your code here\n",
    "\n",
    "grocery_full_list = [father_set,mother_set,mattia_set,jo_list_set,carlos_list_set]\n",
    "\n",
    "for i in grocery_full_list:\n",
    "    i.discard('toilet paper')\n",
    "    #print(i)\n",
    "\n",
    "grocery_full_list"
   ]
  },
  {
   "cell_type": "markdown",
   "metadata": {
    "id": "ajJtGhbSQVyU"
   },
   "source": [
    "#### 15.5- Create a set with all the groceries needed to be bought for the house (no repetitions)."
   ]
  },
  {
   "cell_type": "code",
   "execution_count": 26,
   "metadata": {
    "colab": {
     "base_uri": "https://localhost:8080/"
    },
    "executionInfo": {
     "elapsed": 295,
     "status": "ok",
     "timestamp": 1645818168605,
     "user": {
      "displayName": "Alejandro Aboy",
      "photoUrl": "https://lh3.googleusercontent.com/a-/AOh14GjRm4WtKp8keTOhttPGqVMeiAlZcOJbBHsNYKoQcw=s64",
      "userId": "12458548919771304240"
     },
     "user_tz": -60
    },
    "id": "hAJ6ZTZNQVyU",
    "outputId": "40278ca7-6ff7-4ffd-9810-c8f5a77097a2"
   },
   "outputs": [
    {
     "data": {
      "text/plain": [
       "{'blueberries',\n",
       " 'cherries',\n",
       " 'chocolate',\n",
       " 'cucumber',\n",
       " 'deodorant',\n",
       " 'flour',\n",
       " 'garlic',\n",
       " 'gums',\n",
       " 'juice',\n",
       " 'milk',\n",
       " 'onions',\n",
       " 'sugar',\n",
       " 'tomatoes',\n",
       " 'water',\n",
       " 'watermelon',\n",
       " 'yogurt'}"
      ]
     },
     "execution_count": 26,
     "metadata": {},
     "output_type": "execute_result"
    }
   ],
   "source": [
    "# Your code here\n",
    "house_set = father_set.union(jo_list_set, carlos_list_set, mattia_set, mother_set)\n",
    "house_set"
   ]
  },
  {
   "cell_type": "markdown",
   "metadata": {
    "id": "WufQtklfQVyU"
   },
   "source": [
    "#### 15.6- The Father said that he could only buy five items this time. So he decided to arbitraly pick wich ones to buy this time.\n",
    "\n",
    "##### Hint: use the `.pop()` method."
   ]
  },
  {
   "cell_type": "code",
   "execution_count": 27,
   "metadata": {
    "colab": {
     "base_uri": "https://localhost:8080/"
    },
    "executionInfo": {
     "elapsed": 315,
     "status": "ok",
     "timestamp": 1645818358666,
     "user": {
      "displayName": "Alejandro Aboy",
      "photoUrl": "https://lh3.googleusercontent.com/a-/AOh14GjRm4WtKp8keTOhttPGqVMeiAlZcOJbBHsNYKoQcw=s64",
      "userId": "12458548919771304240"
     },
     "user_tz": -60
    },
    "id": "phL_J5KEQVyU",
    "outputId": "0f922323-2f09-45da-bd74-1ffea98c8ff9"
   },
   "outputs": [
    {
     "data": {
      "text/plain": [
       "{'cucumber', 'flour', 'gums', 'onions', 'watermelon', 'yogurt'}"
      ]
     },
     "execution_count": 27,
     "metadata": {},
     "output_type": "execute_result"
    }
   ],
   "source": [
    "# Your code here\n",
    "father_set.pop()\n",
    "father_set"
   ]
  },
  {
   "cell_type": "code",
   "execution_count": null,
   "metadata": {},
   "outputs": [],
   "source": []
  }
 ],
 "metadata": {
  "colab": {
   "name": "done-challenge-2.ipynb",
   "provenance": []
  },
  "kernelspec": {
   "display_name": "Python 3 (ipykernel)",
   "language": "python",
   "name": "python3"
  },
  "language_info": {
   "codemirror_mode": {
    "name": "ipython",
    "version": 3
   },
   "file_extension": ".py",
   "mimetype": "text/x-python",
   "name": "python",
   "nbconvert_exporter": "python",
   "pygments_lexer": "ipython3",
   "version": "3.9.7"
  }
 },
 "nbformat": 4,
 "nbformat_minor": 1
}
