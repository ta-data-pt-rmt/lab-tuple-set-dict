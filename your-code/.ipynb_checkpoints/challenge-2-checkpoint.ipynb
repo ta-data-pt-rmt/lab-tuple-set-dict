{
 "cells": [
  {
   "cell_type": "markdown",
   "metadata": {},
   "source": [
    "## Challenge 2: Sets\n",
    "\n",
    "There are a lot to learn about Python Sets and the information presented in the lesson is limited due to its length. To learn Python Sets in depth you are strongly encouraged to review the W3Schools tutorial on [Python Sets Examples and Methods](https://www.w3schools.com/python/python_sets.asp) before you work on this lab. Some difficult questions in this lab have their solutions in the W3Schools tutorial.\n",
    "\n",
    "#### First, import the Python `random` libary"
   ]
  },
  {
   "cell_type": "code",
   "execution_count": null,
   "metadata": {},
   "outputs": [],
   "source": [
    "import random"
   ]
  },
  {
   "cell_type": "markdown",
   "metadata": {},
   "source": [
    "#### 1 - In the cell below, create a list named `sample_list_1` with 80 random values. \n",
    "\n",
    "Requirements:\n",
    "\n",
    "* Each value is an integer falling between 0 and 100.\n",
    "* Each value in the list is unique.\n",
    "\n",
    "Print `sample_list_1` to review its values\n",
    "\n",
    "*Hint: use `random.sample` ([reference](https://docs.python.org/3/library/random.html#random.sample)).*"
   ]
  },
  {
   "cell_type": "code",
   "execution_count": 1,
   "metadata": {},
   "outputs": [
    {
     "name": "stdout",
     "output_type": "stream",
     "text": [
      "[57, 34, 28, 27, 95, 100, 49, 61, 25, 29, 59, 46, 85, 3, 10, 17, 56, 44, 58, 66, 74, 70, 7, 69, 5, 93, 31, 75, 99, 8, 68, 48, 41, 86, 50, 72, 22, 43, 73, 52, 24, 77, 82, 78, 15, 6, 35, 40, 39, 91, 96, 79, 87, 98, 71, 84, 1, 51, 0, 20, 11, 65, 80, 64, 42, 97, 9, 45, 62, 12, 47, 37, 81, 30, 18, 89, 38, 54, 4, 36]\n"
     ]
    }
   ],
   "source": [
    "import random\n",
    "sample_list_1 = random.sample(range(101), 80) \n",
    "print(sample_list_1)\n"
   ]
  },
  {
   "cell_type": "markdown",
   "metadata": {},
   "source": [
    "#### 2 - Convert `sample_list_1` to a set called `set1`. Print the length of the set. Is its length still 80?"
   ]
  },
  {
   "cell_type": "code",
   "execution_count": 7,
   "metadata": {},
   "outputs": [
    {
     "name": "stdout",
     "output_type": "stream",
     "text": [
      "The length of set1 is: 80\n"
     ]
    }
   ],
   "source": [
    "set1 = set(sample_list_1)\n",
    "print(\"The length of set1 is:\", len(set1))"
   ]
  },
  {
   "cell_type": "markdown",
   "metadata": {},
   "source": [
    "3 - Create another list named `sample_list_2` with 80 random values.\n",
    "\n",
    "Requirements:\n",
    "\n",
    "* Each value is an integer falling between 0 and 100.\n",
    "* The values in the list don't have to be unique.\n",
    "\n",
    "*Hint: Use a FOR loop.*"
   ]
  },
  {
   "cell_type": "code",
   "execution_count": 3,
   "metadata": {},
   "outputs": [
    {
     "name": "stdout",
     "output_type": "stream",
     "text": [
      "[50, 40, 84, 52, 72, 60, 55, 1, 75, 7, 4, 53, 46, 17, 97, 23, 91, 37, 100, 36, 20, 21, 27, 90, 18, 20, 44, 7, 14, 20, 43, 42, 56, 74, 9, 74, 67, 29, 36, 99, 20, 70, 13, 27, 10, 77, 62, 45, 72, 74, 87, 39, 84, 80, 13, 17, 7, 17, 3, 50, 95, 91, 18, 61, 0, 82, 30, 15, 65, 23, 58, 57, 83, 43, 20, 9, 57, 33, 54, 83]\n"
     ]
    }
   ],
   "source": [
    "import random\n",
    "sample_list_2 = []\n",
    "for _ in range(80):\n",
    "    number = random.randint(0, 100)\n",
    "    sample_list_2.append(number)\n",
    "print(sample_list_2)"
   ]
  },
  {
   "cell_type": "markdown",
   "metadata": {},
   "source": [
    "#### 4 - Convert `sample_list_2` to a set called `set2`. Print the length of the set. Is its length still 80?"
   ]
  },
  {
   "cell_type": "code",
   "execution_count": 5,
   "metadata": {},
   "outputs": [
    {
     "name": "stdout",
     "output_type": "stream",
     "text": [
      "The length of set2 is: 57\n"
     ]
    }
   ],
   "source": [
    "set2 = set(sample_list_2)\n",
    "print(\"The length of set2 is:\", len(set2))\n"
   ]
  },
  {
   "cell_type": "markdown",
   "metadata": {},
   "source": [
    " 5 - Identify the elements present in `set1` but not in `set2`. Assign the elements to a new set named `set3`."
   ]
  },
  {
   "cell_type": "code",
   "execution_count": 8,
   "metadata": {},
   "outputs": [
    {
     "name": "stdout",
     "output_type": "stream",
     "text": [
      "{5, 6, 8, 11, 12, 22, 24, 25, 28, 31, 34, 35, 38, 41, 47, 48, 49, 51, 59, 64, 66, 68, 69, 71, 73, 78, 79, 81, 85, 86, 89, 93, 96, 98}\n"
     ]
    }
   ],
   "source": [
    "set1 = set(sample_list_1)\n",
    "set2 = set(sample_list_2)\n",
    "set3 = set1 - set2\n",
    "print(set3)"
   ]
  },
  {
   "cell_type": "markdown",
   "metadata": {},
   "source": [
    "#### 6 - Identify the elements present in `set2` but not in `set1`. Assign the elements to a new set named `set4`."
   ]
  },
  {
   "cell_type": "code",
   "execution_count": 9,
   "metadata": {},
   "outputs": [
    {
     "name": "stdout",
     "output_type": "stream",
     "text": [
      "{33, 67, 13, 14, 83, 21, 53, 23, 55, 90, 60}\n"
     ]
    }
   ],
   "source": [
    "set1 = set(sample_list_1)\n",
    "set2 = set(sample_list_2)\n",
    "set4 = set2 - set1\n",
    "print(set4)"
   ]
  },
  {
   "cell_type": "markdown",
   "metadata": {},
   "source": [
    "#### 7 - Now Identify the elements shared between `set1` and `set2`. Assign the elements to a new set named `set5`."
   ]
  },
  {
   "cell_type": "code",
   "execution_count": 15,
   "metadata": {},
   "outputs": [
    {
     "name": "stdout",
     "output_type": "stream",
     "text": [
      "{0, 1, 3, 4, 7, 9, 10, 15, 17, 18, 20, 27, 29, 30, 36, 37, 39, 40, 42, 43, 44, 45, 46, 50, 52, 54, 56, 57, 58, 61, 62, 65, 70, 72, 74, 75, 77, 80, 82, 84, 87, 91, 95, 97, 99, 100}\n"
     ]
    }
   ],
   "source": [
    "set1 = set(sample_list_1)\n",
    "set2 = set(sample_list_2)\n",
    "set5 = set1.intersection(set2)\n",
    "print(set5)\n"
   ]
  },
  {
   "cell_type": "markdown",
   "metadata": {},
   "source": [
    " 8 - Create an empty set called `set6`."
   ]
  },
  {
   "cell_type": "code",
   "execution_count": 16,
   "metadata": {},
   "outputs": [
    {
     "name": "stdout",
     "output_type": "stream",
     "text": [
      "set()\n",
      "<class 'set'>\n"
     ]
    }
   ],
   "source": [
    "set6 = set()\n",
    "\n",
    "print(set6)\n",
    "print(type(set6))\n"
   ]
  },
  {
   "cell_type": "markdown",
   "metadata": {},
   "source": [
    "#### 9 - Add `set3` and `set5` to `set6` using the Python Set `update` method."
   ]
  },
  {
   "cell_type": "code",
   "execution_count": 19,
   "metadata": {},
   "outputs": [
    {
     "name": "stdout",
     "output_type": "stream",
     "text": [
      "{0, 1, 3, 4, 5, 6, 7, 8, 9, 10, 11, 12, 15, 17, 18, 20, 22, 24, 25, 27, 28, 29, 30, 31, 34, 35, 36, 37, 38, 39, 40, 41, 42, 43, 44, 45, 46, 47, 48, 49, 50, 51, 52, 54, 56, 57, 58, 59, 61, 62, 64, 65, 66, 68, 69, 70, 71, 72, 73, 74, 75, 77, 78, 79, 80, 81, 82, 84, 85, 86, 87, 89, 91, 93, 95, 96, 97, 98, 99, 100}\n"
     ]
    }
   ],
   "source": [
    "set3 = set1 - set2\n",
    "set5 = set1.intersection(set2)\n",
    "set6 = set()                               \n",
    "set6.update(set3)\n",
    "set6.update(set5)\n",
    "print(set6)\n",
    "                                                                                                                                                                                                                                                                                                                                                                                                                                            "
   ]
  },
  {
   "cell_type": "markdown",
   "metadata": {},
   "source": [
    "#### 10 - Check if `set1` and `set6` are equal."
   ]
  },
  {
   "cell_type": "code",
   "execution_count": 20,
   "metadata": {},
   "outputs": [
    {
     "name": "stdout",
     "output_type": "stream",
     "text": [
      "True\n"
     ]
    }
   ],
   "source": [
    "are_equal = set1 == set6\n",
    "print(are_equal)\n"
   ]
  },
  {
   "cell_type": "markdown",
   "metadata": {},
   "source": [
    "#### 11 - Check if `set1` contains `set2` using the Python Set `issubset` method. Then check if `set1` contains `set3`.*"
   ]
  },
  {
   "cell_type": "code",
   "execution_count": 22,
   "metadata": {},
   "outputs": [
    {
     "name": "stdout",
     "output_type": "stream",
     "text": [
      "set1 contains set2: False\n",
      "set1 contains set3: True\n"
     ]
    }
   ],
   "source": [
    "set1 = set(sample_list_1)\n",
    "set2 = set(sample_list_2)\n",
    "contains_set2 = set2.issubset(set1)\n",
    "print(f\"set1 contains set2: {contains_set2}\")\n",
    "contains_set3 = set3.issubset(set1)\n",
    "print(f\"set1 contains set3: {contains_set3}\")\n",
    "\n",
    "\n",
    "\n"
   ]
  },
  {
   "cell_type": "markdown",
   "metadata": {},
   "source": [
    " 12 -Using the Python Set `union` method, aggregate `set3`, `set4`, and `set5`. Then aggregate `set1` and `set2`. \n",
    "\n",
    " Check if the aggregated values are equal."
   ]
  },
  {
   "cell_type": "code",
   "execution_count": 23,
   "metadata": {},
   "outputs": [
    {
     "name": "stdout",
     "output_type": "stream",
     "text": [
      "The aggregated values are equal: True\n"
     ]
    }
   ],
   "source": [
    "aggregate1 = set3.union(set4, set5)\n",
    "aggregate2 = set1.union(set2)\n",
    "are_aggregates_equal = aggregate1 == aggregate2\n",
    "print(f\"The aggregated values are equal: {are_aggregates_equal}\")"
   ]
  },
  {
   "cell_type": "markdown",
   "metadata": {},
   "source": [
    " 13 -Using the `pop` method, remove the first element from `set1`."
   ]
  },
  {
   "cell_type": "code",
   "execution_count": 26,
   "metadata": {},
   "outputs": [
    {
     "name": "stdout",
     "output_type": "stream",
     "text": [
      "Removed element: 1\n",
      "Remaining set: {3, 4, 5, 6, 7, 8, 9, 10, 11, 12, 15, 17, 18, 20, 22, 24, 25, 27, 28, 29, 30, 31, 34, 35, 36, 37, 38, 39, 40, 41, 42, 43, 44, 45, 46, 47, 48, 49, 50, 51, 52, 54, 56, 57, 58, 59, 61, 62, 64, 65, 66, 68, 69, 70, 71, 72, 73, 74, 75, 77, 78, 79, 80, 81, 82, 84, 85, 86, 87, 89, 91, 93, 95, 96, 97, 98, 99, 100}\n"
     ]
    }
   ],
   "source": [
    "removed_element = set1.pop()\n",
    "\n",
    "print(f\"Removed element: {removed_element}\")\n",
    "print(f\"Remaining set: {set1}\")"
   ]
  },
  {
   "cell_type": "markdown",
   "metadata": {},
   "source": [
    " 14 -Remove every element in the following list from `set1` if they are present in the set. Print the remaining elements.\n",
    "\n",
    "```\n",
    "list_to_remove = [1, 9, 11, 19, 21, 29, 31, 39, 41, 49, 51, 59, 61, 69, 71, 79, 81, 89, 91, 99]\n",
    "```"
   ]
  },
  {
   "cell_type": "code",
   "execution_count": 28,
   "metadata": {},
   "outputs": [
    {
     "name": "stdout",
     "output_type": "stream",
     "text": [
      "Remaining elements in set1: {3, 4, 5, 6, 7, 8, 10, 12, 15, 17, 18, 20, 22, 24, 25, 27, 28, 30, 34, 35, 36, 37, 38, 40, 42, 43, 44, 45, 46, 47, 48, 50, 52, 54, 56, 57, 58, 62, 64, 65, 66, 68, 70, 72, 73, 74, 75, 77, 78, 80, 82, 84, 85, 86, 87, 93, 95, 96, 97, 98, 100}\n"
     ]
    }
   ],
   "source": [
    "list_to_remove = [1, 9, 11, 19, 21, 29, 31, 39, 41, 49, 51, 59, 61, 69, 71, 79, 81, 89, 91, 99]\n",
    "for item in list_to_remove:\n",
    "    set1.discard(item)\n",
    "print(f\"Remaining elements in set1: {set1}\")"
   ]
  },
  {
   "cell_type": "markdown",
   "metadata": {},
   "source": [
    "15 -The objective of this lab is to provide you a overview of manipulating sets in Python and how they can be integrated within a real usecase\n",
    " For the exercises below it's strongly advised to quickly check this link: https://docs.python.org/2/library/sets.html#sets.Set Imagine you need to create the grocery list for your family! Below you will see a list of items each family member wants. There will be repetitions because this family has the habbit of each time they notice something is missing to write it down. The problem is that they don't really talk to each other and therefore some items in the list are repeated. With the collection of questions below you will see how they solve repetion and create a grocery list with unique elements.\n",
    "\n"
   ]
  },
  {
   "cell_type": "code",
   "execution_count": 29,
   "metadata": {},
   "outputs": [
    {
     "name": "stdout",
     "output_type": "stream",
     "text": [
      "Unique Grocery List: ['cucumber', 'sugar', 'garlic', 'juice', 'flour', 'gums', 'toilet paper', 'cherries', 'onions', 'water', 'blueberries', 'tomatoes', 'watermelon', 'milk', 'yogurt']\n"
     ]
    }
   ],
   "source": [
    "father_list = ['garlic', 'watermelon', 'toilet paper', 'yogurt', 'onions', 'gums', 'flour', 'cucumber', 'watermelon', 'yogurt', 'garlic']\n",
    "\n",
    "mother_list = []\n",
    "\n",
    "Jo_list = ['blueberries', 'sugar', 'watermelon', 'gums', 'tomatoes', 'yogurt', 'juice', 'milk', 'onions', 'garlic', 'cucumber', 'sugar', 'blueberries', 'gums', 'yogurt']\n",
    "\n",
    "Carlos_list = ['tomatoes', 'water', 'onions', 'blueberries', 'garlic', 'flour', 'cherries', 'tomatoes', 'onions', 'water', 'tomatoes', 'toilet paper']\n",
    "\n",
    "Mattia_list = []\n",
    "\n",
    "\n",
    "\n",
    "# Combine lists into one large list\n",
    "combined_list = father_list + mother_list + Jo_list + Carlos_list + Mattia_list\n",
    "\n",
    "# Convert the combined list to a set to remove duplicates\n",
    "unique_grocery_set = set(combined_list)\n",
    "\n",
    "unique_grocery_list = list(unique_grocery_set)\n",
    "print(\"Unique Grocery List:\", unique_grocery_list)\n"
   ]
  },
  {
   "cell_type": "markdown",
   "metadata": {},
   "source": [
    "#### 15.1- As you can see there are items repeated in each list. Creat a sequence of iterable elements with dintinct items that each family member wants. You can do it in two different ways. Assign each one (set) to a variable with the name of the family member (ex: father_set)."
   ]
  },
  {
   "cell_type": "code",
   "execution_count": 33,
   "metadata": {},
   "outputs": [
    {
     "name": "stdout",
     "output_type": "stream",
     "text": [
      "Father's unique items: {'cucumber', 'garlic', 'flour', 'gums', 'toilet paper', 'onions', 'watermelon', 'yogurt'}\n",
      "Mother's unique items: set()\n",
      "Jo's unique items: {'cucumber', 'sugar', 'garlic', 'juice', 'gums', 'onions', 'blueberries', 'tomatoes', 'watermelon', 'milk', 'yogurt'}\n",
      "Carlos's unique items: {'garlic', 'flour', 'cherries', 'toilet paper', 'onions', 'water', 'tomatoes', 'blueberries'}\n",
      "Mattia's unique items: set()\n"
     ]
    }
   ],
   "source": [
    "#Approach 1 - Direct Method\n",
    "father_set = set(father_list)\n",
    "mother_set = set()  # Mother's and Mattia's lists are empty\n",
    "Jo_set = set(Jo_list)\n",
    "Carlos_set = set(Carlos_list)\n",
    "Mattia_set = set(Mattia_list)\n",
    "\n",
    "print(\"Father's unique items:\", father_set)\n",
    "print(\"Mother's unique items:\", mother_set)\n",
    "print(\"Jo's unique items:\", Jo_set)\n",
    "print(\"Carlos's unique items:\", Carlos_set)\n",
    "print(\"Mattia's unique items:\", Mattia_set)\n",
    "\n",
    "\n",
    "#Approach 2 - set comparision\n",
    "father_set = {item for item in father_list}\n",
    "mother_set = {item for item in mother_list}\n",
    "Jo_set = {item for item in Jo_list}\n",
    "Carlos_set = {item for item in Carlos_list}\n",
    "Mattia_set = {item for item in Mattia_list}\n",
    "print(\"Father's unique items:\", father_set)\n",
    "print(\"Mother's unique items:\", mother_set)\n",
    "print(\"Jo's unique items:\", Jo_set)\n",
    "print(\"Carlos's unique items:\", Carlos_set)\n",
    "print(\"Mattia's unique items:\", Mattia_set)\n"
   ]
  },
  {
   "cell_type": "markdown",
   "metadata": {},
   "source": [
    "#### 15.2- Q: Mattia wants the same items that his brother Carlos and his sister Jo but doesn't want anything they both want.\n",
    "\n",
    "##### Hint: check out the documentation for `x.symmetric_difference(y)`."
   ]
  },
  {
   "cell_type": "code",
   "execution_count": 34,
   "metadata": {},
   "outputs": [
    {
     "name": "stdout",
     "output_type": "stream",
     "text": [
      "Mattia's unique items: {'cucumber', 'sugar', 'juice', 'flour', 'gums', 'cherries', 'toilet paper', 'water', 'watermelon', 'milk', 'yogurt'}\n"
     ]
    }
   ],
   "source": [
    "unique_to_Carlos = Carlos_set - Jo_set\n",
    "\n",
    "unique_to_Jo = Jo_set - Carlos_set\n",
    "\n",
    "Mattia_set = unique_to_Carlos | unique_to_Jo\n",
    "\n",
    "print(\"Mattia's unique items:\", Mattia_set)"
   ]
  },
  {
   "cell_type": "markdown",
   "metadata": {},
   "source": [
    "#### 15.3- The line of code below  will  generate a list of random elements from a collection of items, with replacement. Run it and from it create a sequence of unique elements and assign it to the variable mother.\n"
   ]
  },
  {
   "cell_type": "code",
   "execution_count": 35,
   "metadata": {},
   "outputs": [
    {
     "name": "stdout",
     "output_type": "stream",
     "text": [
      "['shampoo', 'chocolate', 'garlic', 'milk', 'water', 'shampoo', 'bread', 'yogurt', 'water', 'flour']\n"
     ]
    }
   ],
   "source": [
    "import random\n",
    "items = ['milk', 'water', 'chocolate', 'blueberries', 'shampoo', 'flour', 'bread', 'sugar', 'watermelon', 'vinegar', 'tomatoes', 'yogurt', 'juice', 'gums', 'onions', 'garlic', 'cucumber', 'mushrooms', 'toilet paper', 'oranges', 'deodorant', 'cherries']\n",
    "\n",
    "mother_list = random.choices(items,k = 10) # https://docs.python.org/3/library/random.html\n",
    "\n",
    "print(mother_list)"
   ]
  },
  {
   "cell_type": "code",
   "execution_count": 36,
   "metadata": {},
   "outputs": [
    {
     "name": "stdout",
     "output_type": "stream",
     "text": [
      "Mother (unique items): ['chocolate', 'garlic', 'flour', 'water', 'shampoo', 'bread', 'milk', 'yogurt']\n"
     ]
    }
   ],
   "source": [
    "mother = list(set(mother_list))\n",
    "print(\"Mother (unique items):\", mother)"
   ]
  },
  {
   "cell_type": "markdown",
   "metadata": {},
   "source": [
    "#### 15.4- Before leaving the house to the grocery store the father found a lot of toilet paper, so the mother decided to remove it from the items needed to be bought. Use the `.discard()` method to remove from each set created before the 'toilet paper'. \n",
    "\n",
    "#### Hint: Try to first create a list contaning the variables of each set created before, then loop through them and remove the unecessary item. \n",
    "\n",
    "##### Note: The`.discard()` method will remove and update the set without the need of reassignment.\n",
    "\n"
   ]
  },
  {
   "cell_type": "code",
   "execution_count": 38,
   "metadata": {},
   "outputs": [
    {
     "name": "stdout",
     "output_type": "stream",
     "text": [
      "Father's items: {'onions', 'garlic', 'watermelon', 'yogurt'}\n",
      "Mother's items: {'water', 'chocolate', 'milk'}\n",
      "Jo's items: {'blueberries', 'sugar', 'watermelon'}\n",
      "Carlos's items: {'onions', 'water', 'tomatoes', 'blueberries'}\n",
      "Mattia's items: {'cherries', 'sugar'}\n"
     ]
    }
   ],
   "source": [
    "#Recreating faimly set\n",
    "father_set = {'garlic', 'watermelon', 'toilet paper', 'yogurt', 'onions'}\n",
    "mother_set = {'milk', 'water', 'chocolate', 'toilet paper'} \n",
    "Jo_set = {'blueberries', 'sugar', 'watermelon', 'toilet paper'}\n",
    "Carlos_set = {'tomatoes', 'water', 'onions', 'blueberries', 'toilet paper'}\n",
    "Mattia_set = {'sugar', 'cherries', 'toilet paper'}  \n",
    "family_sets = [father_set, mother_set, Jo_set, Carlos_set, Mattia_set]\n",
    "\n",
    "for family_set in family_sets:\n",
    "    family_set.discard('toilet paper')\n",
    "\n",
    "print(\"Father's items:\", father_set)\n",
    "print(\"Mother's items:\", mother_set)\n",
    "print(\"Jo's items:\", Jo_set)\n",
    "print(\"Carlos's items:\", Carlos_set)\n",
    "print(\"Mattia's items:\", Mattia_set)\n"
   ]
  },
  {
   "cell_type": "markdown",
   "metadata": {},
   "source": [
    "#### 15.5- Create a set with all the groceries needed to be bought for the house (no repetitions)."
   ]
  },
  {
   "cell_type": "code",
   "execution_count": 39,
   "metadata": {},
   "outputs": [
    {
     "name": "stdout",
     "output_type": "stream",
     "text": [
      "Unique Grocery List: {'chocolate', 'cucumber', 'sugar', 'garlic', 'juice', 'bread', 'flour', 'gums', 'toilet paper', 'cherries', 'onions', 'water', 'shampoo', 'blueberries', 'tomatoes', 'watermelon', 'milk', 'yogurt'}\n"
     ]
    }
   ],
   "source": [
    "combined_list = father_list + mother_list + Jo_list + Carlos_list + Mattia_list\n",
    "\n",
    "# Convert the combined list to a set to remove duplicates\n",
    "unique_grocery_set = set(combined_list)\n",
    "\n",
    "print(\"Unique Grocery List:\", unique_grocery_set)\n"
   ]
  },
  {
   "cell_type": "markdown",
   "metadata": {},
   "source": [
    "15.6- The Father said that he could only buy five items this time. So he decided to arbitraly pick wich ones to buy this time.\n",
    "Hint: use the `.pop()` method."
   ]
  },
  {
   "cell_type": "code",
   "execution_count": 46,
   "metadata": {},
   "outputs": [
    {
     "name": "stdout",
     "output_type": "stream",
     "text": [
      "Father will buy: ['onions', 'yogurt', 'garlic', 'watermelon', 'toilet paper']\n",
      "Items left in the set: {'oil', 'milk'}\n"
     ]
    }
   ],
   "source": [
    "father_set = {'garlic', 'watermelon', 'toilet paper', 'yogurt', 'onions','milk', 'oil'}\n",
    "items_to_buy = []\n",
    "for _ in range(5):\n",
    "    item = father_set.pop()\n",
    "    items_to_buy.append(item)\n",
    "print(\"Father will buy:\", items_to_buy)\n",
    "print(\"Items left in the set:\", father_set)"
   ]
  },
  {
   "cell_type": "code",
   "execution_count": null,
   "metadata": {},
   "outputs": [],
   "source": []
  }
 ],
 "metadata": {
  "kernelspec": {
   "display_name": "Python 3 (ipykernel)",
   "language": "python",
   "name": "python3"
  },
  "language_info": {
   "codemirror_mode": {
    "name": "ipython",
    "version": 3
   },
   "file_extension": ".py",
   "mimetype": "text/x-python",
   "name": "python",
   "nbconvert_exporter": "python",
   "pygments_lexer": "ipython3",
   "version": "3.11.7"
  }
 },
 "nbformat": 4,
 "nbformat_minor": 4
}
