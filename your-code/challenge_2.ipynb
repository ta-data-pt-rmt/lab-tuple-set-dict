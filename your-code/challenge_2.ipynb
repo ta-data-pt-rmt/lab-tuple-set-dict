{
  "cells": [
    {
      "cell_type": "markdown",
      "metadata": {
        "id": "884ElCzLeCEe"
      },
      "source": [
        "## Challenge 2: Sets\n",
        "\n",
        "There are a lot to learn about Python Sets and the information presented in the lesson is limited due to its length. To learn Python Sets in depth you are strongly encouraged to review the W3Schools tutorial on [Python Sets Examples and Methods](https://urldefense.com/v3/__https://www.w3schools.com/python/python_sets.asp__;!!AcCyiFYNC0XOnw!kQKTcLnY02UUcfdUpLd7T71Q7NIYxl7_xtRY54wCXnVPG0jsGXp4m5RTKHxCVNtB4pwW-7eV2lpLvqn51RWdzg$ ) before you work on this lab. Some difficult questions in this lab have their solutions in the W3Schools tutorial.\n",
        "\n",
        "#### First, import the Python `random` libary"
      ]
    },
    {
      "cell_type": "code",
      "execution_count": 64,
      "metadata": {
        "id": "7-h5rDFSeCEh"
      },
      "outputs": [],
      "source": [
        "import random"
      ]
    },
    {
      "cell_type": "markdown",
      "metadata": {
        "id": "ZtsU7-SHeCEi"
      },
      "source": [
        "#### 1 - In the cell below, create a list named `sample_list_1` with 80 random values.\n",
        "\n",
        "Requirements:\n",
        "\n",
        "* Each value is an integer falling between 0 and 100.\n",
        "* Each value in the list is unique.\n",
        "\n",
        "Print `sample_list_1` to review its values\n",
        "\n",
        "*Hint: use `random.sample` ([reference](https://urldefense.com/v3/__https://docs.python.org/3/library/random.html*random.sample)).*__;Iyo!!AcCyiFYNC0XOnw!kQKTcLnY02UUcfdUpLd7T71Q7NIYxl7_xtRY54wCXnVPG0jsGXp4m5RTKHxCVNtB4pwW-7eV2lpLvqlyExQ55Q$"
      ]
    },
    {
      "cell_type": "code",
      "execution_count": 65,
      "metadata": {
        "colab": {
          "base_uri": "https://localhost:8080/"
        },
        "id": "FAY-CRKjeCEi",
        "outputId": "1ec50d04-b984-4da0-f2f5-1732f86a9bc4"
      },
      "outputs": [
        {
          "output_type": "stream",
          "name": "stdout",
          "text": [
            "[35, 53, 29, 44, 37, 28, 63, 87, 36, 15, 45, 2, 80, 7, 49, 78, 13, 26, 91, 97, 74, 72, 18, 47, 16, 24, 64, 27, 11, 57, 85, 21, 96, 9, 33, 6, 79, 98, 50, 12, 66, 48, 42, 19, 52, 32, 93, 39, 0, 71, 83, 60, 75, 20, 65, 86, 88, 58, 82, 76, 31, 77, 81, 90, 70, 46, 54, 17, 23, 68, 67, 84, 34, 55, 4, 95, 3, 1, 69, 59]\n"
          ]
        }
      ],
      "source": [
        "sample_list_1 = random.sample(range(0, 100), 80)\n",
        "print(sample_list_1)\n"
      ]
    },
    {
      "cell_type": "markdown",
      "metadata": {
        "id": "U5UpnybneCEi"
      },
      "source": [
        "#### 2 - Convert `sample_list_1` to a set called `set1`. Print the length of the set. Is its length still 80?"
      ]
    },
    {
      "cell_type": "code",
      "execution_count": 66,
      "metadata": {
        "colab": {
          "base_uri": "https://localhost:8080/"
        },
        "id": "TFUhPx_geCEi",
        "outputId": "beff4556-5412-40c1-90e1-dd671f5b6666"
      },
      "outputs": [
        {
          "output_type": "stream",
          "name": "stdout",
          "text": [
            "{0, 1, 2, 3, 4, 6, 7, 9, 11, 12, 13, 15, 16, 17, 18, 19, 20, 21, 23, 24, 26, 27, 28, 29, 31, 32, 33, 34, 35, 36, 37, 39, 42, 44, 45, 46, 47, 48, 49, 50, 52, 53, 54, 55, 57, 58, 59, 60, 63, 64, 65, 66, 67, 68, 69, 70, 71, 72, 74, 75, 76, 77, 78, 79, 80, 81, 82, 83, 84, 85, 86, 87, 88, 90, 91, 93, 95, 96, 97, 98}\n"
          ]
        },
        {
          "output_type": "execute_result",
          "data": {
            "text/plain": [
              "80"
            ]
          },
          "metadata": {},
          "execution_count": 66
        }
      ],
      "source": [
        "set1 = set(sample_list_1)\n",
        "print(set1)\n",
        "len(set1)\n"
      ]
    },
    {
      "cell_type": "markdown",
      "metadata": {
        "id": "_NgPBPpqeCEi"
      },
      "source": [
        "#### 3 - Create another list named `sample_list_2` with 80 random values.\n",
        "\n",
        "Requirements:\n",
        "\n",
        "* Each value is an integer falling between 0 and 100.\n",
        "* The values in the list don't have to be unique.\n",
        "\n",
        "*Hint: Use a FOR loop.*"
      ]
    },
    {
      "cell_type": "code",
      "execution_count": 67,
      "metadata": {
        "colab": {
          "base_uri": "https://localhost:8080/"
        },
        "id": "iE209lyQeCEj",
        "outputId": "e889fca5-b685-4af6-a20d-30de9db11a2a"
      },
      "outputs": [
        {
          "output_type": "stream",
          "name": "stdout",
          "text": [
            "[78, 73, 70, 86, 33, 49, 86, 34, 45, 54, 12, 4, 36, 28, 71, 84, 24, 72, 27, 2, 13, 13, 89, 31, 17, 4, 88, 67, 70, 89, 67, 73, 88, 38, 38, 93, 47, 11, 97, 54, 96, 25, 43, 38, 77, 40, 76, 2, 53, 7, 48, 19, 74, 95, 60, 78, 10, 74, 73, 97, 90, 52, 47, 88, 37, 1, 37, 69, 99, 34, 96, 95, 66, 69, 97, 42, 83, 14, 19, 96]\n"
          ]
        }
      ],
      "source": [
        "sample_list_2 = []\n",
        "for i in range (0,80):\n",
        "  n = random.randint(1,100)\n",
        "  sample_list_2.append(n)\n",
        "print(sample_list_2)"
      ]
    },
    {
      "cell_type": "markdown",
      "metadata": {
        "id": "Dk2QIciBeCEj"
      },
      "source": [
        "#### 4 - Convert `sample_list_2` to a set called `set2`. Print the length of the set. Is its length still 80?"
      ]
    },
    {
      "cell_type": "code",
      "execution_count": 68,
      "metadata": {
        "colab": {
          "base_uri": "https://localhost:8080/"
        },
        "id": "t5mst9-SeCEj",
        "outputId": "1c06e91d-170b-456c-ec89-a30e0f2802e7"
      },
      "outputs": [
        {
          "output_type": "execute_result",
          "data": {
            "text/plain": [
              "54"
            ]
          },
          "metadata": {},
          "execution_count": 68
        }
      ],
      "source": [
        "set2 = set(sample_list_2)\n",
        "len(set2)\n"
      ]
    },
    {
      "cell_type": "markdown",
      "metadata": {
        "id": "CXg8e-nTeCEj"
      },
      "source": [
        "#### 5 - Identify the elements present in `set1` but not in `set2`. Assign the elements to a new set named `set3`."
      ]
    },
    {
      "cell_type": "code",
      "execution_count": 69,
      "metadata": {
        "colab": {
          "base_uri": "https://localhost:8080/"
        },
        "id": "fFsnIbWDeCEk",
        "outputId": "685895dd-d4f4-4e59-a1a2-9088c2bc82fb"
      },
      "outputs": [
        {
          "output_type": "stream",
          "name": "stdout",
          "text": [
            "{0, 3, 6, 9, 15, 16, 18, 20, 21, 23, 26, 29, 32, 35, 39, 44, 46, 50, 55, 57, 58, 59, 63, 64, 65, 68, 75, 79, 80, 81, 82, 85, 87, 91, 98}\n"
          ]
        }
      ],
      "source": [
        "set3 = set()\n",
        "for i in set1:\n",
        "  if i not in set2:\n",
        "    set3.add(i)\n",
        "print(set3)\n"
      ]
    },
    {
      "cell_type": "markdown",
      "metadata": {
        "id": "xCsWP0hDeCEk"
      },
      "source": [
        "#### 6 - Identify the elements present in `set2` but not in `set1`. Assign the elements to a new set named `set4`."
      ]
    },
    {
      "cell_type": "code",
      "execution_count": 70,
      "metadata": {
        "colab": {
          "base_uri": "https://localhost:8080/"
        },
        "id": "zfVqo2CXeCEk",
        "outputId": "f8a090d1-d301-4987-91fd-70338caea986"
      },
      "outputs": [
        {
          "output_type": "stream",
          "name": "stdout",
          "text": [
            "{89, 99, 38, 40, 73, 10, 43, 14, 25}\n"
          ]
        }
      ],
      "source": [
        "set4 = set()\n",
        "for i in set2:\n",
        "  if i not in set1:\n",
        "    set4.add(i)\n",
        "print(set4)\n"
      ]
    },
    {
      "cell_type": "markdown",
      "metadata": {
        "id": "9D9c-E4WeCEk"
      },
      "source": [
        "#### 7 - Now Identify the elements shared between `set1` and `set2`. Assign the elements to a new set named `set5`."
      ]
    },
    {
      "cell_type": "code",
      "execution_count": 71,
      "metadata": {
        "colab": {
          "base_uri": "https://localhost:8080/"
        },
        "id": "TbXM9xjmeCEk",
        "outputId": "bc70f185-ac11-403e-cd80-1e576200a339"
      },
      "outputs": [
        {
          "output_type": "stream",
          "name": "stdout",
          "text": [
            "{1, 2, 4, 7, 11, 12, 13, 17, 19, 24, 27, 28, 31, 33, 34, 36, 37, 42, 45, 47, 48, 49, 52, 53, 54, 60, 66, 67, 69, 70, 71, 72, 74, 76, 77, 78, 83, 84, 86, 88, 90, 93, 95, 96, 97}\n"
          ]
        }
      ],
      "source": [
        "set5 = set()\n",
        "if set1 & set2:\n",
        "  set5 = set1 & set2\n",
        "print(set5)\n",
        "\n"
      ]
    },
    {
      "cell_type": "markdown",
      "metadata": {
        "id": "zzsKAN4ZeCEk"
      },
      "source": [
        "#### 8 - Create an empty set called `set6`."
      ]
    },
    {
      "cell_type": "code",
      "execution_count": 72,
      "metadata": {
        "id": "G1D94vDFeCEk"
      },
      "outputs": [],
      "source": [
        "set6 = set()\n"
      ]
    },
    {
      "cell_type": "markdown",
      "metadata": {
        "id": "prMBm2FXeCEk"
      },
      "source": [
        "#### 9 - Add `set3` and `set5` to `set6` using the Python Set `update` method."
      ]
    },
    {
      "cell_type": "code",
      "execution_count": 73,
      "metadata": {
        "colab": {
          "base_uri": "https://localhost:8080/"
        },
        "id": "Yyyh1zFPeCEk",
        "outputId": "fc646188-9f25-4beb-cded-fe9a60347ba7"
      },
      "outputs": [
        {
          "output_type": "stream",
          "name": "stdout",
          "text": [
            "{0, 1, 2, 3, 4, 6, 7, 9, 11, 12, 13, 15, 16, 17, 18, 19, 20, 21, 23, 24, 26, 27, 28, 29, 31, 32, 33, 34, 35, 36, 37, 39, 42, 44, 45, 46, 47, 48, 49, 50, 52, 53, 54, 55, 57, 58, 59, 60, 63, 64, 65, 66, 67, 68, 69, 70, 71, 72, 74, 75, 76, 77, 78, 79, 80, 81, 82, 83, 84, 85, 86, 87, 88, 90, 91, 93, 95, 96, 97, 98}\n"
          ]
        }
      ],
      "source": [
        "set3.update(set5)\n",
        "set6.update(set3)\n",
        "\n",
        "print(set6)"
      ]
    },
    {
      "cell_type": "markdown",
      "metadata": {
        "id": "qxZq6tRQeCEk"
      },
      "source": [
        "#### 10 - Check if `set1` and `set6` are equal."
      ]
    },
    {
      "cell_type": "code",
      "execution_count": 74,
      "metadata": {
        "colab": {
          "base_uri": "https://localhost:8080/"
        },
        "id": "C5qwD3GpeCEk",
        "outputId": "0e646db9-86c2-4563-ea00-06906c5df061"
      },
      "outputs": [
        {
          "output_type": "execute_result",
          "data": {
            "text/plain": [
              "True"
            ]
          },
          "metadata": {},
          "execution_count": 74
        }
      ],
      "source": [
        "set1 == set6\n"
      ]
    },
    {
      "cell_type": "markdown",
      "metadata": {
        "id": "atzOQ7q0eCEl"
      },
      "source": [
        "#### 11 - Check if `set1` contains `set2` using the Python Set `issubset` method. Then check if `set1` contains `set3`.*"
      ]
    },
    {
      "cell_type": "code",
      "execution_count": 75,
      "metadata": {
        "colab": {
          "base_uri": "https://localhost:8080/"
        },
        "id": "OMzwV4hheCEl",
        "outputId": "85f4a7e5-7420-42e8-a273-dbf16903b32d"
      },
      "outputs": [
        {
          "output_type": "execute_result",
          "data": {
            "text/plain": [
              "False"
            ]
          },
          "metadata": {},
          "execution_count": 75
        }
      ],
      "source": [
        "set2.issubset(set1)\n"
      ]
    },
    {
      "cell_type": "code",
      "source": [
        "set3.issubset(set1)"
      ],
      "metadata": {
        "colab": {
          "base_uri": "https://localhost:8080/"
        },
        "id": "nj7j47wrv-Rv",
        "outputId": "b43dd9cb-4c93-4484-bec5-4eb40e8d7e0f"
      },
      "execution_count": 76,
      "outputs": [
        {
          "output_type": "execute_result",
          "data": {
            "text/plain": [
              "True"
            ]
          },
          "metadata": {},
          "execution_count": 76
        }
      ]
    },
    {
      "cell_type": "markdown",
      "metadata": {
        "id": "nSq2J6emeCEl"
      },
      "source": [
        "#### 12 -Using the Python Set `union` method, aggregate `set3`, `set4`, and `set5`. Then aggregate `set1` and `set2`.\n",
        "\n",
        "#### Check if the aggregated values are equal."
      ]
    },
    {
      "cell_type": "code",
      "execution_count": 77,
      "metadata": {
        "colab": {
          "base_uri": "https://localhost:8080/"
        },
        "id": "Fx9-j67AeCEl",
        "outputId": "336526be-ccf1-47fb-d548-d1ed2c7ba65f"
      },
      "outputs": [
        {
          "output_type": "execute_result",
          "data": {
            "text/plain": [
              "True"
            ]
          },
          "metadata": {},
          "execution_count": 77
        }
      ],
      "source": [
        "agg1 = set3.union(set4, set5)\n",
        "agg2 = set1.union(set2)\n",
        "agg1 == agg2\n"
      ]
    },
    {
      "cell_type": "markdown",
      "metadata": {
        "id": "pGRp9UGGeCEl"
      },
      "source": [
        "#### 13 -Using the `pop` method, remove the first element from `set1`."
      ]
    },
    {
      "cell_type": "code",
      "execution_count": 78,
      "metadata": {
        "colab": {
          "base_uri": "https://localhost:8080/"
        },
        "id": "m7-XLmbGeCEl",
        "outputId": "0138a3c3-f8ae-4dfc-b744-d1e418784c05"
      },
      "outputs": [
        {
          "output_type": "stream",
          "name": "stdout",
          "text": [
            "{0, 1, 2, 3, 4, 6, 7, 9, 11, 12, 13, 15, 16, 17, 18, 19, 20, 21, 23, 24, 26, 27, 28, 29, 31, 32, 33, 34, 35, 36, 37, 39, 42, 44, 45, 46, 47, 48, 49, 50, 52, 53, 54, 55, 57, 58, 59, 60, 63, 64, 65, 66, 67, 68, 69, 70, 71, 72, 74, 75, 76, 77, 78, 79, 80, 81, 82, 83, 84, 85, 86, 87, 88, 90, 91, 93, 95, 96, 97, 98}\n",
            "{1, 2, 3, 4, 6, 7, 9, 11, 12, 13, 15, 16, 17, 18, 19, 20, 21, 23, 24, 26, 27, 28, 29, 31, 32, 33, 34, 35, 36, 37, 39, 42, 44, 45, 46, 47, 48, 49, 50, 52, 53, 54, 55, 57, 58, 59, 60, 63, 64, 65, 66, 67, 68, 69, 70, 71, 72, 74, 75, 76, 77, 78, 79, 80, 81, 82, 83, 84, 85, 86, 87, 88, 90, 91, 93, 95, 96, 97, 98}\n"
          ]
        }
      ],
      "source": [
        "print(set1)\n",
        "set1.pop()\n",
        "print(set1)"
      ]
    },
    {
      "cell_type": "markdown",
      "metadata": {
        "id": "5ARHXzWOeCEl"
      },
      "source": [
        "#### 14 -Remove every element in the following list from `set1` if they are present in the set. Print the remaining elements.\n",
        "\n",
        "```\n",
        "list_to_remove = [1, 9, 11, 19, 21, 29, 31, 39, 41, 49, 51, 59, 61, 69, 71, 79, 81, 89, 91, 99]\n",
        "```"
      ]
    },
    {
      "cell_type": "code",
      "execution_count": 84,
      "metadata": {
        "colab": {
          "base_uri": "https://localhost:8080/"
        },
        "id": "tzS6H8o6eCEl",
        "outputId": "7bd77802-594d-4a0f-c617-9aa132649309"
      },
      "outputs": [
        {
          "output_type": "stream",
          "name": "stdout",
          "text": [
            "{2, 3, 4, 6, 7, 12, 13, 15, 16, 17, 18, 20, 23, 24, 26, 27, 28, 32, 33, 34, 35, 36, 37, 42, 44, 45, 46, 47, 48, 50, 52, 53, 54, 55, 57, 58, 60, 63, 64, 65, 66, 67, 68, 70, 72, 74, 75, 76, 77, 78, 80, 82, 83, 84, 85, 86, 87, 88, 90, 93, 95, 96, 97, 98}\n"
          ]
        }
      ],
      "source": [
        "list_to_remove = [1, 9, 11, 19, 21, 29, 31, 39, 41, 49, 51, 59, 61, 69, 71, 79, 81, 89, 91, 99]\n",
        "for i in list_to_remove:\n",
        "  if i in set1:\n",
        "    set1.remove(i)\n",
        "print(set1)"
      ]
    },
    {
      "cell_type": "markdown",
      "metadata": {
        "id": "cCZJKwhjeCEl"
      },
      "source": [
        "#### 15 -The objective of this lab is to provide you a overview of manipulating sets in Python and how they can be integrated within a real usecase\n",
        "#### For the exercises below it's strongly advised to quickly check this link: https://urldefense.com/v3/__https://docs.python.org/2/library/sets.html*sets.Set*5Cn__;IyU!!AcCyiFYNC0XOnw!kQKTcLnY02UUcfdUpLd7T71Q7NIYxl7_xtRY54wCXnVPG0jsGXp4m5RTKHxCVNtB4pwW-7eV2lpLvqmjX1ilkA$ #### Imagine you need to create the grocery list for your family! Below you will see a list of items each family member wants. There will be repetitions because this family has the habbit of each time they notice something is missing to write it down. The problem is that they don't really talk to each other and therefore some items in the list are repeated. With the collection of questions below you will see how they solve repetion and create a grocery list with unique elements.\n",
        "\n"
      ]
    },
    {
      "cell_type": "code",
      "execution_count": 86,
      "metadata": {
        "id": "Tx0DpaHReCEl"
      },
      "outputs": [],
      "source": [
        "father_list = ['garlic', 'watermelon', 'toilet paper', 'yogurt', 'onions', 'gums', 'flour', 'cucumber', 'watermelon', 'yogurt', 'garlic']\n",
        "\n",
        "mother_list = []\n",
        "\n",
        "Jo_list = ['blueberries', 'sugar', 'watermelon', 'gums', 'tomatoes', 'yogurt', 'juice', 'milk', 'onions', 'garlic', 'cucumber', 'sugar', 'blueberries', 'gums', 'yogurt']\n",
        "\n",
        "Carlos_list = ['tomatoes', 'water', 'onions', 'blueberries', 'garlic', 'flour', 'cherries', 'tomatoes', 'onions', 'water', 'tomatoes', 'toilet paper']\n",
        "\n",
        "Mattia_list = []\n",
        "\n",
        "\n"
      ]
    },
    {
      "cell_type": "markdown",
      "metadata": {
        "id": "zrNYgMRMeCEl"
      },
      "source": [
        "#### 15.1- As you can see there are items repeated in each list. Creat a sequence of iterable elements with dintinct items that each family member wants. You can do it in two different ways. Assign each one (set) to a variable with the name of the family member (ex: father_set)."
      ]
    },
    {
      "cell_type": "code",
      "execution_count": 93,
      "metadata": {
        "colab": {
          "base_uri": "https://localhost:8080/"
        },
        "id": "euA_RE-0eCEl",
        "outputId": "357ca280-99b8-49e5-f0bf-e2d496e5b65f"
      },
      "outputs": [
        {
          "output_type": "execute_result",
          "data": {
            "text/plain": [
              "{'blueberries',\n",
              " 'cherries',\n",
              " 'cucumber',\n",
              " 'flour',\n",
              " 'garlic',\n",
              " 'gums',\n",
              " 'juice',\n",
              " 'milk',\n",
              " 'onions',\n",
              " 'sugar',\n",
              " 'toilet paper',\n",
              " 'tomatoes',\n",
              " 'water',\n",
              " 'watermelon',\n",
              " 'yogurt'}"
            ]
          },
          "metadata": {},
          "execution_count": 93
        }
      ],
      "source": [
        "father_set = set(father_list)\n",
        "mother_set = set(mother_list)\n",
        "Jo_set = set(Jo_list)\n",
        "Carlos_set = set(Carlos_list)\n",
        "Mattia_set = set(Mattia_list)\n",
        "shopping_set = set()\n",
        "\n",
        "\n",
        "shopping_set.union(father_set,Jo_set,Carlos_set)\n",
        "\n",
        "\n"
      ]
    },
    {
      "cell_type": "markdown",
      "metadata": {
        "id": "zSOGWEyueCEl"
      },
      "source": [
        "#### 15.2- Q: Mattia wants the same items that his brother Carlos and his sister Jo but doesn't want anything they both want.\n",
        "\n",
        "##### Hint: check out the documentation for `x.symmetric_difference(y)`."
      ]
    },
    {
      "cell_type": "code",
      "execution_count": 94,
      "metadata": {
        "colab": {
          "base_uri": "https://localhost:8080/"
        },
        "id": "ekGoxi-3eCEm",
        "outputId": "d1b2e895-f60e-4366-f3b4-61f4db7788d7"
      },
      "outputs": [
        {
          "output_type": "stream",
          "name": "stdout",
          "text": [
            "{'yogurt', 'milk', 'water', 'juice', 'toilet paper', 'watermelon', 'cucumber', 'gums', 'flour', 'cherries', 'sugar'}\n"
          ]
        }
      ],
      "source": [
        "Mattia_set = Carlos_set.symmetric_difference(Jo_set)\n",
        "print(Mattia_set)\n"
      ]
    },
    {
      "cell_type": "markdown",
      "metadata": {
        "id": "hFIaSsc0eCEm"
      },
      "source": [
        "#### 15.3- The line of code below  will  generate a list of random elements from a collection of items, with replacement. Run it and from it create a sequence of unique elements and assign it to the variable mother.\n"
      ]
    },
    {
      "cell_type": "code",
      "execution_count": 95,
      "metadata": {
        "colab": {
          "base_uri": "https://localhost:8080/"
        },
        "id": "m7Jo6hVCeCEm",
        "outputId": "f3225d4c-eb9c-4765-aeb1-0ed0fb55021b"
      },
      "outputs": [
        {
          "output_type": "stream",
          "name": "stdout",
          "text": [
            "['onions', 'deodorant', 'gums', 'flour', 'mushrooms', 'milk', 'shampoo', 'oranges', 'cucumber', 'water']\n"
          ]
        }
      ],
      "source": [
        "import random\n",
        "items = ['milk', 'water', 'chocolate', 'blueberries', 'shampoo', 'flour', 'bread', 'sugar', 'watermelon', 'vinegar', 'tomatoes', 'yogurt', 'juice', 'gums', 'onions', 'garlic', 'cucumber', 'mushrooms', 'toilet paper', 'oranges', 'deodorant', 'cherries']\n",
        "\n",
        "mother_list = random.choices(items,k = 10) # https://urldefense.com/v3/__https://docs.python.org/3/library/random.html*5Cn__;JQ!!AcCyiFYNC0XOnw!kQKTcLnY02UUcfdUpLd7T71Q7NIYxl7_xtRY54wCXnVPG0jsGXp4m5RTKHxCVNtB4pwW-7eV2lpLvqn6o8uhrg$\n",
        "print(mother_list)"
      ]
    },
    {
      "cell_type": "code",
      "execution_count": 97,
      "metadata": {
        "colab": {
          "base_uri": "https://localhost:8080/"
        },
        "id": "8K9ugACReCEm",
        "outputId": "be6951f0-b754-4355-d8fc-ce7971b5d3bb"
      },
      "outputs": [
        {
          "output_type": "stream",
          "name": "stdout",
          "text": [
            "{'milk', 'shampoo', 'water', 'deodorant', 'onions', 'mushrooms', 'flour', 'cucumber', 'gums', 'oranges'}\n"
          ]
        }
      ],
      "source": [
        "mother_set = set(mother_list)\n",
        "print(mother_set)\n"
      ]
    },
    {
      "cell_type": "markdown",
      "metadata": {
        "id": "wEd3PSb-eCEp"
      },
      "source": [
        "#### 15.4- Before leaving the house to the grocery store the father found a lot of toilet paper, so the mother decided to remove it from the items needed to be bought. Use the `.discard()` method to remove from each set created before the 'toilet paper'.\n",
        "\n",
        "#### Hint: Try to first create a list contaning the variables of each set created before, then loop through them and remove the unecessary item.\n",
        "\n",
        "##### Note: The`.discard()` method will remove and update the set without the need of reassignment.\n",
        "\n"
      ]
    },
    {
      "cell_type": "code",
      "execution_count": 103,
      "metadata": {
        "id": "pxjXAynTeCEp"
      },
      "outputs": [],
      "source": [
        "shopping_list = shopping_set.union(mother_set,father_set,Jo_set,Carlos_set,Mattia_set)\n",
        "shopping_list.discard('toilet paper')\n"
      ]
    },
    {
      "cell_type": "markdown",
      "metadata": {
        "id": "IakaV3j-eCEp"
      },
      "source": [
        "#### 15.5- Create a set with all the groceries needed to be bought for the house (no repetitions)."
      ]
    },
    {
      "cell_type": "code",
      "execution_count": 104,
      "metadata": {
        "colab": {
          "base_uri": "https://localhost:8080/",
          "height": 329
        },
        "id": "lMi3gRaIeCEp",
        "outputId": "b030b75c-b8bc-4292-eb53-1604ad4e5ae3"
      },
      "outputs": [
        {
          "output_type": "display_data",
          "data": {
            "text/plain": [
              "{'blueberries',\n",
              " 'cherries',\n",
              " 'cucumber',\n",
              " 'deodorant',\n",
              " 'flour',\n",
              " 'garlic',\n",
              " 'gums',\n",
              " 'juice',\n",
              " 'milk',\n",
              " 'mushrooms',\n",
              " 'onions',\n",
              " 'oranges',\n",
              " 'shampoo',\n",
              " 'sugar',\n",
              " 'tomatoes',\n",
              " 'water',\n",
              " 'watermelon',\n",
              " 'yogurt'}"
            ]
          },
          "metadata": {}
        }
      ],
      "source": [
        "display(shopping_list)\n"
      ]
    },
    {
      "cell_type": "markdown",
      "metadata": {
        "id": "yrKRmx_feCEp"
      },
      "source": [
        "#### 15.6- The Father said that he could only buy five items this time. So he decided to arbitraly pick wich ones to buy this time.\n",
        "\n",
        "##### Hint: use the `.pop()` method."
      ]
    },
    {
      "cell_type": "code",
      "execution_count": 107,
      "metadata": {
        "colab": {
          "base_uri": "https://localhost:8080/"
        },
        "id": "LddES19JeCEp",
        "outputId": "bc3207f9-828b-4893-9a49-282de64d8378"
      },
      "outputs": [
        {
          "output_type": "stream",
          "name": "stdout",
          "text": [
            "['juice', 'tomatoes', 'deodorant', 'onions', 'flour']\n"
          ]
        }
      ],
      "source": [
        "new_list = [shopping_list.pop() for i in range(5)]\n",
        "print(new_list)\n",
        "\n"
      ]
    },
    {
      "cell_type": "code",
      "source": [],
      "metadata": {
        "id": "vkDwCIlKBX8_"
      },
      "execution_count": null,
      "outputs": []
    }
  ],
  "metadata": {
    "kernelspec": {
      "display_name": "Python 3",
      "language": "python",
      "name": "python3"
    },
    "language_info": {
      "codemirror_mode": {
        "name": "ipython",
        "version": 3
      },
      "file_extension": ".py",
      "mimetype": "text/x-python",
      "name": "python",
      "nbconvert_exporter": "python",
      "pygments_lexer": "ipython3",
      "version": "3.7.4"
    },
    "colab": {
      "provenance": []
    }
  },
  "nbformat": 4,
  "nbformat_minor": 0
}