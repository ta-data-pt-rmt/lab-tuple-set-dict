{
 "cells": [
  {
   "cell_type": "markdown",
   "metadata": {},
   "source": [
    "## Challenge 1: Tuples\n",
    "\n",
    "#### Do you know you can create tuples with only one element?\n",
    "\n",
    "**In the cell below, define a variable `tup` with a single element `\"I\"`.**\n",
    "\n",
    "*Hint: you need to add a comma (`,`) after the single element.*"
   ]
  },
  {
   "cell_type": "code",
   "execution_count": 3,
   "metadata": {},
   "outputs": [],
   "source": [
    "tube=(\"I\",)\n"
   ]
  },
  {
   "cell_type": "markdown",
   "metadata": {},
   "source": [
    "#### Print the type of `tup`. \n",
    "\n",
    "Make sure its type is correct (i.e. *tuple* instead of *str*)."
   ]
  },
  {
   "cell_type": "code",
   "execution_count": 6,
   "metadata": {},
   "outputs": [
    {
     "name": "stdout",
     "output_type": "stream",
     "text": [
      "tube\n"
     ]
    }
   ],
   "source": [
    "tube=(\"I\",)\n",
    "print(\"tube\")\n"
   ]
  },
  {
   "cell_type": "markdown",
   "metadata": {},
   "source": [
    "#### Now try to append the following elements to `tup`. \n",
    "\n",
    "Are you able to do it? Explain.\n",
    "\n",
    "```\n",
    "\"r\", \"o\", \"n\", \"h\", \"a\", \"c\", \"k',\n",
    "```"
   ]
  },
  {
   "cell_type": "code",
   "execution_count": 13,
   "metadata": {},
   "outputs": [
    {
     "name": "stdout",
     "output_type": "stream",
     "text": [
      "('I', 'r', 'o', 'n', 'h', 'a', 'c', 'k')\n"
     ]
    }
   ],
   "source": [
    "tube = (\"I\",)\n",
    "elements_to_append = (\"r\", \"o\", \"n\", \"h\", \"a\", \"c\", \"k\")\n",
    "\n",
    "# Concatenating the two tuples\n",
    "new_tup = tube + elements_to_append\n",
    "\n",
    "print(new_tup)\n"
   ]
  },
  {
   "cell_type": "markdown",
   "metadata": {},
   "source": [
    "#### How about re-assign a new value to an existing tuple?\n",
    "\n",
    "Re-assign the following elements to `tup`. Are you able to do it? Explain.\n",
    "\n",
    "```\n",
    "\"I\", \"r\", \"o\", \"n\", \"h\", \"a\", \"c\", \"k\"\n",
    "```"
   ]
  },
  {
   "cell_type": "code",
   "execution_count": 8,
   "metadata": {},
   "outputs": [],
   "source": [
    "tube = (\"I\",)\n",
    "tup = (\"I\", \"r\", \"o\", \"n\", \"h\", \"a\", \"c\", \"k\")\n",
    "elements_to_append = (\"a\", \"p\", \"p\", \"e\", \"n\", \"d\")\n",
    "new_tup = tube + elements_to_append"
   ]
  },
  {
   "cell_type": "markdown",
   "metadata": {},
   "source": [
    "#### Split `tup` into `tup1` and `tup2` with 4 elements in each. \n",
    "\n",
    "`tup1` should be `(\"I\", \"r\", \"o\", \"n\")` and `tup2` should be `(\"h\", \"a\", \"c\", \"k\")`.\n",
    "\n",
    "*Hint: use positive index numbers for `tup1` assignment and use negative index numbers for `tup2` assignment. Positive index numbers count from the beginning whereas negative index numbers count from the end of the sequence.*\n",
    "\n",
    "Also print `tup1` and `tup2`."
   ]
  },
  {
   "cell_type": "code",
   "execution_count": 12,
   "metadata": {},
   "outputs": [
    {
     "name": "stdout",
     "output_type": "stream",
     "text": [
      ":tup1 ('h', 'a', 'c', 'k')\n",
      "tup2: ('I', 'r', 'o', 'n')\n"
     ]
    }
   ],
   "source": [
    "tube = (\"I\",)\n",
    "# split'tup' in to tup1 and tup2 with element and assigned postive number for 'tup1' and negative number for 'tup2'.\n",
    "tup1 = tup[:4]\n",
    "tup2 =tup[4:]\n",
    "print(\":tup1\", tup2)\n",
    "print(\"tup2:\", tup1)"
   ]
  },
  {
   "cell_type": "markdown",
   "metadata": {},
   "source": [
    "#### Add `tup1` and `tup2` into `tup3` using the `+` operator.\n",
    "\n",
    "Then print `tup3` and check if `tup3` equals to `tup`."
   ]
  },
  {
   "cell_type": "code",
   "execution_count": 13,
   "metadata": {},
   "outputs": [
    {
     "name": "stdout",
     "output_type": "stream",
     "text": [
      "tup3: ('I', 'r', 'o', 'n', 'h', 'a', 'c', 'k')\n",
      "tup equals tup3: True\n"
     ]
    }
   ],
   "source": [
    "# add tup1 and tup in to tub3 \n",
    "tup1 = tup[:4]\n",
    "tup2 =tup[4:]\n",
    "tup3 = tup1 + tup2 \n",
    "#check if tup3 equals tup\n",
    "print(\"tup3:\", tup3)\n",
    "print(\"tup equals tup3:\", tup == tup3)"
   ]
  },
  {
   "cell_type": "markdown",
   "metadata": {},
   "source": [
    "#### Count the number of elements in `tup1` and `tup2`. Then add the two counts together and check if the sum is the same as the number of elements in `tup3`"
   ]
  },
  {
   "cell_type": "code",
   "execution_count": 20,
   "metadata": {},
   "outputs": [
    {
     "name": "stdout",
     "output_type": "stream",
     "text": [
      "Sum of counts of tup1 and tup2: 8\n",
      "Count of elements in tup3: 8\n",
      "Is the sum equal to the count of elements in tup3: True\n"
     ]
    }
   ],
   "source": [
    "# count the number of elements in tubp1 and tup2\n",
    "count_tup1= len(tup1)\n",
    "count_tup2= len(tup2)\n",
    "tup3 = tup1 + tup2\n",
    "#Check if tup3 is equals to sum of tup1 and tup2 \n",
    "tup1 = tup[:4]\n",
    "tup2 =tup[4:]\n",
    "sum_counts = count_tup1 + count_tup2\n",
    "print(\"Sum of counts of tup1 and tup2:\", sum_counts)\n",
    "print(\"Count of elements in tup3:\" , len(tup3))\n",
    "print(\"Is the sum equal to the count of elements in tup3:\", sum_counts == len(tup3))\n",
    "\n"
   ]
  },
  {
   "cell_type": "markdown",
   "metadata": {},
   "source": [
    "#### What is the index number of `\"h\"` in `tup3`?"
   ]
  },
  {
   "cell_type": "code",
   "execution_count": 21,
   "metadata": {},
   "outputs": [
    {
     "name": "stdout",
     "output_type": "stream",
     "text": [
      "Index number of 'h' in tup3: 4\n"
     ]
    }
   ],
   "source": [
    "tube = (\"I\",)\n",
    "tup = (\"I\", \"r\", \"o\", \"n\", \"h\", \"a\", \"c\", \"k\")\n",
    "# split'tup' in to tup1 and tup2 with element and assigned postive number for 'tup1' and negative number for 'tup2'.\n",
    "tup1 = tup[:4]\n",
    "tup2 =tup[4:]\n",
    "# Concatenate tup1 and tup2 to create tup3\n",
    "tup3 = tup1 + tup2\n",
    "# Find the index number of \"h\" in tup3\n",
    "index_of_h = tup3.index(\"h\")\n",
    "print(\"Index number of 'h' in tup3:\", index_of_h)"
   ]
  },
  {
   "cell_type": "markdown",
   "metadata": {},
   "source": [
    "#### Now, use a FOR loop to check whether each letter in the following list is present in `tup3`:\n",
    "\n",
    "```\n",
    "letters = [\"a\", \"b\", \"c\", \"d\", \"e\"]\n",
    "```\n",
    "\n",
    "For each letter you check, print `True` if it is present in `tup3` otherwise print `False`.\n",
    "\n",
    "*Hint: you only need to loop `letters`. You don't need to loop `tup3` because there is a Python operator `in` you can use. See [reference](https://stackoverflow.com/questions/17920147/how-to-check-if-a-tuple-contains-an-element-in-python).*"
   ]
  },
  {
   "cell_type": "code",
   "execution_count": 22,
   "metadata": {},
   "outputs": [
    {
     "name": "stdout",
     "output_type": "stream",
     "text": [
      "a : True\n",
      "b : False\n",
      "c : True\n",
      "d : False\n",
      "e : False\n"
     ]
    }
   ],
   "source": [
    "tube = (\"I\",)\n",
    "tup = (\"I\", \"r\", \"o\", \"n\", \"h\", \"a\", \"c\", \"k\")\n",
    "# split'tup' in to tup1 and tup2 with element and assigned postive number for 'tup1' and negative number for 'tup2'.\n",
    "tup1 = tup[:4]\n",
    "tup2 =tup[4:]\n",
    "# Concatenate tup1 and tup2 to create tup3\n",
    "tup3 = tup1 + tup2\n",
    "letters = [\"a\", \"b\", \"c\", \"d\", \"e\"]\n",
    "\n",
    "for letter in letters:\n",
    "    print(letter, \":\", letter in tup3)"
   ]
  },
  {
   "cell_type": "markdown",
   "metadata": {},
   "source": [
    "#### How many times does each letter in `letters` appear in `tup3`?\n",
    "\n",
    "Print out the number of occurrence of each letter."
   ]
  },
  {
   "cell_type": "code",
   "execution_count": 23,
   "metadata": {},
   "outputs": [
    {
     "name": "stdout",
     "output_type": "stream",
     "text": [
      "Number of occurrences of 'a' in tup3: 1\n",
      "Number of occurrences of 'b' in tup3: 0\n",
      "Number of occurrences of 'c' in tup3: 1\n",
      "Number of occurrences of 'd' in tup3: 0\n",
      "Number of occurrences of 'e' in tup3: 0\n"
     ]
    }
   ],
   "source": [
    "tube = (\"I\",)\n",
    "tup = (\"I\", \"r\", \"o\", \"n\", \"h\", \"a\", \"c\", \"k\")\n",
    "# split'tup' in to tup1 and tup2 with element and assigned postive number for 'tup1' and negative number for 'tup2'.\n",
    "tup1 = tup[:4]\n",
    "tup2 =tup[4:]\n",
    "# Concatenate tup1 and tup2 to create tup3\n",
    "tup3 = tup1 + tup2\n",
    "letters = [\"a\", \"b\", \"c\", \"d\", \"e\"]\n",
    "for letter in letters:\n",
    "    count = tup3.count(letter)\n",
    "    print(f\"Number of occurrences of '{letter}' in tup3:\", count)"
   ]
  },
  {
   "cell_type": "code",
   "execution_count": null,
   "metadata": {},
   "outputs": [],
   "source": []
  }
 ],
 "metadata": {
  "kernelspec": {
   "display_name": "Python 3 (ipykernel)",
   "language": "python",
   "name": "python3"
  },
  "language_info": {
   "codemirror_mode": {
    "name": "ipython",
    "version": 3
   },
   "file_extension": ".py",
   "mimetype": "text/x-python",
   "name": "python",
   "nbconvert_exporter": "python",
   "pygments_lexer": "ipython3",
   "version": "3.11.7"
  }
 },
 "nbformat": 4,
 "nbformat_minor": 4
}
