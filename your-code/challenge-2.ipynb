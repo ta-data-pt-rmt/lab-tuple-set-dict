{
 "cells": [
  {
   "cell_type": "markdown",
   "metadata": {},
   "source": [
    "## Challenge 2: Sets\n",
    "\n",
    "There are a lot to learn about Python Sets and the information presented in the lesson is limited due to its length. To learn Python Sets in depth you are strongly encouraged to review the W3Schools tutorial on [Python Sets Examples and Methods](https://www.w3schools.com/python/python_sets.asp) before you work on this lab. Some difficult questions in this lab have their solutions in the W3Schools tutorial.\n",
    "\n",
    "#### First, import the Python `random` libary"
   ]
  },
  {
   "cell_type": "code",
   "execution_count": 86,
   "metadata": {},
   "outputs": [],
   "source": [
    "import random"
   ]
  },
  {
   "cell_type": "markdown",
   "metadata": {},
   "source": [
    "#### 1 - In the cell below, create a list named `sample_list_1` with 80 random values. \n",
    "\n",
    "Requirements:\n",
    "\n",
    "* Each value is an integer falling between 0 and 100.\n",
    "* Each value in the list is unique.\n",
    "\n",
    "Print `sample_list_1` to review its values\n",
    "\n",
    "*Hint: use `random.sample` ([reference](https://docs.python.org/3/library/random.html#random.sample)).*"
   ]
  },
  {
   "cell_type": "code",
   "execution_count": 87,
   "metadata": {},
   "outputs": [
    {
     "name": "stdout",
     "output_type": "stream",
     "text": [
      "[2, 64, 32, 78, 36, 1, 22, 44, 37, 50, 88, 70, 8, 26, 42, 76, 65, 19, 48, 6, 99, 77, 97, 13, 4, 45, 82, 79, 38, 9, 30, 14, 18, 58, 7, 17, 100, 49, 86, 91, 63, 3, 96, 20, 57, 72, 39, 25, 95, 60, 29, 28, 15, 74, 16, 5, 10, 43, 83, 53, 51, 87, 71, 35, 84, 62, 68, 34, 85, 46, 52, 94, 59, 61, 89, 90, 21, 75, 93, 54]\n"
     ]
    }
   ],
   "source": [
    "\n",
    "population = range(1,101)\n",
    "sample_size = 80\n",
    "\n",
    "sample_list_1 = random.sample(population, sample_size)\n",
    "print (sample_list_1)\n",
    "\n"
   ]
  },
  {
   "cell_type": "markdown",
   "metadata": {},
   "source": [
    "#### 2 - Convert `sample_list_1` to a set called `set1`. Print the length of the set. Is its length still 80?"
   ]
  },
  {
   "cell_type": "code",
   "execution_count": 88,
   "metadata": {},
   "outputs": [
    {
     "name": "stdout",
     "output_type": "stream",
     "text": [
      "length of set1 is 80\n"
     ]
    }
   ],
   "source": [
    "set1 = sample_list_1\n",
    "\n",
    "print(\"length of set1 is\", len(set1))\n",
    "\n"
   ]
  },
  {
   "cell_type": "markdown",
   "metadata": {},
   "source": [
    "#### 3 - Create another list named `sample_list_2` with 80 random values.\n",
    "\n",
    "Requirements:\n",
    "\n",
    "* Each value is an integer falling between 0 and 100.\n",
    "* The values in the list don't have to be unique.\n",
    "\n",
    "*Hint: Use a FOR loop.*"
   ]
  },
  {
   "cell_type": "code",
   "execution_count": 89,
   "metadata": {},
   "outputs": [
    {
     "name": "stdout",
     "output_type": "stream",
     "text": [
      "[57, 66, 7, 11, 56, 70, 42, 68, 95, 32, 3, 15, 96, 55, 19, 40, 93, 36, 88, 73, 74, 100, 14, 57, 43, 31, 94, 9, 23, 60, 15, 40, 87, 35, 91, 12, 18, 39, 18, 94, 68, 13, 0, 42, 45, 3, 75, 17, 83, 12, 64, 60, 58, 78, 80, 17, 49, 48, 83, 58, 64, 4, 34, 23, 96, 56, 36, 51, 59, 63, 21, 79, 85, 37, 22, 84, 38, 3, 42, 59]\n"
     ]
    }
   ],
   "source": [
    "\n",
    "\n",
    "sample_list_2 = []\n",
    "\n",
    "for i in range(80):\n",
    "    random_value = random.randint(0, 101)\n",
    "    sample_list_2.append(random_value)\n",
    "    \n",
    "print (sample_list_2)\n",
    "\n",
    "\n",
    "\n"
   ]
  },
  {
   "cell_type": "markdown",
   "metadata": {},
   "source": [
    "#### 4 - Convert `sample_list_2` to a set called `set2`. Print the length of the set. Is its length still 80?"
   ]
  },
  {
   "cell_type": "code",
   "execution_count": 90,
   "metadata": {},
   "outputs": [
    {
     "name": "stdout",
     "output_type": "stream",
     "text": [
      "length of set2 is 80\n"
     ]
    }
   ],
   "source": [
    "set2 = sample_list_2\n",
    "\n",
    "print(\"length of set2 is\", len(set2))\n",
    "\n",
    "\n"
   ]
  },
  {
   "cell_type": "markdown",
   "metadata": {},
   "source": [
    "#### 5 - Identify the elements present in `set1` but not in `set2`. Assign the elements to a new set named `set3`."
   ]
  },
  {
   "cell_type": "code",
   "execution_count": 91,
   "metadata": {},
   "outputs": [
    {
     "name": "stdout",
     "output_type": "stream",
     "text": [
      "{1, 2, 5, 6, 8, 10, 16, 20, 25, 26, 28, 29, 30, 44, 46, 50, 52, 53, 54, 61, 62, 65, 71, 72, 76, 77, 82, 86, 89, 90, 97, 99}\n"
     ]
    }
   ],
   "source": [
    "\n",
    "\n",
    "set1 = set(set1)\n",
    "set2 = set(set2)\n",
    "set3 = set1.difference(set2)\n",
    "\n",
    "\n",
    "print(set3)\n",
    "\n"
   ]
  },
  {
   "cell_type": "markdown",
   "metadata": {},
   "source": [
    "#### 6 - Identify the elements present in `set2` but not in `set1`. Assign the elements to a new set named `set4`."
   ]
  },
  {
   "cell_type": "code",
   "execution_count": 92,
   "metadata": {},
   "outputs": [
    {
     "name": "stdout",
     "output_type": "stream",
     "text": [
      "{0, 66, 40, 73, 11, 12, 80, 55, 23, 56, 31}\n"
     ]
    }
   ],
   "source": [
    "set4 = set2.difference(set1)\n",
    "print(set4)\n",
    "\n"
   ]
  },
  {
   "cell_type": "markdown",
   "metadata": {},
   "source": [
    "#### 7 - Now Identify the elements shared between `set1` and `set2`. Assign the elements to a new set named `set5`."
   ]
  },
  {
   "cell_type": "code",
   "execution_count": 93,
   "metadata": {},
   "outputs": [
    {
     "name": "stdout",
     "output_type": "stream",
     "text": [
      "{3, 4, 7, 9, 13, 14, 15, 17, 18, 19, 21, 22, 32, 34, 35, 36, 37, 38, 39, 42, 43, 45, 48, 49, 51, 57, 58, 59, 60, 63, 64, 68, 70, 74, 75, 78, 79, 83, 84, 85, 87, 88, 91, 93, 94, 95, 96, 100}\n"
     ]
    }
   ],
   "source": [
    "set5 = set1.intersection(set2)\n",
    "\n",
    "print  (set5)\n"
   ]
  },
  {
   "cell_type": "markdown",
   "metadata": {},
   "source": [
    "#### 8 - Create an empty set called `set6`."
   ]
  },
  {
   "cell_type": "code",
   "execution_count": 94,
   "metadata": {},
   "outputs": [],
   "source": [
    "set6 =()\n"
   ]
  },
  {
   "cell_type": "markdown",
   "metadata": {},
   "source": [
    "#### 9 - Add `set3` and `set5` to `set6` using the Python Set `update` method."
   ]
  },
  {
   "cell_type": "code",
   "execution_count": 95,
   "metadata": {},
   "outputs": [
    {
     "name": "stdout",
     "output_type": "stream",
     "text": [
      "{1, 2, 3, 4, 5, 6, 7, 8, 9, 10, 13, 14, 15, 16, 17, 18, 19, 20, 21, 22, 25, 26, 28, 29, 30, 32, 34, 35, 36, 37, 38, 39, 42, 43, 44, 45, 46, 48, 49, 50, 51, 52, 53, 54, 57, 58, 59, 60, 61, 62, 63, 64, 65, 68, 70, 71, 72, 74, 75, 76, 77, 78, 79, 82, 83, 84, 85, 86, 87, 88, 89, 90, 91, 93, 94, 95, 96, 97, 99, 100}\n"
     ]
    }
   ],
   "source": [
    "# set6 ={set3+set5}\n",
    "# update.(set6)\n",
    "\n",
    "set6 = set3 | set5\n",
    "set6.update\n",
    "\n",
    "print (set6)\n",
    "\n",
    "\n",
    "\n"
   ]
  },
  {
   "cell_type": "markdown",
   "metadata": {},
   "source": [
    "#### 10 - Check if `set1` and `set6` are equal."
   ]
  },
  {
   "cell_type": "code",
   "execution_count": 96,
   "metadata": {},
   "outputs": [
    {
     "data": {
      "text/plain": [
       "True"
      ]
     },
     "execution_count": 96,
     "metadata": {},
     "output_type": "execute_result"
    }
   ],
   "source": [
    "set1 == set6 \n",
    "\n"
   ]
  },
  {
   "cell_type": "markdown",
   "metadata": {},
   "source": [
    "#### 11 - Check if `set1` contains `set2` using the Python Set `issubset` method. Then check if `set1` contains `set3`.*"
   ]
  },
  {
   "cell_type": "code",
   "execution_count": 97,
   "metadata": {},
   "outputs": [
    {
     "name": "stdout",
     "output_type": "stream",
     "text": [
      "set1 is NOT a subset of set2\n",
      "set1 is NOT a subset of set3\n"
     ]
    }
   ],
   "source": [
    "\n",
    "# Check if set1 contains set2 \n",
    "\n",
    "if set1.issubset(set2):\n",
    "    print (\"set1 is a subset of set2\")\n",
    "else:\n",
    "    print (\"set1 is NOT a subset of set2\")\n",
    "    \n",
    "    \n",
    "    \n",
    "# check if set1 contains set3\n",
    "if set1.issubset(set3):\n",
    "    print (\"set1 is a subset of set3\")\n",
    "else:\n",
    "    print (\"set1 is NOT a subset of set3\")\n",
    "           \n"
   ]
  },
  {
   "cell_type": "markdown",
   "metadata": {},
   "source": [
    "#### 12 -Using the Python Set `union` method, aggregate `set3`, `set4`, and `set5`. Then aggregate `set1` and `set2`. \n",
    "\n",
    "#### Check if the aggregated values are equal."
   ]
  },
  {
   "cell_type": "code",
   "execution_count": 98,
   "metadata": {},
   "outputs": [
    {
     "name": "stdout",
     "output_type": "stream",
     "text": [
      "The agrregated value are equal\n"
     ]
    }
   ],
   "source": [
    "union_set1 = set3.union(set4, set5)\n",
    "union_set2 = set1.union(set2)\n",
    "\n",
    "\n",
    "\n",
    "if union_set1 == union_set2:\n",
    "    print (\"The agrregated value are equal\")\n",
    "else:\n",
    "    print (\"The agrregated value are NOT equal\")\n",
    "    \n",
    " \n",
    "    "
   ]
  },
  {
   "cell_type": "markdown",
   "metadata": {},
   "source": [
    "#### 13 -Using the `pop` method, remove the first element from `set1`."
   ]
  },
  {
   "cell_type": "code",
   "execution_count": 99,
   "metadata": {},
   "outputs": [
    {
     "name": "stdout",
     "output_type": "stream",
     "text": [
      "removed element is 1\n",
      "remaining elements are {2, 3, 4, 5, 6, 7, 8, 9, 10, 13, 14, 15, 16, 17, 18, 19, 20, 21, 22, 25, 26, 28, 29, 30, 32, 34, 35, 36, 37, 38, 39, 42, 43, 44, 45, 46, 48, 49, 50, 51, 52, 53, 54, 57, 58, 59, 60, 61, 62, 63, 64, 65, 68, 70, 71, 72, 74, 75, 76, 77, 78, 79, 82, 83, 84, 85, 86, 87, 88, 89, 90, 91, 93, 94, 95, 96, 97, 99, 100}\n"
     ]
    },
    {
     "data": {
      "text/plain": [
       "79"
      ]
     },
     "execution_count": 99,
     "metadata": {},
     "output_type": "execute_result"
    }
   ],
   "source": [
    "remove_element = set1.pop()\n",
    "print (\"removed element is\", remove_element)\n",
    "print (\"remaining elements are\", set1)\n",
    "len(set1)\n"
   ]
  },
  {
   "cell_type": "markdown",
   "metadata": {},
   "source": [
    "#### 14 -Remove every element in the following list from `set1` if they are present in the set. Print the remaining elements.\n",
    "\n",
    "```\n",
    "list_to_remove = [1, 9, 11, 19, 21, 29, 31, 39, 41, 49, 51, 59, 61, 69, 71, 79, 81, 89, 91, 99]\n",
    "```"
   ]
  },
  {
   "cell_type": "code",
   "execution_count": 105,
   "metadata": {},
   "outputs": [
    {
     "name": "stdout",
     "output_type": "stream",
     "text": [
      "New list set1 : {2, 3, 4, 5, 6, 7, 8, 10, 13, 14, 15, 16, 17, 18, 20, 22, 25, 26, 28, 30, 32, 34, 35, 36, 37, 38, 42, 43, 44, 45, 46, 48, 50, 52, 53, 54, 57, 58, 60, 62, 63, 64, 65, 68, 70, 72, 74, 75, 76, 77, 78, 82, 83, 84, 85, 86, 87, 88, 90, 93, 94, 95, 96, 97, 100}\n"
     ]
    }
   ],
   "source": [
    "list_to_remove = [1, 9, 11, 19, 21, 29, 31, 39, 41, 49, 51, 59, 61, 69, 71, 79, 81, 89, 91, 99]\n",
    "\n",
    "for i in list_to_remove:\n",
    "    if i in set1:\n",
    "        set1.remove(i)\n",
    "        \n",
    "print (\"New list set1 :\",  set1)\n",
    "    \n"
   ]
  },
  {
   "cell_type": "markdown",
   "metadata": {},
   "source": [
    "#### 15 -The objective of this lab is to provide you a overview of manipulating sets in Python and how they can be integrated within a real usecase\n",
    "#### For the exercises below it's strongly advised to quickly check this link: https://docs.python.org/2/library/sets.html#sets.Set\n",
    "#### Imagine you need to create the grocery list for your family! Below you will see a list of items each family member wants. There will be repetitions because this family has the habbit of each time they notice something is missing to write it down. The problem is that they don't really talk to each other and therefore some items in the list are repeated. With the collection of questions below you will see how they solve repetion and create a grocery list with unique elements.\n",
    "\n"
   ]
  },
  {
   "cell_type": "code",
   "execution_count": 108,
   "metadata": {},
   "outputs": [],
   "source": [
    "father_list = ['garlic', 'watermelon', 'toilet paper', 'yogurt', 'onions', 'gums', 'flour', 'cucumber', 'watermelon', 'yogurt', 'garlic']\n",
    "\n",
    "mother_list = []\n",
    "\n",
    "Jo_list = ['blueberries', 'sugar', 'watermelon', 'gums', 'tomatoes', 'yogurt', 'juice', 'milk', 'onions', 'garlic', 'cucumber', 'sugar', 'blueberries', 'gums', 'yogurt']\n",
    "\n",
    "Carlos_list = ['tomatoes', 'water', 'onions', 'blueberries', 'garlic', 'flour', 'cherries', 'tomatoes', 'onions', 'water', 'tomatoes', 'toilet paper']\n",
    "\n",
    "Mattia_list = []\n",
    "\n",
    "\n"
   ]
  },
  {
   "cell_type": "markdown",
   "metadata": {},
   "source": [
    "#### 15.1- As you can see there are items repeated in each list. Creat a sequence of iterable elements with dintinct items that each family member wants. You can do it in two different ways. Assign each one (set) to a variable with the name of the family member (ex: father_set)."
   ]
  },
  {
   "cell_type": "code",
   "execution_count": 133,
   "metadata": {},
   "outputs": [
    {
     "name": "stdout",
     "output_type": "stream",
     "text": [
      "father: {'flour', 'yogurt', 'garlic', 'cucumber', 'onions', 'gums', 'watermelon', 'toilet paper'}\n",
      "mother: {'flour', 'mushrooms', 'bread', 'chocolate', 'blueberries', 'milk', 'gums', 'deodorant', 'watermelon'}\n",
      "Jo: {'yogurt', 'garlic', 'cucumber', 'sugar', 'tomatoes', 'milk', 'onions', 'gums', 'blueberries', 'juice', 'watermelon'}\n",
      "Carlos: {'flour', 'garlic', 'cherries', 'tomatoes', 'water', 'onions', 'blueberries', 'toilet paper'}\n",
      "Mattia: set()\n"
     ]
    }
   ],
   "source": [
    "\n",
    "\n",
    "father_set = set(father_list)\n",
    "mother_set = set(mother_list)\n",
    "Jo_set = set(Jo_list)\n",
    "Carlos_set = set(Carlos_list)\n",
    "Mattia_set = set(Mattia_list)\n",
    "\n",
    "print(\"father:\", father_set)\n",
    "print(\"mother:\", mother_set)\n",
    "print(\"Jo:\", Jo_set)\n",
    "print(\"Carlos:\", Carlos_set)\n",
    "print(\"Mattia:\", Mattia_set)\n"
   ]
  },
  {
   "cell_type": "markdown",
   "metadata": {},
   "source": [
    "#### 15.2- Q: Mattia wants the same items that his brother Carlos and his sister Jo but doesn't want anything they both want.\n",
    "\n",
    "##### Hint: check out the documentation for `x.symmetric_difference(y)`."
   ]
  },
  {
   "cell_type": "code",
   "execution_count": 134,
   "metadata": {},
   "outputs": [
    {
     "name": "stdout",
     "output_type": "stream",
     "text": [
      "Mattia wants: {'flour', 'yogurt', 'cucumber', 'cherries', 'sugar', 'milk', 'water', 'gums', 'juice', 'watermelon', 'toilet paper'}\n"
     ]
    }
   ],
   "source": [
    "\n",
    "\n",
    "Mattia_set = Carlos_set.symmetric_difference(Jo_set)\n",
    "print (\"Mattia wants:\", Mattia_set)\n",
    "\n"
   ]
  },
  {
   "cell_type": "markdown",
   "metadata": {},
   "source": [
    "#### 15.3- The line of code below  will  generate a list of random elements from a collection of items, with replacement. Run it and from it create a sequence of unique elements and assign it to the variable mother.\n"
   ]
  },
  {
   "cell_type": "code",
   "execution_count": 135,
   "metadata": {},
   "outputs": [
    {
     "name": "stdout",
     "output_type": "stream",
     "text": [
      "{'shampoo', 'cucumber', 'tomatoes', 'sugar', 'milk', 'deodorant', 'vinegar', 'toilet paper'}\n"
     ]
    }
   ],
   "source": [
    "import random\n",
    "items = ['milk', 'water', 'chocolate', 'blueberries', 'shampoo', 'flour', 'bread', 'sugar', 'watermelon', 'vinegar', 'tomatoes', 'yogurt', 'juice', 'gums', 'onions', 'garlic', 'cucumber', 'mushrooms', 'toilet paper', 'oranges', 'deodorant', 'cherries']\n",
    "\n",
    "mother_set = random.choices(items,k = 10) # https://docs.python.org/3/library/random.html\n",
    "mother_set = set(mother_set)\n",
    "\n",
    "print(mother_set)"
   ]
  },
  {
   "cell_type": "markdown",
   "metadata": {},
   "source": [
    "#### 15.4- Before leaving the house to the grocery store the father found a lot of toilet paper, so the mother decided to remove it from the items needed to be bought. Use the `.discard()` method to remove from each set created before the 'toilet paper'. \n",
    "\n",
    "#### Hint: Try to first create a list contaning the variables of each set created before, then loop through them and remove the unecessary item. \n",
    "\n",
    "##### Note: The`.discard()` method will remove and update the set without the need of reassignment.\n",
    "\n"
   ]
  },
  {
   "cell_type": "code",
   "execution_count": 137,
   "metadata": {},
   "outputs": [
    {
     "name": "stdout",
     "output_type": "stream",
     "text": [
      "father's list: {'flour', 'yogurt', 'garlic', 'cucumber', 'onions', 'gums', 'watermelon', 'toilet paper'}\n",
      "mother's list: {'shampoo', 'cucumber', 'tomatoes', 'sugar', 'milk', 'deodorant', 'vinegar', 'toilet paper'}\n",
      "Jo's list: {'yogurt', 'garlic', 'cucumber', 'sugar', 'tomatoes', 'milk', 'onions', 'gums', 'blueberries', 'juice', 'watermelon'}\n",
      "Carlos's list: {'flour', 'garlic', 'cherries', 'tomatoes', 'water', 'onions', 'blueberries', 'toilet paper'}\n",
      "Mattia's list: {'flour', 'yogurt', 'cucumber', 'cherries', 'sugar', 'milk', 'water', 'gums', 'juice', 'watermelon', 'toilet paper'}\n"
     ]
    }
   ],
   "source": [
    "\n",
    "print (\"father's list:\",father_set)\n",
    "print (\"mother's list:\",mother_set)\n",
    "print (\"Jo's list:\",Jo_set)\n",
    "print (\"Carlos's list:\",Carlos_set)\n",
    "print (\"Mattia's list:\",Mattia_set)\n",
    "\n",
    "\n"
   ]
  },
  {
   "cell_type": "code",
   "execution_count": 144,
   "metadata": {},
   "outputs": [
    {
     "name": "stdout",
     "output_type": "stream",
     "text": [
      "modified father's list: {'flour', 'yogurt', 'garlic', 'cucumber', 'onions', 'gums', 'watermelon'}\n",
      "modified mother's list: {'shampoo', 'cucumber', 'tomatoes', 'sugar', 'milk', 'deodorant', 'vinegar'}\n",
      "modified Jo's list: {'yogurt', 'garlic', 'cucumber', 'sugar', 'tomatoes', 'milk', 'onions', 'gums', 'blueberries', 'juice', 'watermelon'}\n",
      "modified Carlos's list: {'flour', 'garlic', 'cherries', 'tomatoes', 'water', 'onions', 'blueberries'}\n",
      "modified Mattia's list: {'flour', 'yogurt', 'cucumber', 'cherries', 'sugar', 'milk', 'water', 'gums', 'juice', 'watermelon'}\n"
     ]
    }
   ],
   "source": [
    "# Modified list using the .discard() method to remove 'toilet paper' from the previous lists\n",
    "\n",
    "father_set.discard('toilet paper')\n",
    "mother_set.discard('toilet paper')\n",
    "Jo_set.discard('toilet paper')\n",
    "Carlos_set.discard('toilet paper')\n",
    "Mattia_set.discard('toilet paper')\n",
    "\n",
    "\n",
    "\n",
    "print (\"modified father's list:\", father_set)\n",
    "print (\"modified mother's list:\",mother_set)\n",
    "print (\"modified Jo's list:\", Jo_set)\n",
    "print (\"modified Carlos's list:\", Carlos_set)\n",
    "print (\"modified Mattia's list:\", Mattia_set)\n",
    "\n",
    "\n",
    "\n",
    "\n",
    "\n",
    "\n"
   ]
  },
  {
   "cell_type": "markdown",
   "metadata": {},
   "source": [
    "#### 15.5- Create a set with all the groceries needed to be bought for the house (no repetitions)."
   ]
  },
  {
   "cell_type": "code",
   "execution_count": 146,
   "metadata": {},
   "outputs": [
    {
     "name": "stdout",
     "output_type": "stream",
     "text": [
      "the final grocery list: {'flour', 'yogurt', 'shampoo', 'sugar', 'water', 'gums', 'juice', 'vinegar', 'garlic', 'cucumber', 'cherries', 'tomatoes', 'milk', 'onions', 'deodorant', 'blueberries', 'watermelon'}\n"
     ]
    }
   ],
   "source": [
    "final_set = father_set | mother_set | Jo_set | Carlos_set | Mattia_set\n",
    "print (\"the final grocery list:\", final_set)\n",
    "\n"
   ]
  },
  {
   "cell_type": "markdown",
   "metadata": {},
   "source": [
    "#### 15.6- The Father said that he could only buy five items this time. So he decided to arbitraly pick wich ones to buy this time.\n",
    "\n",
    "##### Hint: use the `.pop()` method."
   ]
  },
  {
   "cell_type": "code",
   "execution_count": 151,
   "metadata": {},
   "outputs": [
    {
     "name": "stdout",
     "output_type": "stream",
     "text": [
      "select 5 items: ['watermelon', 'garlic', 'blueberries', 'water', 'vinegar']\n"
     ]
    }
   ],
   "source": [
    "import random\n",
    "\n",
    "\n",
    "selected_items = random.sample(final_list, 5)\n",
    "print (\"select 5 items:\", selected_items)\n",
    "\n",
    "\n",
    "\n"
   ]
  }
 ],
 "metadata": {
  "kernelspec": {
   "display_name": "Python 3 (ipykernel)",
   "language": "python",
   "name": "python3"
  },
  "language_info": {
   "codemirror_mode": {
    "name": "ipython",
    "version": 3
   },
   "file_extension": ".py",
   "mimetype": "text/x-python",
   "name": "python",
   "nbconvert_exporter": "python",
   "pygments_lexer": "ipython3",
   "version": "3.9.13"
  }
 },
 "nbformat": 4,
 "nbformat_minor": 2
}
