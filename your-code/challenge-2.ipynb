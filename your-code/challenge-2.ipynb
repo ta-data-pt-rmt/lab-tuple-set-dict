{
 "cells": [
  {
   "cell_type": "markdown",
   "metadata": {},
   "source": [
    "## Challenge 2: Sets\n",
    "\n",
    "There are a lot to learn about Python Sets and the information presented in the lesson is limited due to its length. To learn Python Sets in depth you are strongly encouraged to review the W3Schools tutorial on [Python Sets Examples and Methods](https://www.w3schools.com/python/python_sets.asp) before you work on this lab. Some difficult questions in this lab have their solutions in the W3Schools tutorial.\n",
    "\n",
    "#### First, import the Python `random` libary"
   ]
  },
  {
   "cell_type": "code",
   "execution_count": 1,
   "metadata": {},
   "outputs": [],
   "source": [
    "import random"
   ]
  },
  {
   "cell_type": "markdown",
   "metadata": {},
   "source": [
    "#### 1 - In the cell below, create a list named `sample_list_1` with 80 random values. \n",
    "\n",
    "Requirements:\n",
    "\n",
    "* Each value is an integer falling between 0 and 100.\n",
    "* Each value in the list is unique.\n",
    "\n",
    "Print `sample_list_1` to review its values\n",
    "\n",
    "*Hint: use `random.sample` ([reference](https://docs.python.org/3/library/random.html#random.sample)).*"
   ]
  },
  {
   "cell_type": "code",
   "execution_count": 6,
   "metadata": {},
   "outputs": [
    {
     "name": "stdout",
     "output_type": "stream",
     "text": [
      "[74, 8, 40, 4, 10, 35, 39, 65, 99, 29, 45, 44, 11, 52, 50, 61, 2, 23, 93, 26, 58, 32, 66, 12, 33, 25, 69, 64, 84, 17, 90, 72, 19, 68, 30, 76, 13, 54, 91, 22, 3, 43, 7, 67, 62, 73, 46, 55, 51, 18, 56, 24, 89, 5, 16, 28, 37, 75, 9, 53, 42, 96, 6, 48, 38, 98, 100, 41, 94, 85, 31, 87, 77, 36, 59, 80, 14, 1, 27, 21]\n"
     ]
    }
   ],
   "source": [
    "sample_list_1 = random.sample(range(101), 80)\n",
    "\n",
    "print(sample_list_1)"
   ]
  },
  {
   "cell_type": "markdown",
   "metadata": {},
   "source": [
    "#### 2 - Convert `sample_list_1` to a set called `set1`. Print the length of the set. Is its length still 80?"
   ]
  },
  {
   "cell_type": "code",
   "execution_count": 10,
   "metadata": {},
   "outputs": [
    {
     "name": "stdout",
     "output_type": "stream",
     "text": [
      "{1, 2, 3, 4, 5, 6, 7, 8, 9, 10, 11, 12, 13, 14, 16, 17, 18, 19, 21, 22, 23, 24, 25, 26, 27, 28, 29, 30, 31, 32, 33, 35, 36, 37, 38, 39, 40, 41, 42, 43, 44, 45, 46, 48, 50, 51, 52, 53, 54, 55, 56, 58, 59, 61, 62, 64, 65, 66, 67, 68, 69, 72, 73, 74, 75, 76, 77, 80, 84, 85, 87, 89, 90, 91, 93, 94, 96, 98, 99, 100}\n"
     ]
    },
    {
     "data": {
      "text/plain": [
       "80"
      ]
     },
     "execution_count": 10,
     "metadata": {},
     "output_type": "execute_result"
    }
   ],
   "source": [
    "# Your code here\n",
    "set1 = set(sample_list_1)\n",
    "print(set1)\n",
    "len(set1)"
   ]
  },
  {
   "cell_type": "markdown",
   "metadata": {},
   "source": [
    "#### 3 - Create another list named `sample_list_2` with 80 random values.\n",
    "\n",
    "Requirements:\n",
    "\n",
    "* Each value is an integer falling between 0 and 100.\n",
    "* The values in the list don't have to be unique.\n",
    "\n",
    "*Hint: Use a FOR loop.*"
   ]
  },
  {
   "cell_type": "code",
   "execution_count": 11,
   "metadata": {},
   "outputs": [
    {
     "name": "stdout",
     "output_type": "stream",
     "text": [
      "[22, 17, 53, 75, 60, 0, 50, 55, 72, 37, 35, 59, 77, 86, 4, 12, 46, 3, 6, 11, 47, 68, 20, 5, 39, 81, 65, 10, 74, 28, 85, 2, 91, 38, 18, 92, 8, 94, 43, 67, 76, 24, 82, 23, 32, 15, 78, 97, 100, 30, 44, 57, 95, 41, 96, 84, 51, 13, 71, 52, 42, 19, 66, 29, 26, 40, 87, 61, 62, 70, 79, 69, 31, 58, 1, 7, 49, 98, 16, 14]\n"
     ]
    }
   ],
   "source": [
    "sample_list_2 = random.sample(range(101),80)\n",
    "print(sample_list_2)"
   ]
  },
  {
   "cell_type": "markdown",
   "metadata": {},
   "source": [
    "#### 4 - Convert `sample_list_2` to a set called `set2`. Print the length of the set. Is its length still 80?"
   ]
  },
  {
   "cell_type": "code",
   "execution_count": 12,
   "metadata": {},
   "outputs": [
    {
     "name": "stdout",
     "output_type": "stream",
     "text": [
      "{0, 1, 2, 3, 4, 5, 6, 7, 8, 10, 11, 12, 13, 14, 15, 16, 17, 18, 19, 20, 22, 23, 24, 26, 28, 29, 30, 31, 32, 35, 37, 38, 39, 40, 41, 42, 43, 44, 46, 47, 49, 50, 51, 52, 53, 55, 57, 58, 59, 60, 61, 62, 65, 66, 67, 68, 69, 70, 71, 72, 74, 75, 76, 77, 78, 79, 81, 82, 84, 85, 86, 87, 91, 92, 94, 95, 96, 97, 98, 100}\n"
     ]
    }
   ],
   "source": [
    "set2 = set(sample_list_2)\n",
    "print(set2)\n"
   ]
  },
  {
   "cell_type": "markdown",
   "metadata": {},
   "source": [
    "#### 5 - Identify the elements present in `set1` but not in `set2`. Assign the elements to a new set named `set3`."
   ]
  },
  {
   "cell_type": "code",
   "execution_count": 14,
   "metadata": {},
   "outputs": [
    {
     "name": "stdout",
     "output_type": "stream",
     "text": [
      "{64, 33, 89, 99, 36, 9, 73, 45, 48, 80, 21, 54, 56, 25, 90, 27, 93}\n"
     ]
    }
   ],
   "source": [
    "set3 = set1.difference(set2)\n",
    "print(set3)"
   ]
  },
  {
   "cell_type": "markdown",
   "metadata": {},
   "source": [
    "#### 6 - Identify the elements present in `set2` but not in `set1`. Assign the elements to a new set named `set4`."
   ]
  },
  {
   "cell_type": "code",
   "execution_count": 15,
   "metadata": {},
   "outputs": [
    {
     "name": "stdout",
     "output_type": "stream",
     "text": [
      "{0, 97, 70, 71, 78, 47, 15, 49, 79, 81, 20, 82, 86, 92, 57, 60, 95}\n"
     ]
    }
   ],
   "source": [
    "set4 = set2.difference(set1)\n",
    "print(set4)\n"
   ]
  },
  {
   "cell_type": "markdown",
   "metadata": {},
   "source": [
    "#### 7 - Now Identify the elements shared between `set1` and `set2`. Assign the elements to a new set named `set5`."
   ]
  },
  {
   "cell_type": "code",
   "execution_count": 17,
   "metadata": {},
   "outputs": [
    {
     "name": "stdout",
     "output_type": "stream",
     "text": [
      "{1, 2, 3, 4, 5, 6, 7, 8, 10, 11, 12, 13, 14, 16, 17, 18, 19, 22, 23, 24, 26, 28, 29, 30, 31, 32, 35, 37, 38, 39, 40, 41, 42, 43, 44, 46, 50, 51, 52, 53, 55, 58, 59, 61, 62, 65, 66, 67, 68, 69, 72, 74, 75, 76, 77, 84, 85, 87, 91, 94, 96, 98, 100}\n"
     ]
    }
   ],
   "source": [
    "set5 = set1.intersection(set2)\n",
    "print(set5)\n"
   ]
  },
  {
   "cell_type": "markdown",
   "metadata": {},
   "source": [
    "#### 8 - Create an empty set called `set6`."
   ]
  },
  {
   "cell_type": "code",
   "execution_count": 18,
   "metadata": {},
   "outputs": [],
   "source": [
    "set6 = set()\n"
   ]
  },
  {
   "cell_type": "markdown",
   "metadata": {},
   "source": [
    "#### 9 - Add `set3` and `set5` to `set6` using the Python Set `update` method."
   ]
  },
  {
   "cell_type": "code",
   "execution_count": 22,
   "metadata": {},
   "outputs": [
    {
     "name": "stdout",
     "output_type": "stream",
     "text": [
      "{1, 2, 3, 4, 5, 6, 7, 8, 9, 10, 11, 12, 13, 14, 16, 17, 18, 19, 21, 22, 23, 24, 25, 26, 27, 28, 29, 30, 31, 32, 33, 35, 36, 37, 38, 39, 40, 41, 42, 43, 44, 45, 46, 48, 50, 51, 52, 53, 54, 55, 56, 58, 59, 61, 62, 64, 65, 66, 67, 68, 69, 72, 73, 74, 75, 76, 77, 80, 84, 85, 87, 89, 90, 91, 93, 94, 96, 98, 99, 100}\n"
     ]
    }
   ],
   "source": [
    "set3 = {64, 33, 89, 99, 36, 9, 73, 45, 48, 80, 21, 54, 56, 25, 90, 27, 93}\n",
    "set5 = {1, 2, 3, 4, 5, 6, 7, 8, 10, 11, 12, 13, 14, 16, 17, 18, 19, 22, 23, 24, 26, 28, 29, 30, 31, 32, 35, 37, 38, 39, 40, 41, 42, 43, 44, 46, 50, 51, 52, 53, 55, 58, 59, 61, 62, 65, 66, 67, 68, 69, 72, 74, 75, 76, 77, 84, 85, 87, 91, 94, 96, 98, 100}\n",
    "\n",
    "set6 = set()\n",
    "\n",
    "set6.update(set3)\n",
    "set6.update(set5)\n",
    "\n",
    "print(set6)"
   ]
  },
  {
   "cell_type": "markdown",
   "metadata": {},
   "source": [
    "#### 10 - Check if `set1` and `set6` are equal."
   ]
  },
  {
   "cell_type": "code",
   "execution_count": 23,
   "metadata": {},
   "outputs": [
    {
     "name": "stdout",
     "output_type": "stream",
     "text": [
      "Yes, they are equal.\n"
     ]
    }
   ],
   "source": [
    "if set1 == set6:\n",
    "    print('Yes, they are equal.')\n",
    "else:\n",
    "    print('No, they are not equal.')\n"
   ]
  },
  {
   "cell_type": "markdown",
   "metadata": {},
   "source": [
    "#### 11 - Check if `set1` contains `set2` using the Python Set `issubset` method. Then check if `set1` contains `set3`.*"
   ]
  },
  {
   "cell_type": "code",
   "execution_count": 26,
   "metadata": {},
   "outputs": [
    {
     "name": "stdout",
     "output_type": "stream",
     "text": [
      "False\n",
      "False\n"
     ]
    }
   ],
   "source": [
    "result = set1.issubset(set2)\n",
    "print(result)\n",
    "\n",
    "result_2 = set1.issubset(set3)\n",
    "print(result_2)"
   ]
  },
  {
   "cell_type": "markdown",
   "metadata": {},
   "source": [
    "#### 12 -Using the Python Set `union` method, aggregate `set3`, `set4`, and `set5`. Then aggregate `set1` and `set2`. \n",
    "\n",
    "#### Check if the aggregated values are equal."
   ]
  },
  {
   "cell_type": "code",
   "execution_count": 30,
   "metadata": {},
   "outputs": [
    {
     "name": "stdout",
     "output_type": "stream",
     "text": [
      "{0, 1, 2, 3, 4, 5, 6, 7, 8, 9, 10, 11, 12, 13, 14, 15, 16, 17, 18, 19, 20, 21, 22, 23, 24, 25, 26, 27, 28, 29, 30, 31, 32, 33, 35, 36, 37, 38, 39, 40, 41, 42, 43, 44, 45, 46, 47, 48, 49, 50, 51, 52, 53, 54, 55, 56, 57, 58, 59, 60, 61, 62, 64, 65, 66, 67, 68, 69, 70, 71, 72, 73, 74, 75, 76, 77, 78, 79, 80, 81, 82, 84, 85, 86, 87, 89, 90, 91, 92, 93, 94, 95, 96, 97, 98, 99, 100}\n",
      "{0, 1, 2, 3, 4, 5, 6, 7, 8, 9, 10, 11, 12, 13, 14, 15, 16, 17, 18, 19, 20, 21, 22, 23, 24, 25, 26, 27, 28, 29, 30, 31, 32, 33, 35, 36, 37, 38, 39, 40, 41, 42, 43, 44, 45, 46, 47, 48, 49, 50, 51, 52, 53, 54, 55, 56, 57, 58, 59, 60, 61, 62, 64, 65, 66, 67, 68, 69, 70, 71, 72, 73, 74, 75, 76, 77, 78, 79, 80, 81, 82, 84, 85, 86, 87, 89, 90, 91, 92, 93, 94, 95, 96, 97, 98, 99, 100}\n",
      "Yes they are equal\n"
     ]
    }
   ],
   "source": [
    "union_1 = set3.union(set4,set5)\n",
    "print(union_1)\n",
    "\n",
    "union_2 = set1.union(set2)\n",
    "print(union_2)\n",
    "\n",
    "if union_1 == union_2:\n",
    "    print('Yes they are equal')\n",
    "else:\n",
    "    print('No,they are not equal')\n"
   ]
  },
  {
   "cell_type": "markdown",
   "metadata": {},
   "source": [
    "#### 13 -Using the `pop` method, remove the first element from `set1`."
   ]
  },
  {
   "cell_type": "code",
   "execution_count": 36,
   "metadata": {},
   "outputs": [
    {
     "name": "stdout",
     "output_type": "stream",
     "text": [
      "Removed element: 1\n",
      "Updated set1: {2, 3, 4, 5, 6, 7, 8, 9, 10, 11, 12, 13, 14, 16, 17, 18, 19, 21, 22, 23, 24, 25, 26, 27, 28, 29, 30, 31, 32, 33, 35, 36, 37, 38, 39, 40, 41, 42, 43, 44, 45, 46, 48, 50, 51, 52, 53, 54, 55, 56, 58, 59, 61, 62, 64, 65, 66, 67, 68, 69, 72, 73, 74, 75, 76, 77, 80, 84, 85, 87, 89, 90, 91, 93, 94, 96, 98, 99, 100}\n"
     ]
    }
   ],
   "source": [
    "set1 = {1, 2, 3, 4, 5, 6, 7, 8, 9, 10, 11, 12, 13, 14, 16, 17, 18, 19, 21, 22, 23, 24, 25, 26, 27, 28, 29, 30, 31, 32, 33, 35, 36, 37, 38, 39, 40, 41, 42, 43, 44, 45, 46, 48, 50, 51, 52, 53, 54, 55, 56, 58, 59, 61, 62, 64, 65, 66, 67, 68, 69, 72, 73, 74, 75, 76, 77, 80, 84, 85, 87, 89, 90, 91, 93, 94, 96, 98, 99, 100}\n",
    "\n",
    "removed_element = set1.pop()\n",
    "\n",
    "print(\"Removed element:\", removed_element)\n",
    "print(\"Updated set1:\", set1)"
   ]
  },
  {
   "cell_type": "markdown",
   "metadata": {},
   "source": [
    "#### 14 -Remove every element in the following list from `set1` if they are present in the set. Print the remaining elements.\n",
    "\n",
    "```\n",
    "list_to_remove = [1, 9, 11, 19, 21, 29, 31, 39, 41, 49, 51, 59, 61, 69, 71, 79, 81, 89, 91, 99]\n",
    "```"
   ]
  },
  {
   "cell_type": "code",
   "execution_count": 39,
   "metadata": {},
   "outputs": [
    {
     "name": "stdout",
     "output_type": "stream",
     "text": [
      "Remaining elements in set1: {2, 3, 4, 5, 6, 7, 8, 10, 12, 13, 14, 16, 17, 18, 22, 23, 24, 25, 26, 27, 28, 30, 32, 33, 35, 36, 37, 38, 40, 42, 43, 44, 45, 46, 48, 50, 52, 53, 54, 55, 56, 58, 62, 64, 65, 66, 67, 68, 72, 73, 74, 75, 76, 77, 80, 84, 85, 87, 90, 93, 94, 96, 98, 100}\n"
     ]
    }
   ],
   "source": [
    "list_to_remove = [1, 9, 11, 19, 21, 29, 31, 39, 41, 49, 51, 59, 61, 69, 71, 79, 81, 89, 91, 99]\n",
    "set1 -= set(list_to_remove)\n",
    "print('Remaining elements in set1:',set1)"
   ]
  },
  {
   "cell_type": "markdown",
   "metadata": {},
   "source": [
    "#### 15 -The objective of this lab is to provide you a overview of manipulating sets in Python and how they can be integrated within a real usecase\n",
    "#### For the exercises below it's strongly advised to quickly check this link: https://docs.python.org/2/library/sets.html#sets.Set\n",
    "#### Imagine you need to create the grocery list for your family! Below you will see a list of items each family member wants. There will be repetitions because this family has the habbit of each time they notice something is missing to write it down. The problem is that they don't really talk to each other and therefore some items in the list are repeated. With the collection of questions below you will see how they solve repetion and create a grocery list with unique elements.\n",
    "\n"
   ]
  },
  {
   "cell_type": "code",
   "execution_count": 41,
   "metadata": {},
   "outputs": [],
   "source": [
    "father_list = ['garlic', 'watermelon', 'toilet paper', 'yogurt', 'onions', 'gums', 'flour', 'cucumber', 'watermelon', 'yogurt', 'garlic']\n",
    "\n",
    "mother_list = []\n",
    "\n",
    "Jo_list = ['blueberries', 'sugar', 'watermelon', 'gums', 'tomatoes', 'yogurt', 'juice', 'milk', 'onions', 'garlic', 'cucumber', 'sugar', 'blueberries', 'gums', 'yogurt']\n",
    "\n",
    "Carlos_list = ['tomatoes', 'water', 'onions', 'blueberries', 'garlic', 'flour', 'cherries', 'tomatoes', 'onions', 'water', 'tomatoes', 'toilet paper']\n",
    "\n",
    "Mattia_list = []\n",
    "\n",
    "\n"
   ]
  },
  {
   "cell_type": "markdown",
   "metadata": {},
   "source": [
    "#### 15.1- As you can see there are items repeated in each list. Creat a sequence of iterable elements with dintinct items that each family member wants. You can do it in two different ways. Assign each one (set) to a variable with the name of the family member (ex: father_set)."
   ]
  },
  {
   "cell_type": "code",
   "execution_count": 59,
   "metadata": {},
   "outputs": [
    {
     "name": "stdout",
     "output_type": "stream",
     "text": [
      "{'toilet paper', 'garlic', 'watermelon', 'gums', 'cucumber', 'onions', 'flour', 'yogurt'}\n",
      "{'tomatoes', 'garlic', 'blueberries', 'watermelon', 'gums', 'juice', 'cucumber', 'milk', 'onions', 'sugar', 'yogurt'}\n",
      "{'tomatoes', 'toilet paper', 'garlic', 'blueberries', 'cherries', 'onions', 'flour', 'water'}\n",
      "Combined set: {'toilet paper', 'watermelon', 'juice', 'onions', 'sugar', 'yogurt', 'tomatoes', 'garlic', 'blueberries', 'cherries', 'gums', 'cucumber', 'milk', 'flour', 'water'}\n"
     ]
    }
   ],
   "source": [
    "father = set(father_list)\n",
    "print(father_list)\n",
    "Jo= set(Jo_list)\n",
    "print(Jo_list)\n",
    "Carlos= set(Carlos_list)\n",
    "print(Carlos_list)\n",
    "\n",
    "combined_set = father.union(Jo,Carlos)\n",
    "print('Combined set:',combined_set)\n"
   ]
  },
  {
   "cell_type": "markdown",
   "metadata": {},
   "source": [
    "#### 15.2- Q: Mattia wants the same items that his brother Carlos and his sister Jo but doesn't want anything they both want.\n",
    "\n",
    "##### Hint: check out the documentation for `x.symmetric_difference(y)`."
   ]
  },
  {
   "cell_type": "code",
   "execution_count": 60,
   "metadata": {},
   "outputs": [
    {
     "name": "stdout",
     "output_type": "stream",
     "text": [
      "{'toilet paper', 'cherries', 'watermelon', 'gums', 'juice', 'cucumber', 'milk', 'sugar', 'flour', 'yogurt', 'water'}\n"
     ]
    }
   ],
   "source": [
    "Mattia= Jo.symmetric_difference(Carlos)\n",
    "print(Mattia)\n"
   ]
  },
  {
   "cell_type": "markdown",
   "metadata": {},
   "source": [
    "#### 15.3- The line of code below  will  generate a list of random elements from a collection of items, with replacement. Run it and from it create a sequence of unique elements and assign it to the variable mother.\n"
   ]
  },
  {
   "cell_type": "code",
   "execution_count": 55,
   "metadata": {},
   "outputs": [
    {
     "name": "stdout",
     "output_type": "stream",
     "text": [
      "['garlic', 'chocolate', 'cherries', 'shampoo', 'mushrooms', 'sugar', 'cucumber', 'tomatoes', 'mushrooms', 'deodorant']\n"
     ]
    }
   ],
   "source": [
    "import random\n",
    "items = ['milk', 'water', 'chocolate', 'blueberries', 'shampoo', 'flour', 'bread', 'sugar', 'watermelon', 'vinegar', 'tomatoes', 'yogurt', 'juice', 'gums', 'onions', 'garlic', 'cucumber', 'mushrooms', 'toilet paper', 'oranges', 'deodorant', 'cherries']\n",
    "\n",
    "mother_list = random.choices(items,k = 10) # https://docs.python.org/3/library/random.html\n",
    "\n",
    "print(mother_list)"
   ]
  },
  {
   "cell_type": "code",
   "execution_count": 57,
   "metadata": {},
   "outputs": [
    {
     "name": "stdout",
     "output_type": "stream",
     "text": [
      "{'chocolate', 'shampoo', 'tomatoes', 'deodorant', 'garlic', 'cherries', 'cucumber', 'sugar', 'mushrooms'}\n"
     ]
    }
   ],
   "source": [
    "mother = set(mother_list)\n",
    "print(mother)"
   ]
  },
  {
   "cell_type": "markdown",
   "metadata": {},
   "source": [
    "#### 15.4- Before leaving the house to the grocery store the father found a lot of toilet paper, so the mother decided to remove it from the items needed to be bought. Use the `.discard()` method to remove from each set created before the 'toilet paper'. \n",
    "\n",
    "#### Hint: Try to first create a list contaning the variables of each set created before, then loop through them and remove the unecessary item. \n",
    "\n",
    "##### Note: The`.discard()` method will remove and update the set without the need of reassignment.\n",
    "\n"
   ]
  },
  {
   "cell_type": "code",
   "execution_count": 61,
   "metadata": {},
   "outputs": [
    {
     "name": "stdout",
     "output_type": "stream",
     "text": [
      "Updated mother list: {'chocolate', 'shampoo', 'tomatoes', 'deodorant', 'garlic', 'cherries', 'cucumber', 'sugar', 'mushrooms'}\n",
      "Updated Mattia list: {'cherries', 'watermelon', 'juice', 'gums', 'cucumber', 'milk', 'sugar', 'flour', 'yogurt', 'water'}\n",
      "Updated father list: {'garlic', 'watermelon', 'gums', 'cucumber', 'onions', 'flour', 'yogurt'}\n",
      "Updated Jo list: {'tomatoes', 'garlic', 'blueberries', 'watermelon', 'gums', 'juice', 'cucumber', 'milk', 'onions', 'sugar', 'yogurt'}\n",
      "Updated Carlos list: {'tomatoes', 'garlic', 'blueberries', 'cherries', 'onions', 'flour', 'water'}\n"
     ]
    }
   ],
   "source": [
    "mother = {'chocolate', 'shampoo', 'tomatoes', 'deodorant', 'garlic', 'cherries', 'cucumber', 'sugar', 'mushrooms'}\n",
    "Mattia = {'toilet paper', 'cherries', 'watermelon', 'gums', 'juice', 'cucumber', 'milk', 'sugar', 'flour', 'yogurt', 'water'}\n",
    "father = {'toilet paper', 'garlic', 'watermelon', 'gums', 'cucumber', 'onions', 'flour', 'yogurt'}\n",
    "Jo = {'tomatoes', 'garlic', 'blueberries', 'watermelon', 'gums', 'juice', 'cucumber', 'milk', 'onions', 'sugar', 'yogurt'}\n",
    "Carlos = {'tomatoes', 'toilet paper', 'garlic', 'blueberries', 'cherries', 'onions', 'flour', 'water'}\n",
    "\n",
    "sets_list = [mother, Mattia, father, Jo, Carlos]\n",
    "\n",
    "for s in sets_list:\n",
    "    s.discard('toilet paper')\n",
    "\n",
    "print(\"Updated mother list:\", mother)\n",
    "print(\"Updated Mattia list:\", Mattia)\n",
    "print(\"Updated father list:\", father)\n",
    "print(\"Updated Jo list:\", Jo)\n",
    "print(\"Updated Carlos list:\", Carlos)"
   ]
  },
  {
   "cell_type": "markdown",
   "metadata": {},
   "source": [
    "#### 15.5- Create a set with all the groceries needed to be bought for the house (no repetitions)."
   ]
  },
  {
   "cell_type": "code",
   "execution_count": 63,
   "metadata": {},
   "outputs": [
    {
     "name": "stdout",
     "output_type": "stream",
     "text": [
      "Set of all groceries needed to be bought for the house: {'chocolate', 'shampoo', 'watermelon', 'juice', 'onions', 'sugar', 'yogurt', 'tomatoes', 'deodorant', 'garlic', 'blueberries', 'cherries', 'gums', 'cucumber', 'milk', 'mushrooms', 'flour', 'water'}\n"
     ]
    }
   ],
   "source": [
    "mother = {'chocolate', 'shampoo', 'tomatoes', 'deodorant', 'garlic', 'cherries', 'cucumber', 'sugar', 'mushrooms'}\n",
    "Mattia = {'cherries', 'watermelon', 'juice', 'gums', 'cucumber', 'milk', 'sugar', 'flour', 'yogurt', 'water'}\n",
    "father = {'garlic', 'watermelon', 'gums', 'cucumber', 'onions', 'flour', 'yogurt'}\n",
    "Jo = {'tomatoes', 'garlic', 'blueberries', 'watermelon', 'gums', 'juice', 'cucumber', 'milk', 'onions', 'sugar', 'yogurt'}\n",
    "Carlos = {'tomatoes', 'garlic', 'blueberries', 'cherries', 'onions', 'flour', 'water'}\n",
    "\n",
    "\n",
    "\n",
    "all_groceries = mother.union(Mattia,father,Jo,Carlos)\n",
    "\n",
    "# Print the set of all groceries needed to be bought for the house\n",
    "print(\"Set of all groceries needed to be bought for the house:\", all_groceries)\n"
   ]
  },
  {
   "cell_type": "markdown",
   "metadata": {},
   "source": [
    "#### 15.6- The Father said that he could only buy five items this time. So he decided to arbitraly pick wich ones to buy this time.\n",
    "\n",
    "##### Hint: use the `.pop()` method."
   ]
  },
  {
   "cell_type": "code",
   "execution_count": 65,
   "metadata": {},
   "outputs": [
    {
     "name": "stdout",
     "output_type": "stream",
     "text": [
      "Selected items for purchase: ['chocolate', 'shampoo', 'watermelon', 'juice', 'onions']\n"
     ]
    }
   ],
   "source": [
    "selected_items = []\n",
    "\n",
    "for _ in range(5):\n",
    "    if all_groceries:\n",
    "        selected_item = all_groceries.pop()\n",
    "        selected_items.append(selected_item)\n",
    "\n",
    "print(\"Selected items for purchase:\", selected_items)"
   ]
  },
  {
   "cell_type": "code",
   "execution_count": null,
   "metadata": {},
   "outputs": [],
   "source": []
  }
 ],
 "metadata": {
  "kernelspec": {
   "display_name": "Python 3 (ipykernel)",
   "language": "python",
   "name": "python3"
  },
  "language_info": {
   "codemirror_mode": {
    "name": "ipython",
    "version": 3
   },
   "file_extension": ".py",
   "mimetype": "text/x-python",
   "name": "python",
   "nbconvert_exporter": "python",
   "pygments_lexer": "ipython3",
   "version": "3.11.7"
  }
 },
 "nbformat": 4,
 "nbformat_minor": 4
}
