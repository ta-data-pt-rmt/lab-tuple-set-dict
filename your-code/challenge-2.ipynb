{
 "cells": [
  {
   "cell_type": "markdown",
   "metadata": {},
   "source": [
    "## Challenge 2: Sets\n",
    "\n",
    "There are a lot to learn about Python Sets and the information presented in the lesson is limited due to its length. To learn Python Sets in depth you are strongly encouraged to review the W3Schools tutorial on [Python Sets Examples and Methods](https://www.w3schools.com/python/python_sets.asp) before you work on this lab. Some difficult questions in this lab have their solutions in the W3Schools tutorial.\n",
    "\n",
    "#### First, import the Python `random` libary"
   ]
  },
  {
   "cell_type": "code",
   "execution_count": null,
   "metadata": {},
   "outputs": [],
   "source": [
    "import random"
   ]
  },
  {
   "cell_type": "markdown",
   "metadata": {},
   "source": [
    "#### 1 - In the cell below, create a list named `sample_list_1` with 80 random values. \n",
    "\n",
    "Requirements:\n",
    "\n",
    "* Each value is an integer falling between 0 and 100.\n",
    "* Each value in the list is unique.\n",
    "\n",
    "Print `sample_list_1` to review its values\n",
    "\n",
    "*Hint: use `random.sample` ([reference](https://docs.python.org/3/library/random.html#random.sample)).*"
   ]
  },
  {
   "cell_type": "code",
   "execution_count": 1,
   "metadata": {},
   "outputs": [
    {
     "name": "stdout",
     "output_type": "stream",
     "text": [
      "[43, 28, 4, 55, 39, 14, 96, 42, 46, 7, 99, 84, 63, 100, 3, 56, 68, 12, 92, 77, 53, 52, 61, 35, 72, 45, 51, 15, 25, 31, 40, 13, 81, 85, 75, 1, 33, 94, 44, 26, 34, 2, 59, 38, 91, 27, 32, 48, 47, 29, 23, 24, 69, 16, 5, 76, 95, 65, 89, 93, 30, 8, 17, 97, 98, 57, 19, 20, 22, 87, 21, 10, 49, 88, 82, 64, 11, 70, 54, 71]\n"
     ]
    }
   ],
   "source": [
    "import random\n",
    "\n",
    "sample_list_1 = random.sample(range(101), 80)\n",
    "print(sample_list_1)\n"
   ]
  },
  {
   "cell_type": "markdown",
   "metadata": {},
   "source": [
    "#### 2 - Convert `sample_list_1` to a set called `set1`. Print the length of the set. Is its length still 80?"
   ]
  },
  {
   "cell_type": "code",
   "execution_count": 2,
   "metadata": {},
   "outputs": [
    {
     "name": "stdout",
     "output_type": "stream",
     "text": [
      "80\n"
     ]
    }
   ],
   "source": [
    "set1 = set(sample_list_1)\n",
    "print(len(set1))"
   ]
  },
  {
   "cell_type": "markdown",
   "metadata": {},
   "source": [
    "#### 3 - Create another list named `sample_list_2` with 80 random values.\n",
    "\n",
    "Requirements:\n",
    "\n",
    "* Each value is an integer falling between 0 and 100.\n",
    "* The values in the list don't have to be unique.\n",
    "\n",
    "*Hint: Use a FOR loop.*"
   ]
  },
  {
   "cell_type": "code",
   "execution_count": 3,
   "metadata": {},
   "outputs": [
    {
     "name": "stdout",
     "output_type": "stream",
     "text": [
      "[21, 27, 46, 32, 73, 73, 80, 9, 77, 60, 50, 99, 93, 18, 98, 54, 86, 97, 35, 37, 34, 79, 4, 27, 90, 2, 77, 10, 98, 6, 90, 69, 43, 32, 17, 8, 73, 94, 20, 32, 16, 28, 69, 32, 51, 5, 7, 9, 67, 92, 29, 35, 56, 93, 21, 10, 16, 10, 1, 87, 97, 67, 60, 59, 46, 13, 47, 8, 7, 83, 48, 14, 8, 10, 63, 79, 3, 74, 9, 56]\n"
     ]
    }
   ],
   "source": [
    "import random\n",
    "\n",
    "sample_list_2 = []\n",
    "for _ in range(80):\n",
    "    sample_list_2.append(random.randint(0, 100))\n",
    "\n",
    "print(sample_list_2)\n"
   ]
  },
  {
   "cell_type": "markdown",
   "metadata": {},
   "source": [
    "#### 4 - Convert `sample_list_2` to a set called `set2`. Print the length of the set. Is its length still 80?"
   ]
  },
  {
   "cell_type": "code",
   "execution_count": 4,
   "metadata": {},
   "outputs": [
    {
     "name": "stdout",
     "output_type": "stream",
     "text": [
      "52\n"
     ]
    }
   ],
   "source": [
    "\n",
    "set2 = set(sample_list_2)\n",
    "print(len(set2))"
   ]
  },
  {
   "cell_type": "markdown",
   "metadata": {},
   "source": [
    "#### 5 - Identify the elements present in `set1` but not in `set2`. Assign the elements to a new set named `set3`."
   ]
  },
  {
   "cell_type": "code",
   "execution_count": 5,
   "metadata": {},
   "outputs": [
    {
     "name": "stdout",
     "output_type": "stream",
     "text": [
      "{11, 12, 15, 19, 22, 23, 24, 25, 26, 30, 31, 33, 38, 39, 40, 42, 44, 45, 49, 52, 53, 55, 57, 61, 64, 65, 68, 70, 71, 72, 75, 76, 81, 82, 84, 85, 88, 89, 91, 95, 96, 100}\n"
     ]
    }
   ],
   "source": [
    "set3 = set1 - set2\n",
    "print(set3)"
   ]
  },
  {
   "cell_type": "markdown",
   "metadata": {},
   "source": [
    "#### 6 - Identify the elements present in `set2` but not in `set1`. Assign the elements to a new set named `set4`."
   ]
  },
  {
   "cell_type": "code",
   "execution_count": 6,
   "metadata": {},
   "outputs": [
    {
     "name": "stdout",
     "output_type": "stream",
     "text": [
      "{67, 37, 6, 9, 73, 74, 79, 80, 18, 50, 83, 86, 90, 60}\n"
     ]
    }
   ],
   "source": [
    "set4 = set2 - set1\n",
    "print(set4)\n"
   ]
  },
  {
   "cell_type": "markdown",
   "metadata": {},
   "source": [
    "#### 7 - Now Identify the elements shared between `set1` and `set2`. Assign the elements to a new set named `set5`."
   ]
  },
  {
   "cell_type": "code",
   "execution_count": 7,
   "metadata": {},
   "outputs": [
    {
     "name": "stdout",
     "output_type": "stream",
     "text": [
      "{1, 2, 3, 4, 5, 7, 8, 10, 13, 14, 16, 17, 20, 21, 27, 28, 29, 32, 34, 35, 43, 46, 47, 48, 51, 54, 56, 59, 63, 69, 77, 87, 92, 93, 94, 97, 98, 99}\n"
     ]
    }
   ],
   "source": [
    "set5 = set1 & set2\n",
    "print(set5)\n"
   ]
  },
  {
   "cell_type": "markdown",
   "metadata": {},
   "source": [
    "#### 8 - Create an empty set called `set6`."
   ]
  },
  {
   "cell_type": "code",
   "execution_count": 10,
   "metadata": {},
   "outputs": [],
   "source": [
    "set6 = set()\n"
   ]
  },
  {
   "cell_type": "markdown",
   "metadata": {},
   "source": [
    "#### 9 - Add `set3` and `set5` to `set6` using the Python Set `update` method."
   ]
  },
  {
   "cell_type": "code",
   "execution_count": 11,
   "metadata": {},
   "outputs": [],
   "source": [
    "set6.update(set3, set5)\n"
   ]
  },
  {
   "cell_type": "markdown",
   "metadata": {},
   "source": [
    "#### 10 - Check if `set1` and `set6` are equal."
   ]
  },
  {
   "cell_type": "code",
   "execution_count": 12,
   "metadata": {},
   "outputs": [
    {
     "name": "stdout",
     "output_type": "stream",
     "text": [
      "set1 and set6 are equal\n"
     ]
    }
   ],
   "source": [
    "if set1 == set6:\n",
    "    print(\"set1 and set6 are equal\")\n",
    "else:\n",
    "    print(\"set1 and set6 are not equal\")"
   ]
  },
  {
   "cell_type": "markdown",
   "metadata": {},
   "source": [
    "#### 11 - Check if `set1` contains `set2` using the Python Set `issubset` method. Then check if `set1` contains `set3`.*"
   ]
  },
  {
   "cell_type": "code",
   "execution_count": 13,
   "metadata": {},
   "outputs": [
    {
     "name": "stdout",
     "output_type": "stream",
     "text": [
      "set1 does not contain set2\n",
      "set1 contains set3\n"
     ]
    }
   ],
   "source": [
    "# Check if set1 contains set2\n",
    "if set2.issubset(set1):\n",
    "    print(\"set1 contains set2\")\n",
    "else:\n",
    "    print(\"set1 does not contain set2\")\n",
    "\n",
    "# Check if set1 contains set3\n",
    "if set3.issubset(set1):\n",
    "    print(\"set1 contains set3\")\n",
    "else:\n",
    "    print(\"set1 does not contain set3\")"
   ]
  },
  {
   "cell_type": "markdown",
   "metadata": {},
   "source": [
    "#### 12 -Using the Python Set `union` method, aggregate `set3`, `set4`, and `set5`. Then aggregate `set1` and `set2`. \n",
    "\n",
    "#### Check if the aggregated values are equal."
   ]
  },
  {
   "cell_type": "code",
   "execution_count": null,
   "metadata": {},
   "outputs": [],
   "source": [
    "\n",
    "\n",
    "User\n",
    "1 - In the cell below, create a list named sample_list_1 with 80 random values.\n",
    "Requirements:\n",
    "\n",
    "Each value is an integer falling between 0 and 100.\n",
    "Each value in the list is unique.\n",
    "Print sample_list_1 to review its values\n",
    "\n",
    "Hint: use random.sample (reference).\n",
    "ChatGPT\n",
    "Sure, here's how you can create sample_list_1 with 80 unique random integers between 0 and 100:\n",
    "\n",
    "python\n",
    "Copy code\n",
    "import random\n",
    "\n",
    "sample_list_1 = random.sample(range(101), 80)\n",
    "print(sample_list_1)\n",
    "This code will create a list with 80 unique random integers between 0 and 100 and then print out the list for review.\n",
    "\n",
    "User\n",
    "2 - Convert sample_list_1 to a set called set1. Print the length of the set. Is its length still 80?\n",
    "ChatGPT\n",
    "Let's convert sample_list_1 to a set called set1 and then print the length of the set:\n",
    "\n",
    "python\n",
    "Copy code\n",
    "set1 = set(sample_list_1)\n",
    "print(len(set1))\n",
    "The length of set1 might not necessarily be 80 because a set contains only unique elements. If sample_list_1 had any duplicate values, they would have been removed when converting it to a set. So, the length of set1 could be less than 80 if there were any duplicates in sample_list_1.\n",
    "\n",
    "User\n",
    "3 - Create another list named sample_list_2 with 80 random values.\n",
    "Requirements:\n",
    "\n",
    "Each value is an integer falling between 0 and 100.\n",
    "The values in the list don't have to be unique.\n",
    "Hint: Use a FOR loop.\n",
    "ChatGPT\n",
    "Certainly! You can use a for loop to generate sample_list_2 with 80 random integers between 0 and 100, allowing for duplicates:\n",
    "\n",
    "python\n",
    "Copy code\n",
    "import random\n",
    "\n",
    "sample_list_2 = []\n",
    "for _ in range(80):\n",
    "    sample_list_2.append(random.randint(0, 100))\n",
    "\n",
    "print(sample_list_2)\n",
    "This code will create sample_list_2 with 80 random integers between 0 and 100, allowing for duplicates, and then print out the list for review.\n",
    "\n",
    "User\n",
    "4 - Convert sample_list_2 to a set called set2. Print the length of the set. Is its length still 80?\n",
    "ChatGPT\n",
    "Let's convert sample_list_2 to a set called set2 and then print the length of the set:\n",
    "\n",
    "python\n",
    "Copy code\n",
    "set2 = set(sample_list_2)\n",
    "print(len(set2))\n",
    "Since sample_list_2 allows duplicates, converting it to a set will remove the duplicates, so the length of set2 might not necessarily be 80. It could be less if there were any duplicate values in sample_list_2.\n",
    "\n",
    "User\n",
    "5 - Identify the elements present in set1 but not in set2. Assign the elements to a new set named set3.\n",
    "ChatGPT\n",
    "You can use the set difference operation (-) to identify the elements present in set1 but not in set2 and assign them to a new set named set3:\n",
    "\n",
    "python\n",
    "Copy code\n",
    "set3 = set1 - set2\n",
    "print(set3)\n",
    "This will create set3, which contains the elements present in set1 but not in set2. Then, it prints out set3 for review.\n",
    "\n",
    "User\n",
    "6 - Identify the elements present in set2 but not in set1. Assign the elements to a new set named set4.\n",
    "ChatGPT\n",
    "You can use the set difference operation (-) in the opposite order to identify the elements present in set2 but not in set1 and assign them to a new set named set4:\n",
    "\n",
    "python\n",
    "Copy code\n",
    "set4 = set2 - set1\n",
    "print(set4)\n",
    "This will create set4, which contains the elements present in set2 but not in set1. Then, it prints out set4 for review.\n",
    "\n",
    "User\n",
    "7 - Now Identify the elements shared between set1 and set2. Assign the elements to a new set named set\n",
    "ChatGPT\n",
    "You can use the set intersection operation (&) to identify the elements shared between set1 and set2 and assign them to a new set named set5:\n",
    "\n",
    "python\n",
    "Copy code\n",
    "set5 = set1 & set2\n",
    "print(set5)\n",
    "This will create set5, which contains the elements shared between set1 and set2. Then, it prints out set5 for review.\n",
    "\n",
    "User\n",
    "Create an empty set called set6\n",
    "ChatGPT\n",
    "Sure, you can create an empty set in Python using curly braces {}. Here's how you can create an empty set called set6:\n",
    "\n",
    "python\n",
    "Copy code\n",
    "set6 = set()\n",
    "User\n",
    "Add set3 and set5 to set6 using the Python Set update method\n",
    "ChatGPT\n",
    "Certainly! You can use the update() method to add the elements of set3 and set5 to set6. Here's how you can do it:\n",
    "\n",
    "python\n",
    "Copy code\n",
    "set6.update(set3, set5)\n",
    "This will add the elements from both set3 and set5 to set6.\n",
    "\n",
    "User\n",
    "- Check if set1 and set6 are equal.\n",
    "ChatGPT\n",
    "You can check if set1 and set6 are equal by using the equality operator (==). Here's how you can do it:\n",
    "\n",
    "python\n",
    "Copy code\n",
    "if set1 == set6:\n",
    "    print(\"set1 and set6 are equal\")\n",
    "else:\n",
    "    print(\"set1 and set6 are not equal\")\n",
    "This code will compare set1 and set6. If they contain the same elements, regardless of the order, it will print that they are equal; otherwise, it will print that they are not equal.\n",
    "\n",
    "User\n",
    " Check if set1 contains set2 using the Python Set issubset method. Then check if set1 contains set3.\n",
    "ChatGPT\n",
    "You can use the issubset() method to check if one set is a subset of another. Here's how you can check if set1 contains set2 and set3:\n",
    "\n",
    "python\n",
    "Copy code\n",
    "# Check if set1 contains set2\n",
    "if set2.issubset(set1):\n",
    "    print(\"set1 contains set2\")\n",
    "else:\n",
    "    print(\"set1 does not contain set2\")\n",
    "\n",
    "# Check if set1 contains set3\n",
    "if set3.issubset(set1):\n",
    "    print(\"set1 contains set3\")\n",
    "else:\n",
    "    print(\"set1 does not contain set3\")\n",
    "This code will check if set2 is a subset of set1 and if set3 is a subset of set1. Depending on the result, it will print the corresponding message.\n",
    "\n",
    "User\n",
    "-Using the Python Set union method, aggregate set3, set4, and set5. Then aggregate set1 and set2.\n",
    "Check if the aggregated values are equal.\n",
    "ChatGPT\n",
    "You can use the union() method to aggregate sets together. Here's how you can aggregate set3, set4, and set5, as well as set1 and set2, and then check if the aggregated values are equal:\n",
    "\n",
    "python\n",
    "Copy code\n",
    "# Aggregate set3, set4, and set5\n",
    "aggregated_sets = set3.union(set4, set5)\n",
    "\n",
    "# Aggregate set1 and set2\n",
    "aggregated_set1_set2 = set1.union(set2)\n",
    "\n",
    "# Check if the aggregated values are equal\n",
    "if aggregated_sets == aggregated_set1_set2:\n",
    "    print(\"The aggregated values are equal.\")\n",
    "else:\n",
    "    print(\"The aggregated values are not equal.\")\n"
   ]
  },
  {
   "cell_type": "markdown",
   "metadata": {},
   "source": [
    "#### 13 -Using the `pop` method, remove the first element from `set1`."
   ]
  },
  {
   "cell_type": "code",
   "execution_count": null,
   "metadata": {},
   "outputs": [],
   "source": [
    "# Your code here\n"
   ]
  },
  {
   "cell_type": "markdown",
   "metadata": {},
   "source": [
    "#### 14 -Remove every element in the following list from `set1` if they are present in the set. Print the remaining elements.\n",
    "\n",
    "```\n",
    "list_to_remove = [1, 9, 11, 19, 21, 29, 31, 39, 41, 49, 51, 59, 61, 69, 71, 79, 81, 89, 91, 99]\n",
    "```"
   ]
  },
  {
   "cell_type": "code",
   "execution_count": null,
   "metadata": {},
   "outputs": [],
   "source": [
    "# Your code here\n"
   ]
  },
  {
   "cell_type": "markdown",
   "metadata": {},
   "source": [
    "#### 15 -The objective of this lab is to provide you a overview of manipulating sets in Python and how they can be integrated within a real usecase\n",
    "#### For the exercises below it's strongly advised to quickly check this link: https://docs.python.org/2/library/sets.html#sets.Set\n",
    "#### Imagine you need to create the grocery list for your family! Below you will see a list of items each family member wants. There will be repetitions because this family has the habbit of each time they notice something is missing to write it down. The problem is that they don't really talk to each other and therefore some items in the list are repeated. With the collection of questions below you will see how they solve repetion and create a grocery list with unique elements.\n",
    "\n"
   ]
  },
  {
   "cell_type": "code",
   "execution_count": null,
   "metadata": {},
   "outputs": [],
   "source": [
    "father_list = ['garlic', 'watermelon', 'toilet paper', 'yogurt', 'onions', 'gums', 'flour', 'cucumber', 'watermelon', 'yogurt', 'garlic']\n",
    "\n",
    "mother_list = []\n",
    "\n",
    "Jo_list = ['blueberries', 'sugar', 'watermelon', 'gums', 'tomatoes', 'yogurt', 'juice', 'milk', 'onions', 'garlic', 'cucumber', 'sugar', 'blueberries', 'gums', 'yogurt']\n",
    "\n",
    "Carlos_list = ['tomatoes', 'water', 'onions', 'blueberries', 'garlic', 'flour', 'cherries', 'tomatoes', 'onions', 'water', 'tomatoes', 'toilet paper']\n",
    "\n",
    "Mattia_list = []\n",
    "\n",
    "\n"
   ]
  },
  {
   "cell_type": "markdown",
   "metadata": {},
   "source": [
    "#### 15.1- As you can see there are items repeated in each list. Creat a sequence of iterable elements with dintinct items that each family member wants. You can do it in two different ways. Assign each one (set) to a variable with the name of the family member (ex: father_set)."
   ]
  },
  {
   "cell_type": "code",
   "execution_count": 14,
   "metadata": {},
   "outputs": [
    {
     "name": "stdout",
     "output_type": "stream",
     "text": [
      "Father's set: {1, 2, 3, 4, 5, 6}\n",
      "Mother's set: {3, 4, 5, 6, 7, 8}\n",
      "Child's set: {4, 5, 6, 7, 8, 9}\n"
     ]
    }
   ],
   "source": [
    "# Original lists with repeated items\n",
    "father_list = [1, 2, 3, 4, 4, 5, 6]\n",
    "mother_list = [3, 4, 4, 5, 6, 7, 8]\n",
    "child_list = [4, 5, 6, 6, 7, 8, 9]\n",
    "\n",
    "# Creating sets with distinct items for each family member\n",
    "father_set = set(father_list)\n",
    "mother_set = set(mother_list)\n",
    "child_set = set(child_list)\n",
    "\n",
    "# Printing the sets\n",
    "print(\"Father's set:\", father_set)\n",
    "print(\"Mother's set:\", mother_set)\n",
    "print(\"Child's set:\", child_set)"
   ]
  },
  {
   "cell_type": "markdown",
   "metadata": {},
   "source": [
    "#### 15.2- Q: Mattia wants the same items that his brother Carlos and his sister Jo but doesn't want anything they both want.\n",
    "\n",
    "##### Hint: check out the documentation for `x.symmetric_difference(y)`."
   ]
  },
  {
   "cell_type": "code",
   "execution_count": 15,
   "metadata": {},
   "outputs": [
    {
     "name": "stdout",
     "output_type": "stream",
     "text": [
      "Mattia's set: {1, 2, 3, 6, 7, 8}\n"
     ]
    }
   ],
   "source": [
    "# Carlos and Jo's sets\n",
    "carlos_set = {1, 2, 3, 4, 5}\n",
    "jo_set = {4, 5, 6, 7, 8}\n",
    "\n",
    "# Mattia's set (items from Carlos or Jo but not both)\n",
    "mattia_set = carlos_set.symmetric_difference(jo_set)\n",
    "\n",
    "# Printing Mattia's set\n",
    "print(\"Mattia's set:\", mattia_set)\n"
   ]
  },
  {
   "cell_type": "markdown",
   "metadata": {},
   "source": [
    "#### 15.3- The line of code below  will  generate a list of random elements from a collection of items, with replacement. Run it and from it create a sequence of unique elements and assign it to the variable mother.\n"
   ]
  },
  {
   "cell_type": "code",
   "execution_count": 16,
   "metadata": {},
   "outputs": [
    {
     "name": "stdout",
     "output_type": "stream",
     "text": [
      "['sugar', 'juice', 'gums', 'water', 'sugar', 'mushrooms', 'yogurt', 'milk', 'chocolate', 'cucumber']\n"
     ]
    }
   ],
   "source": [
    "import random\n",
    "items = ['milk', 'water', 'chocolate', 'blueberries', 'shampoo', 'flour', 'bread', 'sugar', 'watermelon', 'vinegar', 'tomatoes', 'yogurt', 'juice', 'gums', 'onions', 'garlic', 'cucumber', 'mushrooms', 'toilet paper', 'oranges', 'deodorant', 'cherries']\n",
    "\n",
    "mother_list = random.choices(items,k = 10) # https://docs.python.org/3/library/random.html\n",
    "\n",
    "print(mother_list)"
   ]
  },
  {
   "cell_type": "code",
   "execution_count": 17,
   "metadata": {},
   "outputs": [
    {
     "name": "stdout",
     "output_type": "stream",
     "text": [
      "{'cherries', 'toilet paper', 'flour', 'sugar', 'watermelon', 'vinegar', 'cucumber', 'mushrooms', 'yogurt', 'gums'}\n"
     ]
    }
   ],
   "source": [
    "import random\n",
    "\n",
    "items = ['milk', 'water', 'chocolate', 'blueberries', 'shampoo', 'flour', 'bread', 'sugar', 'watermelon', 'vinegar', 'tomatoes', 'yogurt', 'juice', 'gums', 'onions', 'garlic', 'cucumber', 'mushrooms', 'toilet paper', 'oranges', 'deodorant', 'cherries']\n",
    "\n",
    "mother_list = random.choices(items, k=10)\n",
    "\n",
    "mother = set(mother_list)\n",
    "\n",
    "print(mother)\n"
   ]
  },
  {
   "cell_type": "markdown",
   "metadata": {},
   "source": [
    "#### 15.4- Before leaving the house to the grocery store the father found a lot of toilet paper, so the mother decided to remove it from the items needed to be bought. Use the `.discard()` method to remove from each set created before the 'toilet paper'. \n",
    "\n",
    "#### Hint: Try to first create a list contaning the variables of each set created before, then loop through them and remove the unecessary item. \n",
    "\n",
    "##### Note: The`.discard()` method will remove and update the set without the need of reassignment.\n",
    "\n"
   ]
  },
  {
   "cell_type": "code",
   "execution_count": 18,
   "metadata": {},
   "outputs": [
    {
     "name": "stdout",
     "output_type": "stream",
     "text": [
      "Father's set after removing 'toilet paper': {1, 2, 3, 4, 5, 6}\n",
      "Mother's set after removing 'toilet paper': {3, 4, 5, 6, 7, 8}\n",
      "Child's set after removing 'toilet paper': {4, 5, 6, 7, 8, 9}\n",
      "Mattia's set after removing 'toilet paper': {1, 2, 3, 6, 7, 8}\n"
     ]
    }
   ],
   "source": [
    "# List containing the variables of each set\n",
    "sets = [father_set, mother_set, child_set, mattia_set]\n",
    "\n",
    "# Remove 'toilet paper' from each set\n",
    "for s in sets:\n",
    "    s.discard('toilet paper')\n",
    "\n",
    "# Print the updated sets\n",
    "print(\"Father's set after removing 'toilet paper':\", father_set)\n",
    "print(\"Mother's set after removing 'toilet paper':\", mother_set)\n",
    "print(\"Child's set after removing 'toilet paper':\", child_set)\n",
    "print(\"Mattia's set after removing 'toilet paper':\", mattia_set)"
   ]
  },
  {
   "cell_type": "markdown",
   "metadata": {},
   "source": [
    "#### 15.5- Create a set with all the groceries needed to be bought for the house (no repetitions)."
   ]
  },
  {
   "cell_type": "code",
   "execution_count": 19,
   "metadata": {},
   "outputs": [
    {
     "name": "stdout",
     "output_type": "stream",
     "text": [
      "All groceries needed to be bought for the house: {1, 2, 3, 4, 5, 6, 7, 8, 9}\n",
      "All groceries needed to be bought for the house: {1, 2, 3, 4, 5, 6, 7, 8, 9}\n"
     ]
    }
   ],
   "source": [
    "# Combine all sets into one set\n",
    "all_groceries = father_set | mother_set | child_set | mattia_set\n",
    "\n",
    "# Print the set of all groceries needed to be bought\n",
    "print(\"All groceries needed to be bought for the house:\", all_groceries)# Combine all sets into one set\n",
    "all_groceries = father_set | mother_set | child_set | mattia_set\n",
    "\n",
    "# Print the set of all groceries needed to be bought\n",
    "print(\"All groceries needed to be bought for the house:\", all_groceries)"
   ]
  },
  {
   "cell_type": "markdown",
   "metadata": {},
   "source": [
    "#### 15.6- The Father said that he could only buy five items this time. So he decided to arbitraly pick wich ones to buy this time.\n",
    "\n",
    "##### Hint: use the `.pop()` method."
   ]
  },
  {
   "cell_type": "code",
   "execution_count": 20,
   "metadata": {},
   "outputs": [
    {
     "name": "stdout",
     "output_type": "stream",
     "text": [
      "Item bought this time: 1\n",
      "Item bought this time: 2\n",
      "Item bought this time: 3\n",
      "Item bought this time: 4\n",
      "Item bought this time: 5\n",
      "Remaining items in the set: {6, 7, 8, 9}\n"
     ]
    }
   ],
   "source": [
    "# Arbitrarily pick five items to buy\n",
    "for _ in range(5):\n",
    "    if all_groceries:\n",
    "        item = all_groceries.pop()\n",
    "        print(\"Item bought this time:\", item)\n",
    "    else:\n",
    "        print(\"No more items left to buy!\")\n",
    "\n",
    "# Print the remaining items in the set\n",
    "print(\"Remaining items in the set:\", all_groceries)\n"
   ]
  },
  {
   "cell_type": "code",
   "execution_count": null,
   "metadata": {},
   "outputs": [],
   "source": []
  }
 ],
 "metadata": {
  "kernelspec": {
   "display_name": "Python 3 (ipykernel)",
   "language": "python",
   "name": "python3"
  },
  "language_info": {
   "codemirror_mode": {
    "name": "ipython",
    "version": 3
   },
   "file_extension": ".py",
   "mimetype": "text/x-python",
   "name": "python",
   "nbconvert_exporter": "python",
   "pygments_lexer": "ipython3",
   "version": "3.11.7"
  }
 },
 "nbformat": 4,
 "nbformat_minor": 4
}
